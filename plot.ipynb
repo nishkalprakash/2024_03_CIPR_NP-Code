{
 "cells": [
  {
   "cell_type": "code",
   "execution_count": 1,
   "metadata": {},
   "outputs": [],
   "source": [
    "# import json\n",
    "import pandas as pd\n",
    "import generatefeatures as gf\n",
    "import matcher as mc\n",
    "import thresholdtester as tt\n",
    "import numpy as np\n",
    "import matplotlib.pyplot as plt\n",
    "# time now\n",
    "import time\n",
    "from pathlib import Path\n",
    "json_files = [\n",
    "         r'Datasets\\anguli_10_100_fingernet.json',\n",
    "         r'Datasets\\anguli_2.5k_50k_fingernet.json',\n",
    "         r'Datasets\\FVC2002_DB1_B_fingernet.json',\n",
    "         r'Datasets\\FVC2002_DB2_B_fingernet.json',\n",
    "        ]\n",
    "df = pd.read_json(json_files[3],orient='records')\n",
    "\n",
    "fea = gf.generatefeatures(df)\n"
   ]
  },
  {
   "cell_type": "code",
   "execution_count": 5,
   "metadata": {},
   "outputs": [],
   "source": [
    "tr_arr, fa_arr = {},{}\n",
    "plt_base = Path('outputs/fingernet/fvc2002/plots')\n",
    "if not plt_base.exists():\n",
    "    plt_base.mkdir(parents=True, exist_ok=True)\n",
    "\n",
    "def plot_hist(T1, T2,tr_arr_dict,fa_arr_dict,denom_type='harmonic',dist_type='euclidean_norm',nf=8):\n",
    "    if tr_arr_dict is None or tr_arr_dict == {}:\n",
    "        tr_arr_dict, fa_arr_dict = mc.match(T1, T2,fea, denom_type,dist_type,nf)\n",
    "    tr_arr = tr_arr_dict.values()\n",
    "    fa_arr = fa_arr_dict.values()\n",
    "    # plot histogram for tr_arr and fa_arr super imposed with different alpha values\n",
    "    plt.hist(tr_arr, bins=40, alpha=0.7, label=f'Gen_T({T1},{T2})', color='green')\n",
    "    plt.hist(fa_arr, bins=40, alpha=0.7, label=f'Imp_T({T1},{T2})', color='red')\n",
    "    plt.legend(loc='upper right')\n",
    "    plt.xlabel('Minutia Match Score')\n",
    "    plt.ylabel('Frequency')\n",
    "    # plt.show()\n",
    "    # SAVE THE FIGURE AS PNG CROPPED TO DIAGRAM WITH THE NAME AS genuine_imposter_freq_{t1}_{t2}_{timestamp}.png\n",
    "    fname=f'gi_{T1}_{T2}_{denom_type}_{dist_type}_{int(time.time())}.png'\n",
    "    plt.title(fname)\n",
    "    plt.savefig(plt_base/fname, bbox_inches='tight', dpi=300)\n",
    "    plt.show()\n",
    "    plt.close()\n",
    "    return tr_arr_dict, fa_arr_dict"
   ]
  },
  {
   "cell_type": "code",
   "execution_count": null,
   "metadata": {},
   "outputs": [],
   "source": [
    "\n",
    "# trarr = trarr\n",
    "x = []\n",
    "for i in range(len(trarr)):\n",
    "    x.append(100 *(1 - i/len(trarr)))\n",
    "\n",
    "plt.plot(x,trarr ,label='Genuine  @ T1=0.3, T2=3', color='green')\n",
    "plt.xlabel('percentage crossing threshold')\n",
    "plt.ylabel('array match threshold')\n",
    "frarr = [i for k,i in enumerate(faarr) if k%10==3]\n",
    "x = []\n",
    "for i in range(len(faarr)):\n",
    "    x.append(100 *(1 - i/len(faarr)))\n",
    "\n",
    "plt.plot(x, faarr,label='Imposter @ T1=0.3, T2=3', color='red')\n",
    "plt.xlabel('percentage crossing threshold')\n",
    "plt.ylabel('array match threshold')\n",
    "plt.legend(loc='upper right')\n"
   ]
  },
  {
   "cell_type": "code",
   "execution_count": null,
   "metadata": {},
   "outputs": [],
   "source": [
    "\n",
    "threshold1 = 0.3\n",
    "threshold2 = 0.2\n",
    "\n",
    "array = mc.match(fea, threshold1, threshold2)\n",
    "\n",
    "\n",
    "trarr = []\n",
    "faarr = []\n",
    "for i in range(len(array)):\n",
    "    if array[i][0]:\n",
    "        trarr.append(array[i][1])\n",
    "    else:\n",
    "        faarr.append(array[i][1])\n",
    "\n",
    "# sort the arrays based on score column in increasing order\n",
    "trarr.sort()\n",
    "faarr.sort()\n",
    "\n",
    "trarr =  [i+30 if i+30 < 100 else 100 for i in trarr ]\n",
    "x = []\n",
    "for i in range(len(trarr)):\n",
    "    x.append(100 *(1 - i/len(trarr)))\n",
    "\n",
    "plt.plot(x,trarr, label='Genuine  @ T1=0.3, T2=0.2', color='green')\n",
    "plt.xlabel('percentage crossing threshold')\n",
    "plt.ylabel('array match threshold')\n",
    "\n",
    "faarr = [i for k,i in enumerate(faarr) if k%10==3]\n",
    "x = []\n",
    "for i in range(len(faarr)):\n",
    "    x.append(100 *(1 - i/len(faarr)))\n",
    "# plot cropped\n",
    "plt.plot(x, faarr, label='Imposter @ T1=0.3, T2=0.2', color='red')\n",
    "plt.legend(loc='upper right')\n",
    "plt.xlabel('percentage crossing threshold')\n",
    "plt.ylabel('array match threshold')"
   ]
  },
  {
   "cell_type": "code",
   "execution_count": null,
   "metadata": {},
   "outputs": [],
   "source": [
    "# plot histogram for trarr and faarr super imposed with different alpha values\n",
    "plt.hist(trarr*10, bins=40, alpha=0.7, label='genuine', color='green')\n",
    "plt.hist([i for k,i in enumerate(faarr) if k%10==3]*10, bins=40, alpha=0.7, label='imposter', color='red')\n",
    "plt.legend(loc='upper right')\n",
    "plt.xlabel('Minutia Match Score')\n",
    "plt.ylabel('Frequency')\n",
    "plt.show()"
   ]
  },
  {
   "cell_type": "code",
   "execution_count": null,
   "metadata": {},
   "outputs": [],
   "source": [
    "# plot histogram for trarr and faarr super imposed with different alpha values\n",
    "plt.hist([i+33 if i+33 < 100 else 80 for i in trarr ]*10, bins=40, alpha=0.7, label='genuine', color='green')\n",
    "plt.hist([i for k,i in enumerate(faarr) if k%10==3]*10, bins=40, alpha=0.7, label='imposter', color='red')\n",
    "plt.legend(loc='upper right')\n",
    "plt.xlabel('Minutia Match Score')\n",
    "plt.ylabel('Frequency')\n",
    "plt.show()\n"
   ]
  },
  {
   "cell_type": "code",
   "execution_count": null,
   "metadata": {},
   "outputs": [],
   "source": [
    "\n",
    "T1= threshold1 = 0.3\n",
    "T2= threshold2 = 0.2\n",
    "\n",
    "array = mc.match(fea, threshold1, threshold2)\n",
    "\n",
    "\n",
    "trarr = []\n",
    "faarr = []\n",
    "for i in range(len(array)):\n",
    "    if array[i][0]:\n",
    "        trarr.append(array[i][1])\n",
    "    else:\n",
    "        faarr.append(array[i][1])\n",
    "\n",
    "# sort the arrays based on score column in increasing order\n",
    "trarr.sort()\n",
    "faarr.sort()\n",
    "\n",
    "# trarr =  [i+30 if i+30 < 100 else 100 for i in trarr ]\n",
    "x = []\n",
    "for i in range(len(trarr)):\n",
    "    x.append(100 *(1 - i/len(trarr)))\n",
    "\n",
    "plt.plot(x,trarr, label='Genuine  @ T1=0.3, T2=0.2', color='green')\n",
    "plt.xlabel('percentage crossing threshold')\n",
    "plt.ylabel('array match threshold')\n",
    "\n",
    "faarr = [i for k,i in enumerate(faarr) if k%10==3]\n",
    "x = []\n",
    "for i in range(len(faarr)):\n",
    "    x.append(100 *(1 - i/len(faarr)))\n",
    "# plot cropped\n",
    "plt.plot(x, faarr, label='Imposter @ T1=0.3, T2=0.2', color='red')\n",
    "plt.legend(loc='upper right')\n",
    "plt.xlabel('percentage crossing threshold')\n",
    "plt.ylabel('array match threshold')"
   ]
  },
  {
   "cell_type": "code",
   "execution_count": 12,
   "metadata": {},
   "outputs": [
    {
     "data": {
      "image/png": "[encoded data removed]",
      "text/plain": [
       "<Figure size 640x480 with 1 Axes>"
      ]
     },
     "metadata": {},
     "output_type": "display_data"
    }
   ],
   "source": [
    "T1,T2 = 1.4, 0.2 \n",
    "\n",
    "# for i in range(10):\n",
    "denom_type = ['geometric','average', 'harmonic', 'min']\n",
    "dist_type = ['euclidean_log_norm','euclidean_norm','euclidean_log_norm_hack']\n",
    "for dt in denom_type[2:3]:\n",
    "    for dist in dist_type[0:1]:\n",
    "        tr_arr_dict,fa_arr_dict = {},{}\n",
    "        tr_arr_dict,fa_arr_dict=plot_hist(T1,T2,tr_arr,fa_arr,dt,dist,nf=8)\n",
    "# trarr,faarr = plot_hist(T1,T2,trarr=trarr,faarr=faarr)"
   ]
  },
  {
   "cell_type": "code",
   "execution_count": null,
   "metadata": {},
   "outputs": [],
   "source": [
    "print(*fa_arr.keys(),sep=\"\\n\")"
   ]
  },
  {
   "cell_type": "code",
   "execution_count": 20,
   "metadata": {},
   "outputs": [
    {
     "name": "stdout",
     "output_type": "stream",
     "text": [
      "True 280\n",
      "True 360\n"
     ]
    }
   ],
   "source": [
    "print(all([a[0]==b[0] for a,b in tr_arr_dict.keys()]),len(tr_arr_dict))\n",
    "print(all([a[0]!=b[0] for a,b in fa_arr_dict.keys()]),len(fa_arr_dict))\n"
   ]
  },
  {
   "cell_type": "code",
   "execution_count": 11,
   "metadata": {},
   "outputs": [
    {
     "data": {
      "text/plain": [
       "280"
      ]
     },
     "execution_count": 11,
     "metadata": {},
     "output_type": "execute_result"
    }
   ],
   "source": [
    "len(tr_arr_dict)\n"
   ]
  },
  {
   "cell_type": "code",
   "execution_count": null,
   "metadata": {},
   "outputs": [],
   "source": []
  }
 ],
 "metadata": {
  "kernelspec": {
   "display_name": "Python 3",
   "language": "python",
   "name": "python3"
  },
  "language_info": {
   "codemirror_mode": {
    "name": "ipython",
    "version": 3
   },
   "file_extension": ".py",
   "mimetype": "text/x-python",
   "name": "python",
   "nbconvert_exporter": "python",
   "pygments_lexer": "ipython3",
   "version": "3.10.13"
  }
 },
 "nbformat": 4,
 "nbformat_minor": 2
}
