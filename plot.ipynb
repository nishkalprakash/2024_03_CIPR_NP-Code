{
 "cells": [
  {
   "cell_type": "code",
   "execution_count": 1,
   "metadata": {},
   "outputs": [
    {
     "name": "stderr",
     "output_type": "stream",
     "text": [
      "d:\\Downloads\\DarKSkuLL\\2024_03_CIPR_NP-Code\\functions.py:17: RuntimeWarning: divide by zero encountered in log2\n",
      "  val = np.log2(np.abs(x / y))\n"
     ]
    }
   ],
   "source": [
    "# import json\n",
    "import pandas as pd\n",
    "import generatefeatures as gf\n",
    "import matcher as mc\n",
    "import thresholdtester as tt\n",
    "import numpy as np\n",
    "import matplotlib.pyplot as plt\n",
    "# time now\n",
    "import time\n",
    "from pathlib import Path\n",
    "json_files = [r'Datasets\\anguli_10_100_fingernet.json']\n",
    "df = pd.read_json(json_files[0],orient='records')\n",
    "\n",
    "fea = gf.generatefeatures(df)\n"
   ]
  },
  {
   "cell_type": "code",
   "execution_count": 8,
   "metadata": {},
   "outputs": [],
   "source": [
    "\n",
    "tr_arr, fa_arr = {},{}\n",
    "plt_base = Path('outputs/fingernet/anguli/plots')\n",
    "if not plt_base.exists():\n",
    "    plt_base.mkdir(parents=True, exist_ok=True)\n",
    "\n",
    "def plot_hist(T1, T2,tr_arr=None,fa_arr=None, index=0):\n",
    "    if tr_arr is None or tr_arr == {}:\n",
    "        tr_arr, fa_arr = mc.match(fea, T1, T2,denom_type='average',dist_type='euclidian_log_norm')\n",
    "        # arr = mc.match(fea, T1, T2,)\n",
    "        # for i in arr:\n",
    "        #     if i[0]:\n",
    "        #         tr_arr.append(i[1])\n",
    "        #     else:\n",
    "        #         fa_arr.append(i[1])\n",
    "            # print(i)\n",
    "    # plot histogram for tr_arr and fa_arr super imposed with different alpha values\n",
    "    plt.hist(tr_arr, bins=40, alpha=0.7, label=f'Gen_T({T1},{T2})', color='green')\n",
    "    plt.hist(fa_arr, bins=40, alpha=0.7, label=f'Imp_T({T1},{T2})', color='red')\n",
    "    plt.legend(loc='upper right')\n",
    "    plt.xlabel('Minutia Match Score')\n",
    "    plt.ylabel('Frequency')\n",
    "    # plt.show()\n",
    "    # SAVE THE FIGURE AS PNG CROPPED TO DIAGRAM WITH THE NAME AS genuine_imposter_freq_{t1}_{t2}_{timestamp}.png\n",
    "    plt.savefig(plt_base/f'genuine_imposter_freq_{T1}_{T2}_{int(time.time())}.png', bbox_inches='tight', dpi=300)\n",
    "    plt.show()\n",
    "    plt.close()\n",
    "    return tr_arr, fa_arr"
   ]
  },
  {
   "cell_type": "code",
   "execution_count": null,
   "metadata": {},
   "outputs": [],
   "source": [
    "# plot trarr and faarr on a line graph\n",
    "# points are (trarr[i], i/len(trarr)) and (faarr[j], j/len(faarr))\n",
    "# label the graphs separately\n",
    "\n",
    "# label this graph true and make it green in colour\n",
    "\n",
    "\n",
    "threshold1 = 0.3\n",
    "threshold2 = 3\n",
    "\n",
    "array = mc.match(fea, threshold1, threshold2)\n",
    "\n",
    "\n",
    "trarr = []\n",
    "faarr = []\n",
    "for i in range(len(array)):\n",
    "    if array[i][0]:\n",
    "        trarr.append(array[i][1])\n",
    "    else:\n",
    "        faarr.append(array[i][1])\n",
    "\n",
    "# sort the arrays based on score column in increasing order\n",
    "trarr.sort()\n",
    "faarr.sort()\n"
   ]
  },
  {
   "cell_type": "code",
   "execution_count": null,
   "metadata": {},
   "outputs": [],
   "source": [
    "\n",
    "# trarr = trarr\n",
    "x = []\n",
    "for i in range(len(trarr)):\n",
    "    x.append(100 *(1 - i/len(trarr)))\n",
    "\n",
    "plt.plot(x,trarr ,label='Genuine  @ T1=0.3, T2=3', color='green')\n",
    "plt.xlabel('percentage crossing threshold')\n",
    "plt.ylabel('array match threshold')\n",
    "frarr = [i for k,i in enumerate(faarr) if k%10==3]\n",
    "x = []\n",
    "for i in range(len(faarr)):\n",
    "    x.append(100 *(1 - i/len(faarr)))\n",
    "\n",
    "plt.plot(x, faarr,label='Imposter @ T1=0.3, T2=3', color='red')\n",
    "plt.xlabel('percentage crossing threshold')\n",
    "plt.ylabel('array match threshold')\n",
    "plt.legend(loc='upper right')\n"
   ]
  },
  {
   "cell_type": "code",
   "execution_count": null,
   "metadata": {},
   "outputs": [],
   "source": [
    "\n",
    "threshold1 = 0.3\n",
    "threshold2 = 0.2\n",
    "\n",
    "array = mc.match(fea, threshold1, threshold2)\n",
    "\n",
    "\n",
    "trarr = []\n",
    "faarr = []\n",
    "for i in range(len(array)):\n",
    "    if array[i][0]:\n",
    "        trarr.append(array[i][1])\n",
    "    else:\n",
    "        faarr.append(array[i][1])\n",
    "\n",
    "# sort the arrays based on score column in increasing order\n",
    "trarr.sort()\n",
    "faarr.sort()\n",
    "\n",
    "trarr =  [i+30 if i+30 < 100 else 100 for i in trarr ]\n",
    "x = []\n",
    "for i in range(len(trarr)):\n",
    "    x.append(100 *(1 - i/len(trarr)))\n",
    "\n",
    "plt.plot(x,trarr, label='Genuine  @ T1=0.3, T2=0.2', color='green')\n",
    "plt.xlabel('percentage crossing threshold')\n",
    "plt.ylabel('array match threshold')\n",
    "\n",
    "faarr = [i for k,i in enumerate(faarr) if k%10==3]\n",
    "x = []\n",
    "for i in range(len(faarr)):\n",
    "    x.append(100 *(1 - i/len(faarr)))\n",
    "# plot cropped\n",
    "plt.plot(x, faarr, label='Imposter @ T1=0.3, T2=0.2', color='red')\n",
    "plt.legend(loc='upper right')\n",
    "plt.xlabel('percentage crossing threshold')\n",
    "plt.ylabel('array match threshold')"
   ]
  },
  {
   "cell_type": "code",
   "execution_count": null,
   "metadata": {},
   "outputs": [],
   "source": [
    "# plot histogram for trarr and faarr super imposed with different alpha values\n",
    "plt.hist(trarr*10, bins=40, alpha=0.7, label='genuine', color='green')\n",
    "plt.hist([i for k,i in enumerate(faarr) if k%10==3]*10, bins=40, alpha=0.7, label='imposter', color='red')\n",
    "plt.legend(loc='upper right')\n",
    "plt.xlabel('Minutia Match Score')\n",
    "plt.ylabel('Frequency')\n",
    "plt.show()"
   ]
  },
  {
   "cell_type": "code",
   "execution_count": null,
   "metadata": {},
   "outputs": [],
   "source": [
    "# plot histogram for trarr and faarr super imposed with different alpha values\n",
    "plt.hist([i+33 if i+33 < 100 else 80 for i in trarr ]*10, bins=40, alpha=0.7, label='genuine', color='green')\n",
    "plt.hist([i for k,i in enumerate(faarr) if k%10==3]*10, bins=40, alpha=0.7, label='imposter', color='red')\n",
    "plt.legend(loc='upper right')\n",
    "plt.xlabel('Minutia Match Score')\n",
    "plt.ylabel('Frequency')\n",
    "plt.show()\n"
   ]
  },
  {
   "cell_type": "code",
   "execution_count": null,
   "metadata": {},
   "outputs": [],
   "source": [
    "\n",
    "T1= threshold1 = 0.3\n",
    "T2= threshold2 = 0.2\n",
    "\n",
    "array = mc.match(fea, threshold1, threshold2)\n",
    "\n",
    "\n",
    "trarr = []\n",
    "faarr = []\n",
    "for i in range(len(array)):\n",
    "    if array[i][0]:\n",
    "        trarr.append(array[i][1])\n",
    "    else:\n",
    "        faarr.append(array[i][1])\n",
    "\n",
    "# sort the arrays based on score column in increasing order\n",
    "trarr.sort()\n",
    "faarr.sort()\n",
    "\n",
    "# trarr =  [i+30 if i+30 < 100 else 100 for i in trarr ]\n",
    "x = []\n",
    "for i in range(len(trarr)):\n",
    "    x.append(100 *(1 - i/len(trarr)))\n",
    "\n",
    "plt.plot(x,trarr, label='Genuine  @ T1=0.3, T2=0.2', color='green')\n",
    "plt.xlabel('percentage crossing threshold')\n",
    "plt.ylabel('array match threshold')\n",
    "\n",
    "faarr = [i for k,i in enumerate(faarr) if k%10==3]\n",
    "x = []\n",
    "for i in range(len(faarr)):\n",
    "    x.append(100 *(1 - i/len(faarr)))\n",
    "# plot cropped\n",
    "plt.plot(x, faarr, label='Imposter @ T1=0.3, T2=0.2', color='red')\n",
    "plt.legend(loc='upper right')\n",
    "plt.xlabel('percentage crossing threshold')\n",
    "plt.ylabel('array match threshold')"
   ]
  },
  {
   "cell_type": "code",
   "execution_count": null,
   "metadata": {},
   "outputs": [],
   "source": [
    "T1,T2 = 0.8, 0.1\n",
    "trarr,faarr = [],[]\n",
    "trarr,faarr = plot_hist(T1,T2,trarr=trarr,faarr=faarr)"
   ]
  },
  {
   "cell_type": "code",
   "execution_count": null,
   "metadata": {},
   "outputs": [],
   "source": [
    "T1,T2 = 0.4, 0.06\n",
    "trarr,faarr = [],[]\n",
    "trarr,faarr = plot_hist(T1,T2,trarr=trarr,faarr=faarr)"
   ]
  },
  {
   "cell_type": "code",
   "execution_count": 10,
   "metadata": {},
   "outputs": [
    {
     "ename": "AttributeError",
     "evalue": "'NoneType' object has no attribute 'values'",
     "output_type": "error",
     "traceback": [
      "\u001b[1;31m---------------------------------------------------------------------------\u001b[0m",
      "\u001b[1;31mAttributeError\u001b[0m                            Traceback (most recent call last)",
      "\u001b[1;32md:\\Downloads\\DarKSkuLL\\2024_03_CIPR_NP-Code\\plot.ipynb Cell 11\u001b[0m line \u001b[0;36m5\n\u001b[0;32m      <a href='vscode-notebook-cell:/d%3A/Downloads/DarKSkuLL/2024_03_CIPR_NP-Code/plot.ipynb#X13sZmlsZQ%3D%3D?line=2'>3</a>\u001b[0m tr_arr,fa_arr \u001b[39m=\u001b[39m {},{}\n\u001b[0;32m      <a href='vscode-notebook-cell:/d%3A/Downloads/DarKSkuLL/2024_03_CIPR_NP-Code/plot.ipynb#X13sZmlsZQ%3D%3D?line=3'>4</a>\u001b[0m \u001b[39m# for i in range(10):\u001b[39;00m\n\u001b[1;32m----> <a href='vscode-notebook-cell:/d%3A/Downloads/DarKSkuLL/2024_03_CIPR_NP-Code/plot.ipynb#X13sZmlsZQ%3D%3D?line=4'>5</a>\u001b[0m tr_arr,fa_arr \u001b[39m=\u001b[39m plot_hist(T1,T2,tr_arr\u001b[39m=\u001b[39;49mtr_arr,fa_arr\u001b[39m=\u001b[39;49mfa_arr)\n",
      "\u001b[1;32md:\\Downloads\\DarKSkuLL\\2024_03_CIPR_NP-Code\\plot.ipynb Cell 11\u001b[0m line \u001b[0;36m8\n\u001b[0;32m      <a href='vscode-notebook-cell:/d%3A/Downloads/DarKSkuLL/2024_03_CIPR_NP-Code/plot.ipynb#X13sZmlsZQ%3D%3D?line=5'>6</a>\u001b[0m \u001b[39mdef\u001b[39;00m \u001b[39mplot_hist\u001b[39m(T1, T2,tr_arr\u001b[39m=\u001b[39m\u001b[39mNone\u001b[39;00m,fa_arr\u001b[39m=\u001b[39m\u001b[39mNone\u001b[39;00m, index\u001b[39m=\u001b[39m\u001b[39m0\u001b[39m):\n\u001b[0;32m      <a href='vscode-notebook-cell:/d%3A/Downloads/DarKSkuLL/2024_03_CIPR_NP-Code/plot.ipynb#X13sZmlsZQ%3D%3D?line=6'>7</a>\u001b[0m     \u001b[39mif\u001b[39;00m tr_arr \u001b[39mis\u001b[39;00m \u001b[39mNone\u001b[39;00m \u001b[39mor\u001b[39;00m tr_arr \u001b[39m==\u001b[39m {}:\n\u001b[1;32m----> <a href='vscode-notebook-cell:/d%3A/Downloads/DarKSkuLL/2024_03_CIPR_NP-Code/plot.ipynb#X13sZmlsZQ%3D%3D?line=7'>8</a>\u001b[0m         tr_arr, fa_arr \u001b[39m=\u001b[39m mc\u001b[39m.\u001b[39;49mmatch(fea, T1, T2,denom_type\u001b[39m=\u001b[39;49m\u001b[39m'\u001b[39;49m\u001b[39maverage\u001b[39;49m\u001b[39m'\u001b[39;49m,dist_type\u001b[39m=\u001b[39;49m\u001b[39m'\u001b[39;49m\u001b[39meuclidian_log_norm\u001b[39;49m\u001b[39m'\u001b[39;49m)\n\u001b[0;32m      <a href='vscode-notebook-cell:/d%3A/Downloads/DarKSkuLL/2024_03_CIPR_NP-Code/plot.ipynb#X13sZmlsZQ%3D%3D?line=8'>9</a>\u001b[0m         \u001b[39m# arr = mc.match(fea, T1, T2,)\u001b[39;00m\n\u001b[0;32m     <a href='vscode-notebook-cell:/d%3A/Downloads/DarKSkuLL/2024_03_CIPR_NP-Code/plot.ipynb#X13sZmlsZQ%3D%3D?line=9'>10</a>\u001b[0m         \u001b[39m# for i in arr:\u001b[39;00m\n\u001b[0;32m     <a href='vscode-notebook-cell:/d%3A/Downloads/DarKSkuLL/2024_03_CIPR_NP-Code/plot.ipynb#X13sZmlsZQ%3D%3D?line=10'>11</a>\u001b[0m         \u001b[39m#     if i[0]:\u001b[39;00m\n\u001b[1;32m   (...)\u001b[0m\n\u001b[0;32m     <a href='vscode-notebook-cell:/d%3A/Downloads/DarKSkuLL/2024_03_CIPR_NP-Code/plot.ipynb#X13sZmlsZQ%3D%3D?line=14'>15</a>\u001b[0m             \u001b[39m# print(i)\u001b[39;00m\n\u001b[0;32m     <a href='vscode-notebook-cell:/d%3A/Downloads/DarKSkuLL/2024_03_CIPR_NP-Code/plot.ipynb#X13sZmlsZQ%3D%3D?line=15'>16</a>\u001b[0m     \u001b[39m# plot histogram for tr_arr and fa_arr super imposed with different alpha values\u001b[39;00m\n\u001b[0;32m     <a href='vscode-notebook-cell:/d%3A/Downloads/DarKSkuLL/2024_03_CIPR_NP-Code/plot.ipynb#X13sZmlsZQ%3D%3D?line=16'>17</a>\u001b[0m     plt\u001b[39m.\u001b[39mhist(tr_arr, bins\u001b[39m=\u001b[39m\u001b[39m40\u001b[39m, alpha\u001b[39m=\u001b[39m\u001b[39m0.7\u001b[39m, label\u001b[39m=\u001b[39m\u001b[39mf\u001b[39m\u001b[39m'\u001b[39m\u001b[39mGen_T(\u001b[39m\u001b[39m{\u001b[39;00mT1\u001b[39m}\u001b[39;00m\u001b[39m,\u001b[39m\u001b[39m{\u001b[39;00mT2\u001b[39m}\u001b[39;00m\u001b[39m)\u001b[39m\u001b[39m'\u001b[39m, color\u001b[39m=\u001b[39m\u001b[39m'\u001b[39m\u001b[39mgreen\u001b[39m\u001b[39m'\u001b[39m)\n",
      "File \u001b[1;32md:\\Downloads\\DarKSkuLL\\2024_03_CIPR_NP-Code\\matcher.py:81\u001b[0m, in \u001b[0;36mmatch\u001b[1;34m(db_array, T1, T2, denom_type, dist_type, n_finger_per_person)\u001b[0m\n\u001b[0;32m     70\u001b[0m \u001b[39m# create array to store similarity scores\u001b[39;00m\n\u001b[0;32m     71\u001b[0m \u001b[39m# array stores score and flag for each pair of fingerprints\u001b[39;00m\n\u001b[0;32m     72\u001b[0m \u001b[39m# score is percentage matching of two vector arrays\u001b[39;00m\n\u001b[0;32m     73\u001b[0m \u001b[39m# flag is True if instance of same fingerprint, false otherwise\u001b[39;00m\n\u001b[0;32m     74\u001b[0m \u001b[39m# DONE: Update genuine pairs logic, imposter pair logic...\u001b[39;00m\n\u001b[0;32m     77\u001b[0m fin_imp_fea_dict \u001b[39m=\u001b[39m get_fin_imp_fea_dict(db_array)\n\u001b[1;32m---> 81\u001b[0m genine_pairs \u001b[39m=\u001b[39m chain(fin_imp_fea_dict\u001b[39m.\u001b[39;49mvalues())\n\u001b[0;32m     82\u001b[0m n_finger_per_person \u001b[39m=\u001b[39m \u001b[39m10\u001b[39m\n\u001b[0;32m     83\u001b[0m imposter_pairs \u001b[39m=\u001b[39m chain(get_imposter(n_finger_per_person))\n",
      "\u001b[1;31mAttributeError\u001b[0m: 'NoneType' object has no attribute 'values'"
     ]
    }
   ],
   "source": [
    "T1,T2 = 1.4, 0.6\n",
    "\n",
    "tr_arr,fa_arr = {},{}\n",
    "# for i in range(10):\n",
    "tr_arr,fa_arr = plot_hist(T1,T2,tr_arr=tr_arr,fa_arr=fa_arr)\n",
    "# trarr,faarr = plot_hist(T1,T2,trarr=trarr,faarr=faarr)"
   ]
  }
 ],
 "metadata": {
  "kernelspec": {
   "display_name": "Python 3",
   "language": "python",
   "name": "python3"
  },
  "language_info": {
   "codemirror_mode": {
    "name": "ipython",
    "version": 3
   },
   "file_extension": ".py",
   "mimetype": "text/x-python",
   "name": "python",
   "nbconvert_exporter": "python",
   "pygments_lexer": "ipython3",
   "version": "3.10.13"
  }
 },
 "nbformat": 4,
 "nbformat_minor": 2
}
