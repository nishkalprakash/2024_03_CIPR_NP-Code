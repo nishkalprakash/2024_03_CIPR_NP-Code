{
 "cells": [
  {
   "cell_type": "code",
   "execution_count": null,
   "metadata": {},
   "outputs": [],
   "source": [
    "import numpy as np\n",
    "\n",
    "def two_nearest_neighbors(points):\n",
    "    \"\"\"\n",
    "    Constructs a Delaunay triangulation of a set of points using the two nearest neighbor algorithm.\n",
    "\n",
    "    Args:\n",
    "        points (np.ndarray): An array of points, where each point is a 2D vector.\n",
    "\n",
    "    Returns:\n",
    "        np.ndarray: An array of triangles, where each triangle is a 3D vector of indices into the `points` array.\n",
    "    \"\"\"\n",
    "    triangulation = []\n",
    "\n",
    "    for i in range(len(points)):\n",
    "        nearest_neighbors = np.argpartition(np.linalg.norm(points[i] - points, axis=1), 2)[:2]\n",
    "\n",
    "        for j in nearest_neighbors:\n",
    "            if j != i:\n",
    "                for k in nearest_neighbors:\n",
    "                    if k != i and k != j and not point_in_triangle(points[i], points[j], points[k]):\n",
    "                        triangulation.append([i, j, k])\n",
    "\n",
    "    return np.array(triangulation)\n",
    "\n",
    "def point_in_triangle(p, a, b, c):\n",
    "    \"\"\"\n",
    "    Determines whether a point is inside a triangle.\n",
    "\n",
    "    Args:\n",
    "        p (np.ndarray): The point to be tested.\n",
    "        a (np.ndarray): The first vertex of the triangle.\n",
    "        b (np.ndarray): The second vertex of the triangle.\n",
    "        c (np.ndarray): The third vertex of the triangle.\n",
    "\n",
    "    Returns:\n",
    "        bool: True if the point is inside the triangle, False otherwise.\n",
    "    \"\"\"\n",
    "    area = ((b[1] - c[1]) * (p[0] - c[0]) - (b[0] - c[0]) * (p[1] - c[1]))\n",
    "    if area == 0:\n",
    "        return False\n",
    "\n",
    "    sign = area / abs(area)\n",
    "    return ((b[1] - c[1]) * (a[0] - c[0]) - (b[0] - c[0]) * (a[1] - c[1])) * sign > 0 and ((c[1] - a[1]) * (p[0] - a[0]) - (c[0] - a[0]) * (p[1] - a[1])) * sign > 0\n",
    "\n",
    "points = np.array([[0, 0], [1, 0], [0, 1]])\n",
    "triangulation = two_nearest_neighbors(points)\n",
    "print(triangulation)\n"
   ]
  }
 ],
 "metadata": {
  "language_info": {
   "name": "python"
  }
 },
 "nbformat": 4,
 "nbformat_minor": 2
}
