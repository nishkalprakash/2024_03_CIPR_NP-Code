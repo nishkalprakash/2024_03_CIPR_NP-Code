{
 "cells": [
  {
   "cell_type": "code",
   "execution_count": 3,
   "metadata": {},
   "outputs": [],
   "source": [
    "# generates indirect feature vectors for all fingerprint in the dataframe\n",
    "\n",
    "import pandas as pd\n",
    "from scipy.spatial import Delaunay\n",
    "import functions as fn\n",
    "import json\n",
    "\n",
    "def generatefeatures(df):\n",
    "\n",
    "    # fetch name of fingerprint for current index and return it\n",
    "    def get_name(index):\n",
    "        name = df['path'][index]\n",
    "        name = name.replace('/', '_')\n",
    "        name = name.replace('.tif', '')\n",
    "        return name\n",
    "    \n",
    "    # fetch fingerprint for current index and return it\n",
    "    def fetch_fingerprint(index):\n",
    "        fingerprint = []\n",
    "        fingerprint.append(pd.DataFrame(df['mv'][index], columns=['x', 'y', 'value']))\n",
    "        return fingerprint\n",
    "\n",
    "    # generate minutiae from fingerprint and return points and minutiae\n",
    "    def generate_minutiae(fingerprint):\n",
    "        points = []\n",
    "        minutiae = []\n",
    "        for i in range(len(fingerprint[0])):\n",
    "            points.append([fingerprint[0]['x'][i], fingerprint[0]['y'][i]])\n",
    "            minutiae.append([fingerprint[0]['x'][i], fingerprint[0]['y'][i], fingerprint[0]['value'][i]])\n",
    "        return points, minutiae\n",
    "\n",
    "    # perform delaunay triangulation and return triangles\n",
    "    def triangulate(points, minutiae):\n",
    "        tri = Delaunay(points)\n",
    "\n",
    "        triangles = []\n",
    "        for i in range(len(tri.simplices)):\n",
    "            triangles.append([minutiae[tri.simplices[i][0]], minutiae[tri.simplices[i][1]], minutiae[tri.simplices[i][2]]])\n",
    "        return triangles\n",
    "    \n",
    "    # store entire database into a single array\n",
    "    db_array = []\n",
    "\n",
    "    # generate indirect features for all triangles\n",
    "    \n",
    "    name = get_name(0)\n",
    "    fingerprint = fetch_fingerprint(0)\n",
    "    points, minutiae = generate_minutiae(fingerprint)\n",
    "    triangles = triangulate(points, minutiae)\n",
    "    features_array = fn.ret_arr(triangles)\n",
    "    db_array.append([name, features_array])\n",
    "\n",
    "    return points\n",
    "    "
   ]
  },
  {
   "cell_type": "code",
   "execution_count": 4,
   "metadata": {},
   "outputs": [
    {
     "data": {
      "text/plain": [
       "[[139.0, 379.0],\n",
       " [106.0, 388.0],\n",
       " [309.0, 324.0],\n",
       " [105.0, 362.0],\n",
       " [74.0, 390.0],\n",
       " [226.0, 371.0],\n",
       " [317.0, 282.0],\n",
       " [235.0, 340.0],\n",
       " [293.0, 173.0],\n",
       " [154.0, 293.0],\n",
       " [157.0, 165.0],\n",
       " [253.0, 42.0],\n",
       " [90.0, 293.0],\n",
       " [422.0, 325.0],\n",
       " [228.0, 237.0],\n",
       " [195.0, 379.0],\n",
       " [299.0, 374.0],\n",
       " [201.0, 291.0],\n",
       " [165.0, 221.0],\n",
       " [123.0, 227.0],\n",
       " [283.0, 414.0],\n",
       " [177.0, 324.0],\n",
       " [149.0, 253.0],\n",
       " [140.0, 462.0],\n",
       " [362.0, 322.0],\n",
       " [146.0, 362.0],\n",
       " [82.0, 132.0],\n",
       " [242.0, 410.0],\n",
       " [180.0, 363.0],\n",
       " [365.0, 188.0],\n",
       " [210.0, 146.0],\n",
       " [370.0, 93.0],\n",
       " [333.0, 358.0],\n",
       " [331.0, 130.0],\n",
       " [100.0, 187.0],\n",
       " [357.0, 213.0],\n",
       " [348.0, 419.0],\n",
       " [297.0, 177.0],\n",
       " [450.0, 372.0],\n",
       " [155.0, 429.0],\n",
       " [162.0, 340.0],\n",
       " [61.0, 250.0],\n",
       " [283.0, 189.0],\n",
       " [365.0, 171.0],\n",
       " [220.0, 75.0],\n",
       " [197.0, 33.0],\n",
       " [325.0, 436.0],\n",
       " [420.0, 434.0],\n",
       " [163.0, 355.0],\n",
       " [196.0, 83.0]]"
      ]
     },
     "execution_count": 4,
     "metadata": {},
     "output_type": "execute_result"
    }
   ],
   "source": [
    "json_files = [r'Datasets\\anguli_10_100_fingernet.json']\n",
    "df = pd.read_json(json_files[0],orient='records')\n",
    "fea = generatefeatures(df)\n",
    "fea"
   ]
  },
  {
   "cell_type": "code",
   "execution_count": 5,
   "metadata": {},
   "outputs": [
    {
     "name": "stdout",
     "output_type": "stream",
     "text": [
      "[]\n"
     ]
    }
   ],
   "source": [
    "import numpy as np\n",
    "\n",
    "def two_nearest_neighbors(points):\n",
    "    \"\"\"\n",
    "    Constructs a Delaunay triangulation of a set of points using the two nearest neighbor algorithm.\n",
    "\n",
    "    Args:\n",
    "        points (np.ndarray): An array of points, where each point is a 2D vector.\n",
    "\n",
    "    Returns:\n",
    "        np.ndarray: An array of triangles, where each triangle is a 3D vector of indices into the `points` array.\n",
    "    \"\"\"\n",
    "    triangulation = []\n",
    "\n",
    "    for i in range(len(points)):\n",
    "        nearest_neighbors = np.argpartition(np.linalg.norm(points[i] - points, axis=1), 2)[:2]\n",
    "\n",
    "        for j in nearest_neighbors:\n",
    "            if j != i:\n",
    "                for k in nearest_neighbors:\n",
    "                    if k != i and k != j and not point_in_triangle(points[i], points[j], points[k]):\n",
    "                        triangulation.append([i, j, k])\n",
    "\n",
    "    return np.array(triangulation)\n",
    "\n",
    "def point_in_triangle(p, a, b, c):\n",
    "    \"\"\"\n",
    "    Determines whether a point is inside a triangle.\n",
    "\n",
    "    Args:\n",
    "        p (np.ndarray): The point to be tested.\n",
    "        a (np.ndarray): The first vertex of the triangle.\n",
    "        b (np.ndarray): The second vertex of the triangle.\n",
    "        c (np.ndarray): The third vertex of the triangle.\n",
    "\n",
    "    Returns:\n",
    "        bool: True if the point is inside the triangle, False otherwise.\n",
    "    \"\"\"\n",
    "    area = ((b[1] - c[1]) * (p[0] - c[0]) - (b[0] - c[0]) * (p[1] - c[1]))\n",
    "    if area == 0:\n",
    "        return False\n",
    "\n",
    "    sign = area / abs(area)\n",
    "    return ((b[1] - c[1]) * (a[0] - c[0]) - (b[0] - c[0]) * (a[1] - c[1])) * sign > 0 and ((c[1] - a[1]) * (p[0] - a[0]) - (c[0] - a[0]) * (p[1] - a[1])) * sign > 0\n",
    "\n",
    "points = np.array([[0, 0], [1, 0], [0, 1]])\n",
    "triangulation = two_nearest_neighbors(points)\n",
    "print(triangulation)\n"
   ]
  },
  {
   "cell_type": "code",
   "execution_count": 6,
   "metadata": {},
   "outputs": [
    {
     "data": {
      "text/plain": [
       "array([], dtype=float64)"
      ]
     },
     "execution_count": 6,
     "metadata": {},
     "output_type": "execute_result"
    }
   ],
   "source": [
    "triangulation"
   ]
  },
  {
   "cell_type": "code",
   "execution_count": null,
   "metadata": {},
   "outputs": [],
   "source": []
  }
 ],
 "metadata": {
  "kernelspec": {
   "display_name": "Python 3",
   "language": "python",
   "name": "python3"
  },
  "language_info": {
   "codemirror_mode": {
    "name": "ipython",
    "version": 3
   },
   "file_extension": ".py",
   "mimetype": "text/x-python",
   "name": "python",
   "nbconvert_exporter": "python",
   "pygments_lexer": "ipython3",
   "version": "3.11.6"
  }
 },
 "nbformat": 4,
 "nbformat_minor": 2
}
