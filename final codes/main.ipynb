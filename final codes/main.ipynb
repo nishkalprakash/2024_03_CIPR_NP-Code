{
 "cells": [
  {
   "cell_type": "markdown",
   "metadata": {},
   "source": [
    "# Execute the entire pipeline\n",
    "\n",
    "step 1: load database\n",
    "\n",
    "step 2: generate indirect features\n",
    "\n",
    "step 3: match with 2 thresholds\n",
    "\n",
    "step 4: iterate with possible values of 3rd threshold and store results\n",
    "\n",
    "step 5: repeat step 3 and 4 until best triplet of threshold is achieved"
   ]
  },
  {
   "cell_type": "markdown",
   "metadata": {},
   "source": [
    "### Import libraries"
   ]
  },
  {
   "cell_type": "code",
   "execution_count": 1,
   "metadata": {},
   "outputs": [],
   "source": [
    "import json\n",
    "import pandas as pd\n",
    "import generatefeatures as gf\n",
    "import matcher as mc\n",
    "import thresholdtester as tt\n",
    "import numpy as np\n"
   ]
  },
  {
   "cell_type": "markdown",
   "metadata": {},
   "source": [
    "## Step 1: load database"
   ]
  },
  {
   "cell_type": "code",
   "execution_count": 2,
   "metadata": {},
   "outputs": [],
   "source": [
    "json_files = ['Datasets/FVC2002_DB1_A_fingernet.json']\n",
    "df = pd.read_json(json_files[0],orient='records')"
   ]
  },
  {
   "cell_type": "markdown",
   "metadata": {},
   "source": [
    "## Step 2: Generate Indirect feature"
   ]
  },
  {
   "cell_type": "code",
   "execution_count": 3,
   "metadata": {},
   "outputs": [],
   "source": [
    "fea = gf.generatefeatures(df)"
   ]
  },
  {
   "cell_type": "markdown",
   "metadata": {},
   "source": [
    "## Exhaustive matching with 2 thresholds for log ratio and angle relation and finding best threshold triplet"
   ]
  },
  {
   "cell_type": "code",
   "execution_count": 4,
   "metadata": {},
   "outputs": [],
   "source": [
    "# set threshold values\n",
    "threshold = []\n",
    "for i in range(100):\n",
    "    for j in range(100):\n",
    "        threshold.append([i/100, j/100])"
   ]
  },
  {
   "cell_type": "code",
   "execution_count": 5,
   "metadata": {},
   "outputs": [],
   "source": [
    "# np.array(threshold)[:10]"
   ]
  },
  {
   "cell_type": "code",
   "execution_count": 6,
   "metadata": {},
   "outputs": [
    {
     "name": "stdout",
     "output_type": "stream",
     "text": [
      "Threshold 1 \t Threshold 2 \t Iteration\n",
      "0.00 \t\t 0.00 \t\t 0\n",
      "0.00 \t\t 0.01 \t\t 1\n",
      "0.00 \t\t 0.02 \t\t 2\n",
      "0.00 \t\t 0.03 \t\t 3\n",
      "0.00 \t\t 0.04 \t\t 4\n",
      "0.00 \t\t 0.05 \t\t 5\n",
      "0.00 \t\t 0.06 \t\t 6\n",
      "0.00 \t\t 0.07 \t\t 7\n",
      "0.00 \t\t 0.08 \t\t 8\n",
      "0.00 \t\t 0.09 \t\t 9\n",
      "0.00 \t\t 0.10 \t\t 10\n",
      "0.00 \t\t 0.11 \t\t 11\n",
      "0.00 \t\t 0.12 \t\t 12\n",
      "0.00 \t\t 0.13 \t\t 13\n",
      "0.00 \t\t 0.14 \t\t 14\n",
      "0.00 \t\t 0.15 \t\t 15\n",
      "0.00 \t\t 0.16 \t\t 16\n",
      "0.00 \t\t 0.17 \t\t 17\n",
      "0.00 \t\t 0.18 \t\t 18\n",
      "0.00 \t\t 0.19 \t\t 19\n",
      "0.00 \t\t 0.20 \t\t 20\n",
      "0.00 \t\t 0.21 \t\t 21\n",
      "0.00 \t\t 0.22 \t\t 22\n",
      "0.00 \t\t 0.23 \t\t 23\n",
      "0.00 \t\t 0.24 \t\t 24\n",
      "0.00 \t\t 0.25 \t\t 25\n",
      "0.00 \t\t 0.26 \t\t 26\n",
      "0.00 \t\t 0.27 \t\t 27\n",
      "0.00 \t\t 0.28 \t\t 28\n",
      "0.00 \t\t 0.29 \t\t 29\n",
      "0.00 \t\t 0.30 \t\t 30\n",
      "0.00 \t\t 0.31 \t\t 31\n",
      "0.00 \t\t 0.32 \t\t 32\n",
      "0.00 \t\t 0.33 \t\t 33\n",
      "0.00 \t\t 0.34 \t\t 34\n",
      "0.00 \t\t 0.35 \t\t 35\n",
      "0.00 \t\t 0.36 \t\t 36\n",
      "0.00 \t\t 0.37 \t\t 37\n",
      "0.00 \t\t 0.38 \t\t 38\n",
      "0.00 \t\t 0.39 \t\t 39\n",
      "0.00 \t\t 0.40 \t\t 40\n",
      "0.00 \t\t 0.41 \t\t 41\n",
      "0.00 \t\t 0.42 \t\t 42\n",
      "0.00 \t\t 0.43 \t\t 43\n",
      "0.00 \t\t 0.44 \t\t 44\n",
      "0.00 \t\t 0.45 \t\t 45\n",
      "0.00 \t\t 0.46 \t\t 46\n",
      "0.00 \t\t 0.47 \t\t 47\n",
      "0.00 \t\t 0.48 \t\t 48\n",
      "0.00 \t\t 0.49 \t\t 49\n",
      "0.00 \t\t 0.50 \t\t 50\n",
      "0.00 \t\t 0.51 \t\t 51\n",
      "0.00 \t\t 0.52 \t\t 52\n",
      "0.00 \t\t 0.53 \t\t 53\n",
      "0.00 \t\t 0.54 \t\t 54\n",
      "0.00 \t\t 0.55 \t\t 55\n",
      "0.00 \t\t 0.56 \t\t 56\n",
      "0.00 \t\t 0.57 \t\t 57\n",
      "0.00 \t\t 0.58 \t\t 58\n",
      "0.00 \t\t 0.59 \t\t 59\n",
      "0.00 \t\t 0.60 \t\t 60\n",
      "0.00 \t\t 0.61 \t\t 61\n",
      "0.00 \t\t 0.62 \t\t 62\n",
      "0.00 \t\t 0.63 \t\t 63\n",
      "0.00 \t\t 0.64 \t\t 64\n",
      "0.00 \t\t 0.65 \t\t 65\n",
      "0.00 \t\t 0.66 \t\t 66\n",
      "0.00 \t\t 0.67 \t\t 67\n",
      "0.00 \t\t 0.68 \t\t 68\n",
      "0.00 \t\t 0.69 \t\t 69\n",
      "0.00 \t\t 0.70 \t\t 70\n",
      "0.00 \t\t 0.71 \t\t 71\n",
      "0.00 \t\t 0.72 \t\t 72\n",
      "0.00 \t\t 0.73 \t\t 73\n",
      "0.00 \t\t 0.74 \t\t 74\n",
      "0.00 \t\t 0.75 \t\t 75\n",
      "0.00 \t\t 0.76 \t\t 76\n",
      "0.00 \t\t 0.77 \t\t 77\n",
      "0.00 \t\t 0.78 \t\t 78\n",
      "0.00 \t\t 0.79 \t\t 79\n",
      "0.00 \t\t 0.80 \t\t 80\n",
      "0.00 \t\t 0.81 \t\t 81\n",
      "0.00 \t\t 0.82 \t\t 82\n",
      "0.00 \t\t 0.83 \t\t 83\n",
      "0.00 \t\t 0.84 \t\t 84\n",
      "0.00 \t\t 0.85 \t\t 85\n",
      "0.00 \t\t 0.86 \t\t 86\n",
      "0.00 \t\t 0.87 \t\t 87\n",
      "0.00 \t\t 0.88 \t\t 88\n",
      "0.00 \t\t 0.89 \t\t 89\n",
      "0.00 \t\t 0.90 \t\t 90\n",
      "0.00 \t\t 0.91 \t\t 91\n",
      "0.00 \t\t 0.92 \t\t 92\n",
      "0.00 \t\t 0.93 \t\t 93\n",
      "0.00 \t\t 0.94 \t\t 94\n",
      "0.00 \t\t 0.95 \t\t 95\n",
      "0.00 \t\t 0.96 \t\t 96\n",
      "0.00 \t\t 0.97 \t\t 97\n",
      "0.00 \t\t 0.98 \t\t 98\n",
      "0.00 \t\t 0.99 \t\t 99\n",
      "0.01 \t\t 0.00 \t\t 100\n",
      "0.01 \t\t 0.01 \t\t 101\n",
      "0.01 \t\t 0.02 \t\t 102\n",
      "0.01 \t\t 0.03 \t\t 103\n"
     ]
    }
   ],
   "source": [
    "# define arrays to store f1_score and mcc_score\n",
    "f1_score = []\n",
    "mcc_score = []\n",
    "\n",
    "# loop over all threshold values\n",
    "# also print threshold values and iteration number in a table format\n",
    "print(\"Threshold 1 \\t Threshold 2 \\t Iteration\")\n",
    "for i in range(100):\n",
    "    for j in range(100):\n",
    "        a = threshold[100 * i + j][0]\n",
    "        b = threshold[100 * i + j][1]\n",
    "        similarity_matrix = mc.match(fea, a, b)\n",
    "        f1_sc = tt.calculate_f1_score(similarity_matrix, a, b)\n",
    "        mcc_sc = tt.calculate_MCC_score(similarity_matrix, a, b)\n",
    "        f1_score.append(f1_sc)\n",
    "        mcc_score.append(mcc_sc)\n",
    "        # print threshold values and iteration number in a table format\n",
    "        print(\"{0:.2f}\".format(a), \"\\t\\t\", \"{0:.2f}\".format(b), \"\\t\\t\", 100 * i + j)\n",
    "        "
   ]
  }
 ],
 "metadata": {
  "kernelspec": {
   "display_name": "Python 3",
   "language": "python",
   "name": "python3"
  },
  "language_info": {
   "codemirror_mode": {
    "name": "ipython",
    "version": 3
   },
   "file_extension": ".py",
   "mimetype": "text/x-python",
   "name": "python",
   "nbconvert_exporter": "python",
   "pygments_lexer": "ipython3",
   "version": "3.10.13"
  }
 },
 "nbformat": 4,
 "nbformat_minor": 2
}
