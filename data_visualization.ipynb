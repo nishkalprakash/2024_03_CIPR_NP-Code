{
 "cells": [
  {
   "cell_type": "code",
   "execution_count": 5,
   "metadata": {},
   "outputs": [],
   "source": [
    "# Load CSV File\n",
    "# use pandas to load csv file\n",
    "# use plotly for interactive visualization\n",
    "\n",
    "import pandas as pd\n",
    "import numpy as np\n",
    "import plotly.express as px\n",
    "import plotly.graph_objects as go\n",
    "from pathlib import Path\n",
    "base=Path.cwd()/\"outputs/fingernet/anguli\""
   ]
  },
  {
   "cell_type": "code",
   "execution_count": 12,
   "metadata": {},
   "outputs": [],
   "source": [
    "# load csv file\n",
    "in_path = base/\"output_eer_T1[0.100,1.000,0.100]_T2[0.010,1.000,0.100].csv\"\n",
    "df = pd.read_csv(in_path)"
   ]
  },
  {
   "cell_type": "code",
   "execution_count": 7,
   "metadata": {},
   "outputs": [
    {
     "data": {
      "text/html": [
       "<div>\n",
       "<style scoped>\n",
       "    .dataframe tbody tr th:only-of-type {\n",
       "        vertical-align: middle;\n",
       "    }\n",
       "\n",
       "    .dataframe tbody tr th {\n",
       "        vertical-align: top;\n",
       "    }\n",
       "\n",
       "    .dataframe thead th {\n",
       "        text-align: right;\n",
       "    }\n",
       "</style>\n",
       "<table border=\"1\" class=\"dataframe\">\n",
       "  <thead>\n",
       "    <tr style=\"text-align: right;\">\n",
       "      <th></th>\n",
       "      <th>T1</th>\n",
       "      <th>T2</th>\n",
       "      <th>T3</th>\n",
       "      <th>FAR</th>\n",
       "      <th>FRR</th>\n",
       "      <th>EER</th>\n",
       "    </tr>\n",
       "  </thead>\n",
       "  <tbody>\n",
       "    <tr>\n",
       "      <th>count</th>\n",
       "      <td>90.000000</td>\n",
       "      <td>90.000000</td>\n",
       "      <td>90.000000</td>\n",
       "      <td>90.000000</td>\n",
       "      <td>90.000000</td>\n",
       "      <td>90.000000</td>\n",
       "    </tr>\n",
       "    <tr>\n",
       "      <th>mean</th>\n",
       "      <td>0.500000</td>\n",
       "      <td>0.460000</td>\n",
       "      <td>439.766667</td>\n",
       "      <td>31.389889</td>\n",
       "      <td>43.296222</td>\n",
       "      <td>37.343667</td>\n",
       "    </tr>\n",
       "    <tr>\n",
       "      <th>std</th>\n",
       "      <td>0.259645</td>\n",
       "      <td>0.288837</td>\n",
       "      <td>250.565968</td>\n",
       "      <td>18.582020</td>\n",
       "      <td>15.978479</td>\n",
       "      <td>6.220923</td>\n",
       "    </tr>\n",
       "    <tr>\n",
       "      <th>min</th>\n",
       "      <td>0.100000</td>\n",
       "      <td>0.010000</td>\n",
       "      <td>0.000000</td>\n",
       "      <td>8.130000</td>\n",
       "      <td>8.670000</td>\n",
       "      <td>24.910000</td>\n",
       "    </tr>\n",
       "    <tr>\n",
       "      <th>25%</th>\n",
       "      <td>0.300000</td>\n",
       "      <td>0.210000</td>\n",
       "      <td>264.250000</td>\n",
       "      <td>17.287500</td>\n",
       "      <td>35.110000</td>\n",
       "      <td>31.990000</td>\n",
       "    </tr>\n",
       "    <tr>\n",
       "      <th>50%</th>\n",
       "      <td>0.500000</td>\n",
       "      <td>0.460000</td>\n",
       "      <td>493.500000</td>\n",
       "      <td>25.955000</td>\n",
       "      <td>40.330000</td>\n",
       "      <td>39.140000</td>\n",
       "    </tr>\n",
       "    <tr>\n",
       "      <th>75%</th>\n",
       "      <td>0.700000</td>\n",
       "      <td>0.710000</td>\n",
       "      <td>646.750000</td>\n",
       "      <td>41.575000</td>\n",
       "      <td>53.997500</td>\n",
       "      <td>42.150000</td>\n",
       "    </tr>\n",
       "    <tr>\n",
       "      <th>max</th>\n",
       "      <td>0.900000</td>\n",
       "      <td>0.910000</td>\n",
       "      <td>803.000000</td>\n",
       "      <td>84.240000</td>\n",
       "      <td>79.110000</td>\n",
       "      <td>46.460000</td>\n",
       "    </tr>\n",
       "  </tbody>\n",
       "</table>\n",
       "</div>"
      ],
      "text/plain": [
       "              T1         T2          T3        FAR        FRR        EER\n",
       "count  90.000000  90.000000   90.000000  90.000000  90.000000  90.000000\n",
       "mean    0.500000   0.460000  439.766667  31.389889  43.296222  37.343667\n",
       "std     0.259645   0.288837  250.565968  18.582020  15.978479   6.220923\n",
       "min     0.100000   0.010000    0.000000   8.130000   8.670000  24.910000\n",
       "25%     0.300000   0.210000  264.250000  17.287500  35.110000  31.990000\n",
       "50%     0.500000   0.460000  493.500000  25.955000  40.330000  39.140000\n",
       "75%     0.700000   0.710000  646.750000  41.575000  53.997500  42.150000\n",
       "max     0.900000   0.910000  803.000000  84.240000  79.110000  46.460000"
      ]
     },
     "execution_count": 7,
     "metadata": {},
     "output_type": "execute_result"
    }
   ],
   "source": [
    "df.describe()"
   ]
  },
  {
   "cell_type": "code",
   "execution_count": 10,
   "metadata": {},
   "outputs": [
    {
     "data": {
      "application/vnd.plotly.v1+json": {
       "config": {
        "plotlyServerURL": "https://plot.ly"
       },
       "data": [
        {
         "hovertemplate": "T2=%{y}<br>T1=%{x}<br>EER=%{z}<extra></extra>",
         "legendgroup": "0.01",
         "line": {
          "color": "#636efa",
          "dash": "solid"
         },
         "marker": {
          "symbol": "circle"
         },
         "mode": "lines",
         "name": "0.01",
         "scene": "scene",
         "showlegend": true,
         "type": "scatter3d",
         "x": [
          0.1,
          0.2,
          0.3,
          0.4,
          0.5,
          0.6,
          0.7,
          0.8,
          0.9
         ],
         "y": [
          0.01,
          0.01,
          0.01,
          0.01,
          0.01,
          0.01,
          0.01,
          0.01,
          0.01
         ],
         "z": [
          27.62,
          27.81,
          28.11,
          28.48,
          28.54,
          29.22,
          29.39,
          29.46,
          28.92
         ]
        },
        {
         "hovertemplate": "T2=%{y}<br>T1=%{x}<br>EER=%{z}<extra></extra>",
         "legendgroup": "0.11",
         "line": {
          "color": "#EF553B",
          "dash": "solid"
         },
         "marker": {
          "symbol": "circle"
         },
         "mode": "lines",
         "name": "0.11",
         "scene": "scene",
         "showlegend": true,
         "type": "scatter3d",
         "x": [
          0.1,
          0.2,
          0.3,
          0.4,
          0.5,
          0.6,
          0.7,
          0.8,
          0.9
         ],
         "y": [
          0.11,
          0.11,
          0.11,
          0.11,
          0.11,
          0.11,
          0.11,
          0.11,
          0.11
         ],
         "z": [
          27.59,
          26.74,
          26.3,
          25.32,
          25.42,
          24.91,
          25.66,
          25.58,
          25.12
         ]
        },
        {
         "hovertemplate": "T2=%{y}<br>T1=%{x}<br>EER=%{z}<extra></extra>",
         "legendgroup": "0.21",
         "line": {
          "color": "#00cc96",
          "dash": "solid"
         },
         "marker": {
          "symbol": "circle"
         },
         "mode": "lines",
         "name": "0.21",
         "scene": "scene",
         "showlegend": true,
         "type": "scatter3d",
         "x": [
          0.1,
          0.2,
          0.3,
          0.4,
          0.5,
          0.6,
          0.7,
          0.8,
          0.9
         ],
         "y": [
          0.21,
          0.21,
          0.21,
          0.21,
          0.21,
          0.21,
          0.21,
          0.21,
          0.21
         ],
         "z": [
          32.28,
          30.9,
          31.39,
          32.41,
          32.59,
          31.61,
          32.17,
          31.93,
          31.92
         ]
        },
        {
         "hovertemplate": "T2=%{y}<br>T1=%{x}<br>EER=%{z}<extra></extra>",
         "legendgroup": "0.31",
         "line": {
          "color": "#ab63fa",
          "dash": "solid"
         },
         "marker": {
          "symbol": "circle"
         },
         "mode": "lines",
         "name": "0.31",
         "scene": "scene",
         "showlegend": true,
         "type": "scatter3d",
         "x": [
          0.1,
          0.2,
          0.3,
          0.4,
          0.5,
          0.6,
          0.7,
          0.8,
          0.9
         ],
         "y": [
          0.31,
          0.31,
          0.31,
          0.31,
          0.31,
          0.31,
          0.31,
          0.31,
          0.31
         ],
         "z": [
          36.68,
          37.83,
          37.79,
          37.21,
          37.73,
          36.97,
          37.4,
          36.81,
          36.7
         ]
        },
        {
         "hovertemplate": "T2=%{y}<br>T1=%{x}<br>EER=%{z}<extra></extra>",
         "legendgroup": "0.41",
         "line": {
          "color": "#FFA15A",
          "dash": "solid"
         },
         "marker": {
          "symbol": "circle"
         },
         "mode": "lines",
         "name": "0.41",
         "scene": "scene",
         "showlegend": true,
         "type": "scatter3d",
         "x": [
          0.1,
          0.2,
          0.3,
          0.4,
          0.5,
          0.6,
          0.7,
          0.8,
          0.9
         ],
         "y": [
          0.41,
          0.41,
          0.41,
          0.41,
          0.41,
          0.41,
          0.41,
          0.41,
          0.41
         ],
         "z": [
          40.91,
          40.67,
          40.9,
          40.29,
          41.04,
          40.14,
          39.79,
          38.36,
          38.2
         ]
        },
        {
         "hovertemplate": "T2=%{y}<br>T1=%{x}<br>EER=%{z}<extra></extra>",
         "legendgroup": "0.51",
         "line": {
          "color": "#19d3f3",
          "dash": "solid"
         },
         "marker": {
          "symbol": "circle"
         },
         "mode": "lines",
         "name": "0.51",
         "scene": "scene",
         "showlegend": true,
         "type": "scatter3d",
         "x": [
          0.1,
          0.2,
          0.3,
          0.4,
          0.5,
          0.6,
          0.7,
          0.8,
          0.9
         ],
         "y": [
          0.51,
          0.51,
          0.51,
          0.51,
          0.51,
          0.51,
          0.51,
          0.51,
          0.51
         ],
         "z": [
          42.93,
          42.73,
          42.17,
          42.22,
          41.96,
          40.44,
          39.87,
          39.32,
          38.59
         ]
        },
        {
         "hovertemplate": "T2=%{y}<br>T1=%{x}<br>EER=%{z}<extra></extra>",
         "legendgroup": "0.61",
         "line": {
          "color": "#FF6692",
          "dash": "solid"
         },
         "marker": {
          "symbol": "circle"
         },
         "mode": "lines",
         "name": "0.61",
         "scene": "scene",
         "showlegend": true,
         "type": "scatter3d",
         "x": [
          0.1,
          0.2,
          0.3,
          0.4,
          0.5,
          0.6,
          0.7,
          0.8,
          0.9
         ],
         "y": [
          0.61,
          0.61,
          0.61,
          0.61,
          0.61,
          0.61,
          0.61,
          0.61,
          0.61
         ],
         "z": [
          44.28,
          43.89,
          42.96,
          43.27,
          42.09,
          41.26,
          40.3,
          39.11,
          37.68
         ]
        },
        {
         "hovertemplate": "T2=%{y}<br>T1=%{x}<br>EER=%{z}<extra></extra>",
         "legendgroup": "0.71",
         "line": {
          "color": "#B6E880",
          "dash": "solid"
         },
         "marker": {
          "symbol": "circle"
         },
         "mode": "lines",
         "name": "0.71",
         "scene": "scene",
         "showlegend": true,
         "type": "scatter3d",
         "x": [
          0.1,
          0.2,
          0.3,
          0.4,
          0.5,
          0.6,
          0.7,
          0.8,
          0.9
         ],
         "y": [
          0.71,
          0.71,
          0.71,
          0.71,
          0.71,
          0.71,
          0.71,
          0.71,
          0.71
         ],
         "z": [
          45.63,
          45.16,
          44.27,
          43.38,
          43.08,
          41.62,
          40.6,
          39.37,
          38.49
         ]
        },
        {
         "hovertemplate": "T2=%{y}<br>T1=%{x}<br>EER=%{z}<extra></extra>",
         "legendgroup": "0.81",
         "line": {
          "color": "#FF97FF",
          "dash": "solid"
         },
         "marker": {
          "symbol": "circle"
         },
         "mode": "lines",
         "name": "0.81",
         "scene": "scene",
         "showlegend": true,
         "type": "scatter3d",
         "x": [
          0.1,
          0.2,
          0.3,
          0.4,
          0.5,
          0.6,
          0.7,
          0.8,
          0.9
         ],
         "y": [
          0.81,
          0.81,
          0.81,
          0.81,
          0.81,
          0.81,
          0.81,
          0.81,
          0.81
         ],
         "z": [
          45.7,
          45.36,
          44.51,
          43.71,
          42.43,
          40.86,
          40.67,
          39.17,
          38.02
         ]
        },
        {
         "hovertemplate": "T2=%{y}<br>T1=%{x}<br>EER=%{z}<extra></extra>",
         "legendgroup": "0.91",
         "line": {
          "color": "#FECB52",
          "dash": "solid"
         },
         "marker": {
          "symbol": "circle"
         },
         "mode": "lines",
         "name": "0.91",
         "scene": "scene",
         "showlegend": true,
         "type": "scatter3d",
         "x": [
          0.1,
          0.2,
          0.3,
          0.4,
          0.5,
          0.6,
          0.7,
          0.8,
          0.9
         ],
         "y": [
          0.91,
          0.91,
          0.91,
          0.91,
          0.91,
          0.91,
          0.91,
          0.91,
          0.91
         ],
         "z": [
          46.46,
          44.96,
          45.03,
          43.81,
          43.12,
          40.81,
          40.31,
          38.22,
          38.3
         ]
        }
       ],
       "layout": {
        "legend": {
         "title": {
          "text": "T2"
         },
         "tracegroupgap": 0
        },
        "margin": {
         "t": 60
        },
        "scene": {
         "domain": {
          "x": [
           0,
           1
          ],
          "y": [
           0,
           1
          ]
         },
         "xaxis": {
          "title": {
           "text": "T1"
          }
         },
         "yaxis": {
          "categoryarray": [
           0.01,
           0.11,
           0.21,
           0.31,
           0.41,
           0.51,
           0.61,
           0.71,
           0.81,
           0.91
          ],
          "categoryorder": "array",
          "title": {
           "text": "T2"
          }
         },
         "zaxis": {
          "title": {
           "text": "EER"
          }
         }
        },
        "template": {
         "data": {
          "bar": [
           {
            "error_x": {
             "color": "#2a3f5f"
            },
            "error_y": {
             "color": "#2a3f5f"
            },
            "marker": {
             "line": {
              "color": "#E5ECF6",
              "width": 0.5
             },
             "pattern": {
              "fillmode": "overlay",
              "size": 10,
              "solidity": 0.2
             }
            },
            "type": "bar"
           }
          ],
          "barpolar": [
           {
            "marker": {
             "line": {
              "color": "#E5ECF6",
              "width": 0.5
             },
             "pattern": {
              "fillmode": "overlay",
              "size": 10,
              "solidity": 0.2
             }
            },
            "type": "barpolar"
           }
          ],
          "carpet": [
           {
            "aaxis": {
             "endlinecolor": "#2a3f5f",
             "gridcolor": "white",
             "linecolor": "white",
             "minorgridcolor": "white",
             "startlinecolor": "#2a3f5f"
            },
            "baxis": {
             "endlinecolor": "#2a3f5f",
             "gridcolor": "white",
             "linecolor": "white",
             "minorgridcolor": "white",
             "startlinecolor": "#2a3f5f"
            },
            "type": "carpet"
           }
          ],
          "choropleth": [
           {
            "colorbar": {
             "outlinewidth": 0,
             "ticks": ""
            },
            "type": "choropleth"
           }
          ],
          "contour": [
           {
            "colorbar": {
             "outlinewidth": 0,
             "ticks": ""
            },
            "colorscale": [
             [
              0,
              "#0d0887"
             ],
             [
              0.1111111111111111,
              "#46039f"
             ],
             [
              0.2222222222222222,
              "#7201a8"
             ],
             [
              0.3333333333333333,
              "#9c179e"
             ],
             [
              0.4444444444444444,
              "#bd3786"
             ],
             [
              0.5555555555555556,
              "#d8576b"
             ],
             [
              0.6666666666666666,
              "#ed7953"
             ],
             [
              0.7777777777777778,
              "#fb9f3a"
             ],
             [
              0.8888888888888888,
              "#fdca26"
             ],
             [
              1,
              "#f0f921"
             ]
            ],
            "type": "contour"
           }
          ],
          "contourcarpet": [
           {
            "colorbar": {
             "outlinewidth": 0,
             "ticks": ""
            },
            "type": "contourcarpet"
           }
          ],
          "heatmap": [
           {
            "colorbar": {
             "outlinewidth": 0,
             "ticks": ""
            },
            "colorscale": [
             [
              0,
              "#0d0887"
             ],
             [
              0.1111111111111111,
              "#46039f"
             ],
             [
              0.2222222222222222,
              "#7201a8"
             ],
             [
              0.3333333333333333,
              "#9c179e"
             ],
             [
              0.4444444444444444,
              "#bd3786"
             ],
             [
              0.5555555555555556,
              "#d8576b"
             ],
             [
              0.6666666666666666,
              "#ed7953"
             ],
             [
              0.7777777777777778,
              "#fb9f3a"
             ],
             [
              0.8888888888888888,
              "#fdca26"
             ],
             [
              1,
              "#f0f921"
             ]
            ],
            "type": "heatmap"
           }
          ],
          "heatmapgl": [
           {
            "colorbar": {
             "outlinewidth": 0,
             "ticks": ""
            },
            "colorscale": [
             [
              0,
              "#0d0887"
             ],
             [
              0.1111111111111111,
              "#46039f"
             ],
             [
              0.2222222222222222,
              "#7201a8"
             ],
             [
              0.3333333333333333,
              "#9c179e"
             ],
             [
              0.4444444444444444,
              "#bd3786"
             ],
             [
              0.5555555555555556,
              "#d8576b"
             ],
             [
              0.6666666666666666,
              "#ed7953"
             ],
             [
              0.7777777777777778,
              "#fb9f3a"
             ],
             [
              0.8888888888888888,
              "#fdca26"
             ],
             [
              1,
              "#f0f921"
             ]
            ],
            "type": "heatmapgl"
           }
          ],
          "histogram": [
           {
            "marker": {
             "pattern": {
              "fillmode": "overlay",
              "size": 10,
              "solidity": 0.2
             }
            },
            "type": "histogram"
           }
          ],
          "histogram2d": [
           {
            "colorbar": {
             "outlinewidth": 0,
             "ticks": ""
            },
            "colorscale": [
             [
              0,
              "#0d0887"
             ],
             [
              0.1111111111111111,
              "#46039f"
             ],
             [
              0.2222222222222222,
              "#7201a8"
             ],
             [
              0.3333333333333333,
              "#9c179e"
             ],
             [
              0.4444444444444444,
              "#bd3786"
             ],
             [
              0.5555555555555556,
              "#d8576b"
             ],
             [
              0.6666666666666666,
              "#ed7953"
             ],
             [
              0.7777777777777778,
              "#fb9f3a"
             ],
             [
              0.8888888888888888,
              "#fdca26"
             ],
             [
              1,
              "#f0f921"
             ]
            ],
            "type": "histogram2d"
           }
          ],
          "histogram2dcontour": [
           {
            "colorbar": {
             "outlinewidth": 0,
             "ticks": ""
            },
            "colorscale": [
             [
              0,
              "#0d0887"
             ],
             [
              0.1111111111111111,
              "#46039f"
             ],
             [
              0.2222222222222222,
              "#7201a8"
             ],
             [
              0.3333333333333333,
              "#9c179e"
             ],
             [
              0.4444444444444444,
              "#bd3786"
             ],
             [
              0.5555555555555556,
              "#d8576b"
             ],
             [
              0.6666666666666666,
              "#ed7953"
             ],
             [
              0.7777777777777778,
              "#fb9f3a"
             ],
             [
              0.8888888888888888,
              "#fdca26"
             ],
             [
              1,
              "#f0f921"
             ]
            ],
            "type": "histogram2dcontour"
           }
          ],
          "mesh3d": [
           {
            "colorbar": {
             "outlinewidth": 0,
             "ticks": ""
            },
            "type": "mesh3d"
           }
          ],
          "parcoords": [
           {
            "line": {
             "colorbar": {
              "outlinewidth": 0,
              "ticks": ""
             }
            },
            "type": "parcoords"
           }
          ],
          "pie": [
           {
            "automargin": true,
            "type": "pie"
           }
          ],
          "scatter": [
           {
            "fillpattern": {
             "fillmode": "overlay",
             "size": 10,
             "solidity": 0.2
            },
            "type": "scatter"
           }
          ],
          "scatter3d": [
           {
            "line": {
             "colorbar": {
              "outlinewidth": 0,
              "ticks": ""
             }
            },
            "marker": {
             "colorbar": {
              "outlinewidth": 0,
              "ticks": ""
             }
            },
            "type": "scatter3d"
           }
          ],
          "scattercarpet": [
           {
            "marker": {
             "colorbar": {
              "outlinewidth": 0,
              "ticks": ""
             }
            },
            "type": "scattercarpet"
           }
          ],
          "scattergeo": [
           {
            "marker": {
             "colorbar": {
              "outlinewidth": 0,
              "ticks": ""
             }
            },
            "type": "scattergeo"
           }
          ],
          "scattergl": [
           {
            "marker": {
             "colorbar": {
              "outlinewidth": 0,
              "ticks": ""
             }
            },
            "type": "scattergl"
           }
          ],
          "scattermapbox": [
           {
            "marker": {
             "colorbar": {
              "outlinewidth": 0,
              "ticks": ""
             }
            },
            "type": "scattermapbox"
           }
          ],
          "scatterpolar": [
           {
            "marker": {
             "colorbar": {
              "outlinewidth": 0,
              "ticks": ""
             }
            },
            "type": "scatterpolar"
           }
          ],
          "scatterpolargl": [
           {
            "marker": {
             "colorbar": {
              "outlinewidth": 0,
              "ticks": ""
             }
            },
            "type": "scatterpolargl"
           }
          ],
          "scatterternary": [
           {
            "marker": {
             "colorbar": {
              "outlinewidth": 0,
              "ticks": ""
             }
            },
            "type": "scatterternary"
           }
          ],
          "surface": [
           {
            "colorbar": {
             "outlinewidth": 0,
             "ticks": ""
            },
            "colorscale": [
             [
              0,
              "#0d0887"
             ],
             [
              0.1111111111111111,
              "#46039f"
             ],
             [
              0.2222222222222222,
              "#7201a8"
             ],
             [
              0.3333333333333333,
              "#9c179e"
             ],
             [
              0.4444444444444444,
              "#bd3786"
             ],
             [
              0.5555555555555556,
              "#d8576b"
             ],
             [
              0.6666666666666666,
              "#ed7953"
             ],
             [
              0.7777777777777778,
              "#fb9f3a"
             ],
             [
              0.8888888888888888,
              "#fdca26"
             ],
             [
              1,
              "#f0f921"
             ]
            ],
            "type": "surface"
           }
          ],
          "table": [
           {
            "cells": {
             "fill": {
              "color": "#EBF0F8"
             },
             "line": {
              "color": "white"
             }
            },
            "header": {
             "fill": {
              "color": "#C8D4E3"
             },
             "line": {
              "color": "white"
             }
            },
            "type": "table"
           }
          ]
         },
         "layout": {
          "annotationdefaults": {
           "arrowcolor": "#2a3f5f",
           "arrowhead": 0,
           "arrowwidth": 1
          },
          "autotypenumbers": "strict",
          "coloraxis": {
           "colorbar": {
            "outlinewidth": 0,
            "ticks": ""
           }
          },
          "colorscale": {
           "diverging": [
            [
             0,
             "#8e0152"
            ],
            [
             0.1,
             "#c51b7d"
            ],
            [
             0.2,
             "#de77ae"
            ],
            [
             0.3,
             "#f1b6da"
            ],
            [
             0.4,
             "#fde0ef"
            ],
            [
             0.5,
             "#f7f7f7"
            ],
            [
             0.6,
             "#e6f5d0"
            ],
            [
             0.7,
             "#b8e186"
            ],
            [
             0.8,
             "#7fbc41"
            ],
            [
             0.9,
             "#4d9221"
            ],
            [
             1,
             "#276419"
            ]
           ],
           "sequential": [
            [
             0,
             "#0d0887"
            ],
            [
             0.1111111111111111,
             "#46039f"
            ],
            [
             0.2222222222222222,
             "#7201a8"
            ],
            [
             0.3333333333333333,
             "#9c179e"
            ],
            [
             0.4444444444444444,
             "#bd3786"
            ],
            [
             0.5555555555555556,
             "#d8576b"
            ],
            [
             0.6666666666666666,
             "#ed7953"
            ],
            [
             0.7777777777777778,
             "#fb9f3a"
            ],
            [
             0.8888888888888888,
             "#fdca26"
            ],
            [
             1,
             "#f0f921"
            ]
           ],
           "sequentialminus": [
            [
             0,
             "#0d0887"
            ],
            [
             0.1111111111111111,
             "#46039f"
            ],
            [
             0.2222222222222222,
             "#7201a8"
            ],
            [
             0.3333333333333333,
             "#9c179e"
            ],
            [
             0.4444444444444444,
             "#bd3786"
            ],
            [
             0.5555555555555556,
             "#d8576b"
            ],
            [
             0.6666666666666666,
             "#ed7953"
            ],
            [
             0.7777777777777778,
             "#fb9f3a"
            ],
            [
             0.8888888888888888,
             "#fdca26"
            ],
            [
             1,
             "#f0f921"
            ]
           ]
          },
          "colorway": [
           "#636efa",
           "#EF553B",
           "#00cc96",
           "#ab63fa",
           "#FFA15A",
           "#19d3f3",
           "#FF6692",
           "#B6E880",
           "#FF97FF",
           "#FECB52"
          ],
          "font": {
           "color": "#2a3f5f"
          },
          "geo": {
           "bgcolor": "white",
           "lakecolor": "white",
           "landcolor": "#E5ECF6",
           "showlakes": true,
           "showland": true,
           "subunitcolor": "white"
          },
          "hoverlabel": {
           "align": "left"
          },
          "hovermode": "closest",
          "mapbox": {
           "style": "light"
          },
          "paper_bgcolor": "white",
          "plot_bgcolor": "#E5ECF6",
          "polar": {
           "angularaxis": {
            "gridcolor": "white",
            "linecolor": "white",
            "ticks": ""
           },
           "bgcolor": "#E5ECF6",
           "radialaxis": {
            "gridcolor": "white",
            "linecolor": "white",
            "ticks": ""
           }
          },
          "scene": {
           "xaxis": {
            "backgroundcolor": "#E5ECF6",
            "gridcolor": "white",
            "gridwidth": 2,
            "linecolor": "white",
            "showbackground": true,
            "ticks": "",
            "zerolinecolor": "white"
           },
           "yaxis": {
            "backgroundcolor": "#E5ECF6",
            "gridcolor": "white",
            "gridwidth": 2,
            "linecolor": "white",
            "showbackground": true,
            "ticks": "",
            "zerolinecolor": "white"
           },
           "zaxis": {
            "backgroundcolor": "#E5ECF6",
            "gridcolor": "white",
            "gridwidth": 2,
            "linecolor": "white",
            "showbackground": true,
            "ticks": "",
            "zerolinecolor": "white"
           }
          },
          "shapedefaults": {
           "line": {
            "color": "#2a3f5f"
           }
          },
          "ternary": {
           "aaxis": {
            "gridcolor": "white",
            "linecolor": "white",
            "ticks": ""
           },
           "baxis": {
            "gridcolor": "white",
            "linecolor": "white",
            "ticks": ""
           },
           "bgcolor": "#E5ECF6",
           "caxis": {
            "gridcolor": "white",
            "linecolor": "white",
            "ticks": ""
           }
          },
          "title": {
           "x": 0.05
          },
          "xaxis": {
           "automargin": true,
           "gridcolor": "white",
           "linecolor": "white",
           "ticks": "",
           "title": {
            "standoff": 15
           },
           "zerolinecolor": "white",
           "zerolinewidth": 2
          },
          "yaxis": {
           "automargin": true,
           "gridcolor": "white",
           "linecolor": "white",
           "ticks": "",
           "title": {
            "standoff": 15
           },
           "zerolinecolor": "white",
           "zerolinewidth": 2
          }
         }
        }
       }
      }
     },
     "metadata": {},
     "output_type": "display_data"
    }
   ],
   "source": [
    "fig = px.line_3d(df, x='T1', y='T2', z='EER',color='T2')\n",
    "fig.show()"
   ]
  },
  {
   "cell_type": "code",
   "execution_count": 11,
   "metadata": {},
   "outputs": [
    {
     "data": {
      "application/vnd.plotly.v1+json": {
       "config": {
        "plotlyServerURL": "https://plot.ly"
       },
       "data": [
        {
         "hovertemplate": "T1=%{x}<br>T2=%{y}<br>EER=%{z}<extra></extra>",
         "legendgroup": "0.1",
         "line": {
          "color": "#636efa",
          "dash": "solid"
         },
         "marker": {
          "symbol": "circle"
         },
         "mode": "lines",
         "name": "0.1",
         "scene": "scene",
         "showlegend": true,
         "type": "scatter3d",
         "x": [
          0.1,
          0.1,
          0.1,
          0.1,
          0.1,
          0.1,
          0.1,
          0.1,
          0.1,
          0.1
         ],
         "y": [
          0.01,
          0.11,
          0.21,
          0.31,
          0.41,
          0.51,
          0.61,
          0.71,
          0.81,
          0.91
         ],
         "z": [
          27.62,
          27.59,
          32.28,
          36.68,
          40.91,
          42.93,
          44.28,
          45.63,
          45.7,
          46.46
         ]
        },
        {
         "hovertemplate": "T1=%{x}<br>T2=%{y}<br>EER=%{z}<extra></extra>",
         "legendgroup": "0.2",
         "line": {
          "color": "#EF553B",
          "dash": "solid"
         },
         "marker": {
          "symbol": "circle"
         },
         "mode": "lines",
         "name": "0.2",
         "scene": "scene",
         "showlegend": true,
         "type": "scatter3d",
         "x": [
          0.2,
          0.2,
          0.2,
          0.2,
          0.2,
          0.2,
          0.2,
          0.2,
          0.2,
          0.2
         ],
         "y": [
          0.01,
          0.11,
          0.21,
          0.31,
          0.41,
          0.51,
          0.61,
          0.71,
          0.81,
          0.91
         ],
         "z": [
          27.81,
          26.74,
          30.9,
          37.83,
          40.67,
          42.73,
          43.89,
          45.16,
          45.36,
          44.96
         ]
        },
        {
         "hovertemplate": "T1=%{x}<br>T2=%{y}<br>EER=%{z}<extra></extra>",
         "legendgroup": "0.3",
         "line": {
          "color": "#00cc96",
          "dash": "solid"
         },
         "marker": {
          "symbol": "circle"
         },
         "mode": "lines",
         "name": "0.3",
         "scene": "scene",
         "showlegend": true,
         "type": "scatter3d",
         "x": [
          0.3,
          0.3,
          0.3,
          0.3,
          0.3,
          0.3,
          0.3,
          0.3,
          0.3,
          0.3
         ],
         "y": [
          0.01,
          0.11,
          0.21,
          0.31,
          0.41,
          0.51,
          0.61,
          0.71,
          0.81,
          0.91
         ],
         "z": [
          28.11,
          26.3,
          31.39,
          37.79,
          40.9,
          42.17,
          42.96,
          44.27,
          44.51,
          45.03
         ]
        },
        {
         "hovertemplate": "T1=%{x}<br>T2=%{y}<br>EER=%{z}<extra></extra>",
         "legendgroup": "0.4",
         "line": {
          "color": "#ab63fa",
          "dash": "solid"
         },
         "marker": {
          "symbol": "circle"
         },
         "mode": "lines",
         "name": "0.4",
         "scene": "scene",
         "showlegend": true,
         "type": "scatter3d",
         "x": [
          0.4,
          0.4,
          0.4,
          0.4,
          0.4,
          0.4,
          0.4,
          0.4,
          0.4,
          0.4
         ],
         "y": [
          0.01,
          0.11,
          0.21,
          0.31,
          0.41,
          0.51,
          0.61,
          0.71,
          0.81,
          0.91
         ],
         "z": [
          28.48,
          25.32,
          32.41,
          37.21,
          40.29,
          42.22,
          43.27,
          43.38,
          43.71,
          43.81
         ]
        },
        {
         "hovertemplate": "T1=%{x}<br>T2=%{y}<br>EER=%{z}<extra></extra>",
         "legendgroup": "0.5",
         "line": {
          "color": "#FFA15A",
          "dash": "solid"
         },
         "marker": {
          "symbol": "circle"
         },
         "mode": "lines",
         "name": "0.5",
         "scene": "scene",
         "showlegend": true,
         "type": "scatter3d",
         "x": [
          0.5,
          0.5,
          0.5,
          0.5,
          0.5,
          0.5,
          0.5,
          0.5,
          0.5,
          0.5
         ],
         "y": [
          0.01,
          0.11,
          0.21,
          0.31,
          0.41,
          0.51,
          0.61,
          0.71,
          0.81,
          0.91
         ],
         "z": [
          28.54,
          25.42,
          32.59,
          37.73,
          41.04,
          41.96,
          42.09,
          43.08,
          42.43,
          43.12
         ]
        },
        {
         "hovertemplate": "T1=%{x}<br>T2=%{y}<br>EER=%{z}<extra></extra>",
         "legendgroup": "0.6",
         "line": {
          "color": "#19d3f3",
          "dash": "solid"
         },
         "marker": {
          "symbol": "circle"
         },
         "mode": "lines",
         "name": "0.6",
         "scene": "scene",
         "showlegend": true,
         "type": "scatter3d",
         "x": [
          0.6,
          0.6,
          0.6,
          0.6,
          0.6,
          0.6,
          0.6,
          0.6,
          0.6,
          0.6
         ],
         "y": [
          0.01,
          0.11,
          0.21,
          0.31,
          0.41,
          0.51,
          0.61,
          0.71,
          0.81,
          0.91
         ],
         "z": [
          29.22,
          24.91,
          31.61,
          36.97,
          40.14,
          40.44,
          41.26,
          41.62,
          40.86,
          40.81
         ]
        },
        {
         "hovertemplate": "T1=%{x}<br>T2=%{y}<br>EER=%{z}<extra></extra>",
         "legendgroup": "0.7",
         "line": {
          "color": "#FF6692",
          "dash": "solid"
         },
         "marker": {
          "symbol": "circle"
         },
         "mode": "lines",
         "name": "0.7",
         "scene": "scene",
         "showlegend": true,
         "type": "scatter3d",
         "x": [
          0.7,
          0.7,
          0.7,
          0.7,
          0.7,
          0.7,
          0.7,
          0.7,
          0.7,
          0.7
         ],
         "y": [
          0.01,
          0.11,
          0.21,
          0.31,
          0.41,
          0.51,
          0.61,
          0.71,
          0.81,
          0.91
         ],
         "z": [
          29.39,
          25.66,
          32.17,
          37.4,
          39.79,
          39.87,
          40.3,
          40.6,
          40.67,
          40.31
         ]
        },
        {
         "hovertemplate": "T1=%{x}<br>T2=%{y}<br>EER=%{z}<extra></extra>",
         "legendgroup": "0.8",
         "line": {
          "color": "#B6E880",
          "dash": "solid"
         },
         "marker": {
          "symbol": "circle"
         },
         "mode": "lines",
         "name": "0.8",
         "scene": "scene",
         "showlegend": true,
         "type": "scatter3d",
         "x": [
          0.8,
          0.8,
          0.8,
          0.8,
          0.8,
          0.8,
          0.8,
          0.8,
          0.8,
          0.8
         ],
         "y": [
          0.01,
          0.11,
          0.21,
          0.31,
          0.41,
          0.51,
          0.61,
          0.71,
          0.81,
          0.91
         ],
         "z": [
          29.46,
          25.58,
          31.93,
          36.81,
          38.36,
          39.32,
          39.11,
          39.37,
          39.17,
          38.22
         ]
        },
        {
         "hovertemplate": "T1=%{x}<br>T2=%{y}<br>EER=%{z}<extra></extra>",
         "legendgroup": "0.9",
         "line": {
          "color": "#FF97FF",
          "dash": "solid"
         },
         "marker": {
          "symbol": "circle"
         },
         "mode": "lines",
         "name": "0.9",
         "scene": "scene",
         "showlegend": true,
         "type": "scatter3d",
         "x": [
          0.9,
          0.9,
          0.9,
          0.9,
          0.9,
          0.9,
          0.9,
          0.9,
          0.9,
          0.9
         ],
         "y": [
          0.01,
          0.11,
          0.21,
          0.31,
          0.41,
          0.51,
          0.61,
          0.71,
          0.81,
          0.91
         ],
         "z": [
          28.92,
          25.12,
          31.92,
          36.7,
          38.2,
          38.59,
          37.68,
          38.49,
          38.02,
          38.3
         ]
        }
       ],
       "layout": {
        "legend": {
         "title": {
          "text": "T1"
         },
         "tracegroupgap": 0
        },
        "margin": {
         "t": 60
        },
        "scene": {
         "domain": {
          "x": [
           0,
           1
          ],
          "y": [
           0,
           1
          ]
         },
         "xaxis": {
          "categoryarray": [
           0.1,
           0.2,
           0.3,
           0.4,
           0.5,
           0.6,
           0.7,
           0.8,
           0.9
          ],
          "categoryorder": "array",
          "title": {
           "text": "T1"
          }
         },
         "yaxis": {
          "title": {
           "text": "T2"
          }
         },
         "zaxis": {
          "title": {
           "text": "EER"
          }
         }
        },
        "template": {
         "data": {
          "bar": [
           {
            "error_x": {
             "color": "#2a3f5f"
            },
            "error_y": {
             "color": "#2a3f5f"
            },
            "marker": {
             "line": {
              "color": "#E5ECF6",
              "width": 0.5
             },
             "pattern": {
              "fillmode": "overlay",
              "size": 10,
              "solidity": 0.2
             }
            },
            "type": "bar"
           }
          ],
          "barpolar": [
           {
            "marker": {
             "line": {
              "color": "#E5ECF6",
              "width": 0.5
             },
             "pattern": {
              "fillmode": "overlay",
              "size": 10,
              "solidity": 0.2
             }
            },
            "type": "barpolar"
           }
          ],
          "carpet": [
           {
            "aaxis": {
             "endlinecolor": "#2a3f5f",
             "gridcolor": "white",
             "linecolor": "white",
             "minorgridcolor": "white",
             "startlinecolor": "#2a3f5f"
            },
            "baxis": {
             "endlinecolor": "#2a3f5f",
             "gridcolor": "white",
             "linecolor": "white",
             "minorgridcolor": "white",
             "startlinecolor": "#2a3f5f"
            },
            "type": "carpet"
           }
          ],
          "choropleth": [
           {
            "colorbar": {
             "outlinewidth": 0,
             "ticks": ""
            },
            "type": "choropleth"
           }
          ],
          "contour": [
           {
            "colorbar": {
             "outlinewidth": 0,
             "ticks": ""
            },
            "colorscale": [
             [
              0,
              "#0d0887"
             ],
             [
              0.1111111111111111,
              "#46039f"
             ],
             [
              0.2222222222222222,
              "#7201a8"
             ],
             [
              0.3333333333333333,
              "#9c179e"
             ],
             [
              0.4444444444444444,
              "#bd3786"
             ],
             [
              0.5555555555555556,
              "#d8576b"
             ],
             [
              0.6666666666666666,
              "#ed7953"
             ],
             [
              0.7777777777777778,
              "#fb9f3a"
             ],
             [
              0.8888888888888888,
              "#fdca26"
             ],
             [
              1,
              "#f0f921"
             ]
            ],
            "type": "contour"
           }
          ],
          "contourcarpet": [
           {
            "colorbar": {
             "outlinewidth": 0,
             "ticks": ""
            },
            "type": "contourcarpet"
           }
          ],
          "heatmap": [
           {
            "colorbar": {
             "outlinewidth": 0,
             "ticks": ""
            },
            "colorscale": [
             [
              0,
              "#0d0887"
             ],
             [
              0.1111111111111111,
              "#46039f"
             ],
             [
              0.2222222222222222,
              "#7201a8"
             ],
             [
              0.3333333333333333,
              "#9c179e"
             ],
             [
              0.4444444444444444,
              "#bd3786"
             ],
             [
              0.5555555555555556,
              "#d8576b"
             ],
             [
              0.6666666666666666,
              "#ed7953"
             ],
             [
              0.7777777777777778,
              "#fb9f3a"
             ],
             [
              0.8888888888888888,
              "#fdca26"
             ],
             [
              1,
              "#f0f921"
             ]
            ],
            "type": "heatmap"
           }
          ],
          "heatmapgl": [
           {
            "colorbar": {
             "outlinewidth": 0,
             "ticks": ""
            },
            "colorscale": [
             [
              0,
              "#0d0887"
             ],
             [
              0.1111111111111111,
              "#46039f"
             ],
             [
              0.2222222222222222,
              "#7201a8"
             ],
             [
              0.3333333333333333,
              "#9c179e"
             ],
             [
              0.4444444444444444,
              "#bd3786"
             ],
             [
              0.5555555555555556,
              "#d8576b"
             ],
             [
              0.6666666666666666,
              "#ed7953"
             ],
             [
              0.7777777777777778,
              "#fb9f3a"
             ],
             [
              0.8888888888888888,
              "#fdca26"
             ],
             [
              1,
              "#f0f921"
             ]
            ],
            "type": "heatmapgl"
           }
          ],
          "histogram": [
           {
            "marker": {
             "pattern": {
              "fillmode": "overlay",
              "size": 10,
              "solidity": 0.2
             }
            },
            "type": "histogram"
           }
          ],
          "histogram2d": [
           {
            "colorbar": {
             "outlinewidth": 0,
             "ticks": ""
            },
            "colorscale": [
             [
              0,
              "#0d0887"
             ],
             [
              0.1111111111111111,
              "#46039f"
             ],
             [
              0.2222222222222222,
              "#7201a8"
             ],
             [
              0.3333333333333333,
              "#9c179e"
             ],
             [
              0.4444444444444444,
              "#bd3786"
             ],
             [
              0.5555555555555556,
              "#d8576b"
             ],
             [
              0.6666666666666666,
              "#ed7953"
             ],
             [
              0.7777777777777778,
              "#fb9f3a"
             ],
             [
              0.8888888888888888,
              "#fdca26"
             ],
             [
              1,
              "#f0f921"
             ]
            ],
            "type": "histogram2d"
           }
          ],
          "histogram2dcontour": [
           {
            "colorbar": {
             "outlinewidth": 0,
             "ticks": ""
            },
            "colorscale": [
             [
              0,
              "#0d0887"
             ],
             [
              0.1111111111111111,
              "#46039f"
             ],
             [
              0.2222222222222222,
              "#7201a8"
             ],
             [
              0.3333333333333333,
              "#9c179e"
             ],
             [
              0.4444444444444444,
              "#bd3786"
             ],
             [
              0.5555555555555556,
              "#d8576b"
             ],
             [
              0.6666666666666666,
              "#ed7953"
             ],
             [
              0.7777777777777778,
              "#fb9f3a"
             ],
             [
              0.8888888888888888,
              "#fdca26"
             ],
             [
              1,
              "#f0f921"
             ]
            ],
            "type": "histogram2dcontour"
           }
          ],
          "mesh3d": [
           {
            "colorbar": {
             "outlinewidth": 0,
             "ticks": ""
            },
            "type": "mesh3d"
           }
          ],
          "parcoords": [
           {
            "line": {
             "colorbar": {
              "outlinewidth": 0,
              "ticks": ""
             }
            },
            "type": "parcoords"
           }
          ],
          "pie": [
           {
            "automargin": true,
            "type": "pie"
           }
          ],
          "scatter": [
           {
            "fillpattern": {
             "fillmode": "overlay",
             "size": 10,
             "solidity": 0.2
            },
            "type": "scatter"
           }
          ],
          "scatter3d": [
           {
            "line": {
             "colorbar": {
              "outlinewidth": 0,
              "ticks": ""
             }
            },
            "marker": {
             "colorbar": {
              "outlinewidth": 0,
              "ticks": ""
             }
            },
            "type": "scatter3d"
           }
          ],
          "scattercarpet": [
           {
            "marker": {
             "colorbar": {
              "outlinewidth": 0,
              "ticks": ""
             }
            },
            "type": "scattercarpet"
           }
          ],
          "scattergeo": [
           {
            "marker": {
             "colorbar": {
              "outlinewidth": 0,
              "ticks": ""
             }
            },
            "type": "scattergeo"
           }
          ],
          "scattergl": [
           {
            "marker": {
             "colorbar": {
              "outlinewidth": 0,
              "ticks": ""
             }
            },
            "type": "scattergl"
           }
          ],
          "scattermapbox": [
           {
            "marker": {
             "colorbar": {
              "outlinewidth": 0,
              "ticks": ""
             }
            },
            "type": "scattermapbox"
           }
          ],
          "scatterpolar": [
           {
            "marker": {
             "colorbar": {
              "outlinewidth": 0,
              "ticks": ""
             }
            },
            "type": "scatterpolar"
           }
          ],
          "scatterpolargl": [
           {
            "marker": {
             "colorbar": {
              "outlinewidth": 0,
              "ticks": ""
             }
            },
            "type": "scatterpolargl"
           }
          ],
          "scatterternary": [
           {
            "marker": {
             "colorbar": {
              "outlinewidth": 0,
              "ticks": ""
             }
            },
            "type": "scatterternary"
           }
          ],
          "surface": [
           {
            "colorbar": {
             "outlinewidth": 0,
             "ticks": ""
            },
            "colorscale": [
             [
              0,
              "#0d0887"
             ],
             [
              0.1111111111111111,
              "#46039f"
             ],
             [
              0.2222222222222222,
              "#7201a8"
             ],
             [
              0.3333333333333333,
              "#9c179e"
             ],
             [
              0.4444444444444444,
              "#bd3786"
             ],
             [
              0.5555555555555556,
              "#d8576b"
             ],
             [
              0.6666666666666666,
              "#ed7953"
             ],
             [
              0.7777777777777778,
              "#fb9f3a"
             ],
             [
              0.8888888888888888,
              "#fdca26"
             ],
             [
              1,
              "#f0f921"
             ]
            ],
            "type": "surface"
           }
          ],
          "table": [
           {
            "cells": {
             "fill": {
              "color": "#EBF0F8"
             },
             "line": {
              "color": "white"
             }
            },
            "header": {
             "fill": {
              "color": "#C8D4E3"
             },
             "line": {
              "color": "white"
             }
            },
            "type": "table"
           }
          ]
         },
         "layout": {
          "annotationdefaults": {
           "arrowcolor": "#2a3f5f",
           "arrowhead": 0,
           "arrowwidth": 1
          },
          "autotypenumbers": "strict",
          "coloraxis": {
           "colorbar": {
            "outlinewidth": 0,
            "ticks": ""
           }
          },
          "colorscale": {
           "diverging": [
            [
             0,
             "#8e0152"
            ],
            [
             0.1,
             "#c51b7d"
            ],
            [
             0.2,
             "#de77ae"
            ],
            [
             0.3,
             "#f1b6da"
            ],
            [
             0.4,
             "#fde0ef"
            ],
            [
             0.5,
             "#f7f7f7"
            ],
            [
             0.6,
             "#e6f5d0"
            ],
            [
             0.7,
             "#b8e186"
            ],
            [
             0.8,
             "#7fbc41"
            ],
            [
             0.9,
             "#4d9221"
            ],
            [
             1,
             "#276419"
            ]
           ],
           "sequential": [
            [
             0,
             "#0d0887"
            ],
            [
             0.1111111111111111,
             "#46039f"
            ],
            [
             0.2222222222222222,
             "#7201a8"
            ],
            [
             0.3333333333333333,
             "#9c179e"
            ],
            [
             0.4444444444444444,
             "#bd3786"
            ],
            [
             0.5555555555555556,
             "#d8576b"
            ],
            [
             0.6666666666666666,
             "#ed7953"
            ],
            [
             0.7777777777777778,
             "#fb9f3a"
            ],
            [
             0.8888888888888888,
             "#fdca26"
            ],
            [
             1,
             "#f0f921"
            ]
           ],
           "sequentialminus": [
            [
             0,
             "#0d0887"
            ],
            [
             0.1111111111111111,
             "#46039f"
            ],
            [
             0.2222222222222222,
             "#7201a8"
            ],
            [
             0.3333333333333333,
             "#9c179e"
            ],
            [
             0.4444444444444444,
             "#bd3786"
            ],
            [
             0.5555555555555556,
             "#d8576b"
            ],
            [
             0.6666666666666666,
             "#ed7953"
            ],
            [
             0.7777777777777778,
             "#fb9f3a"
            ],
            [
             0.8888888888888888,
             "#fdca26"
            ],
            [
             1,
             "#f0f921"
            ]
           ]
          },
          "colorway": [
           "#636efa",
           "#EF553B",
           "#00cc96",
           "#ab63fa",
           "#FFA15A",
           "#19d3f3",
           "#FF6692",
           "#B6E880",
           "#FF97FF",
           "#FECB52"
          ],
          "font": {
           "color": "#2a3f5f"
          },
          "geo": {
           "bgcolor": "white",
           "lakecolor": "white",
           "landcolor": "#E5ECF6",
           "showlakes": true,
           "showland": true,
           "subunitcolor": "white"
          },
          "hoverlabel": {
           "align": "left"
          },
          "hovermode": "closest",
          "mapbox": {
           "style": "light"
          },
          "paper_bgcolor": "white",
          "plot_bgcolor": "#E5ECF6",
          "polar": {
           "angularaxis": {
            "gridcolor": "white",
            "linecolor": "white",
            "ticks": ""
           },
           "bgcolor": "#E5ECF6",
           "radialaxis": {
            "gridcolor": "white",
            "linecolor": "white",
            "ticks": ""
           }
          },
          "scene": {
           "xaxis": {
            "backgroundcolor": "#E5ECF6",
            "gridcolor": "white",
            "gridwidth": 2,
            "linecolor": "white",
            "showbackground": true,
            "ticks": "",
            "zerolinecolor": "white"
           },
           "yaxis": {
            "backgroundcolor": "#E5ECF6",
            "gridcolor": "white",
            "gridwidth": 2,
            "linecolor": "white",
            "showbackground": true,
            "ticks": "",
            "zerolinecolor": "white"
           },
           "zaxis": {
            "backgroundcolor": "#E5ECF6",
            "gridcolor": "white",
            "gridwidth": 2,
            "linecolor": "white",
            "showbackground": true,
            "ticks": "",
            "zerolinecolor": "white"
           }
          },
          "shapedefaults": {
           "line": {
            "color": "#2a3f5f"
           }
          },
          "ternary": {
           "aaxis": {
            "gridcolor": "white",
            "linecolor": "white",
            "ticks": ""
           },
           "baxis": {
            "gridcolor": "white",
            "linecolor": "white",
            "ticks": ""
           },
           "bgcolor": "#E5ECF6",
           "caxis": {
            "gridcolor": "white",
            "linecolor": "white",
            "ticks": ""
           }
          },
          "title": {
           "x": 0.05
          },
          "xaxis": {
           "automargin": true,
           "gridcolor": "white",
           "linecolor": "white",
           "ticks": "",
           "title": {
            "standoff": 15
           },
           "zerolinecolor": "white",
           "zerolinewidth": 2
          },
          "yaxis": {
           "automargin": true,
           "gridcolor": "white",
           "linecolor": "white",
           "ticks": "",
           "title": {
            "standoff": 15
           },
           "zerolinecolor": "white",
           "zerolinewidth": 2
          }
         }
        }
       }
      }
     },
     "metadata": {},
     "output_type": "display_data"
    }
   ],
   "source": [
    "fig = px.line_3d(df, x='T1', y='T2', z='EER',color='T1')\n",
    "fig.show()"
   ]
  },
  {
   "cell_type": "code",
   "execution_count": 14,
   "metadata": {},
   "outputs": [
    {
     "data": {
      "text/html": [
       "<div>\n",
       "<style scoped>\n",
       "    .dataframe tbody tr th:only-of-type {\n",
       "        vertical-align: middle;\n",
       "    }\n",
       "\n",
       "    .dataframe tbody tr th {\n",
       "        vertical-align: top;\n",
       "    }\n",
       "\n",
       "    .dataframe thead th {\n",
       "        text-align: right;\n",
       "    }\n",
       "</style>\n",
       "<table border=\"1\" class=\"dataframe\">\n",
       "  <thead>\n",
       "    <tr style=\"text-align: right;\">\n",
       "      <th></th>\n",
       "      <th>T1</th>\n",
       "      <th>T2</th>\n",
       "      <th>T3</th>\n",
       "      <th>FAR</th>\n",
       "      <th>FRR</th>\n",
       "      <th>EER</th>\n",
       "    </tr>\n",
       "  </thead>\n",
       "  <tbody>\n",
       "    <tr>\n",
       "      <th>count</th>\n",
       "      <td>171.000000</td>\n",
       "      <td>171.000000</td>\n",
       "      <td>171.000000</td>\n",
       "      <td>171.000000</td>\n",
       "      <td>171.000000</td>\n",
       "      <td>171.000000</td>\n",
       "    </tr>\n",
       "    <tr>\n",
       "      <th>mean</th>\n",
       "      <td>0.500000</td>\n",
       "      <td>0.100000</td>\n",
       "      <td>103.128655</td>\n",
       "      <td>17.532398</td>\n",
       "      <td>36.380468</td>\n",
       "      <td>26.956550</td>\n",
       "    </tr>\n",
       "    <tr>\n",
       "      <th>std</th>\n",
       "      <td>0.258957</td>\n",
       "      <td>0.054933</td>\n",
       "      <td>86.798589</td>\n",
       "      <td>3.610491</td>\n",
       "      <td>5.271991</td>\n",
       "      <td>2.136986</td>\n",
       "    </tr>\n",
       "    <tr>\n",
       "      <th>min</th>\n",
       "      <td>0.100000</td>\n",
       "      <td>0.010000</td>\n",
       "      <td>0.000000</td>\n",
       "      <td>7.910000</td>\n",
       "      <td>25.780000</td>\n",
       "      <td>23.310000</td>\n",
       "    </tr>\n",
       "    <tr>\n",
       "      <th>25%</th>\n",
       "      <td>0.300000</td>\n",
       "      <td>0.050000</td>\n",
       "      <td>34.000000</td>\n",
       "      <td>15.375000</td>\n",
       "      <td>32.555000</td>\n",
       "      <td>25.190000</td>\n",
       "    </tr>\n",
       "    <tr>\n",
       "      <th>50%</th>\n",
       "      <td>0.500000</td>\n",
       "      <td>0.100000</td>\n",
       "      <td>74.000000</td>\n",
       "      <td>17.470000</td>\n",
       "      <td>35.780000</td>\n",
       "      <td>26.530000</td>\n",
       "    </tr>\n",
       "    <tr>\n",
       "      <th>75%</th>\n",
       "      <td>0.700000</td>\n",
       "      <td>0.150000</td>\n",
       "      <td>155.000000</td>\n",
       "      <td>19.620000</td>\n",
       "      <td>39.890000</td>\n",
       "      <td>28.605000</td>\n",
       "    </tr>\n",
       "    <tr>\n",
       "      <th>max</th>\n",
       "      <td>0.900000</td>\n",
       "      <td>0.190000</td>\n",
       "      <td>337.000000</td>\n",
       "      <td>28.780000</td>\n",
       "      <td>50.670000</td>\n",
       "      <td>31.610000</td>\n",
       "    </tr>\n",
       "  </tbody>\n",
       "</table>\n",
       "</div>"
      ],
      "text/plain": [
       "               T1          T2          T3         FAR         FRR         EER\n",
       "count  171.000000  171.000000  171.000000  171.000000  171.000000  171.000000\n",
       "mean     0.500000    0.100000  103.128655   17.532398   36.380468   26.956550\n",
       "std      0.258957    0.054933   86.798589    3.610491    5.271991    2.136986\n",
       "min      0.100000    0.010000    0.000000    7.910000   25.780000   23.310000\n",
       "25%      0.300000    0.050000   34.000000   15.375000   32.555000   25.190000\n",
       "50%      0.500000    0.100000   74.000000   17.470000   35.780000   26.530000\n",
       "75%      0.700000    0.150000  155.000000   19.620000   39.890000   28.605000\n",
       "max      0.900000    0.190000  337.000000   28.780000   50.670000   31.610000"
      ]
     },
     "execution_count": 14,
     "metadata": {},
     "output_type": "execute_result"
    }
   ],
   "source": [
    "\n",
    "eer = Path(r\"outputs\\fingernet\\anguli\\output_eer_T1[0.100,1.000,0.100]_T2[0.010,0.200,0.010].csv\")\n",
    "eer = pd.read_csv(eer)\n",
    "\n",
    "eer.describe()"
   ]
  },
  {
   "cell_type": "code",
   "execution_count": 15,
   "metadata": {},
   "outputs": [
    {
     "data": {
      "application/vnd.plotly.v1+json": {
       "config": {
        "plotlyServerURL": "https://plot.ly"
       },
       "data": [
        {
         "hovertemplate": "T1=%{x}<br>T2=%{y}<br>EER=%{z}<extra></extra>",
         "legendgroup": "0.1",
         "line": {
          "color": "#636efa",
          "dash": "solid"
         },
         "marker": {
          "symbol": "circle"
         },
         "mode": "lines",
         "name": "0.1",
         "scene": "scene",
         "showlegend": true,
         "type": "scatter3d",
         "x": [
          0.1,
          0.1,
          0.1,
          0.1,
          0.1,
          0.1,
          0.1,
          0.1,
          0.1,
          0.1,
          0.1,
          0.1,
          0.1,
          0.1,
          0.1,
          0.1,
          0.1,
          0.1,
          0.1
         ],
         "y": [
          0.01,
          0.02,
          0.03,
          0.04,
          0.05,
          0.06,
          0.07,
          0.08,
          0.09,
          0.1,
          0.11,
          0.12,
          0.13,
          0.14,
          0.15,
          0.16,
          0.17,
          0.18,
          0.19
         ],
         "z": [
          27.62,
          25.48,
          25.24,
          24.73,
          25.94,
          26.18,
          25.3,
          25.81,
          25.98,
          26.87,
          27.59,
          28,
          27.99,
          29.54,
          30.33,
          29.77,
          29.4,
          30.69,
          30.86
         ]
        },
        {
         "hovertemplate": "T1=%{x}<br>T2=%{y}<br>EER=%{z}<extra></extra>",
         "legendgroup": "0.2",
         "line": {
          "color": "#EF553B",
          "dash": "solid"
         },
         "marker": {
          "symbol": "circle"
         },
         "mode": "lines",
         "name": "0.2",
         "scene": "scene",
         "showlegend": true,
         "type": "scatter3d",
         "x": [
          0.2,
          0.2,
          0.2,
          0.2,
          0.2,
          0.2,
          0.2,
          0.2,
          0.2,
          0.2,
          0.2,
          0.2,
          0.2,
          0.2,
          0.2,
          0.2,
          0.2,
          0.2,
          0.2
         ],
         "y": [
          0.01,
          0.02,
          0.03,
          0.04,
          0.05,
          0.06,
          0.07,
          0.08,
          0.09,
          0.1,
          0.11,
          0.12,
          0.13,
          0.14,
          0.15,
          0.16,
          0.17,
          0.18,
          0.19
         ],
         "z": [
          27.81,
          25.12,
          25.5,
          25.91,
          25.72,
          25.33,
          24.64,
          25.16,
          25.4,
          25.27,
          26.74,
          27.09,
          27.94,
          27.67,
          28.41,
          29.01,
          29.47,
          30.02,
          30.87
         ]
        },
        {
         "hovertemplate": "T1=%{x}<br>T2=%{y}<br>EER=%{z}<extra></extra>",
         "legendgroup": "0.3",
         "line": {
          "color": "#00cc96",
          "dash": "solid"
         },
         "marker": {
          "symbol": "circle"
         },
         "mode": "lines",
         "name": "0.3",
         "scene": "scene",
         "showlegend": true,
         "type": "scatter3d",
         "x": [
          0.3,
          0.3,
          0.3,
          0.3,
          0.3,
          0.3,
          0.3,
          0.3,
          0.3,
          0.3,
          0.3,
          0.3,
          0.3,
          0.3,
          0.3,
          0.3,
          0.3,
          0.3,
          0.3
         ],
         "y": [
          0.01,
          0.02,
          0.03,
          0.04,
          0.05,
          0.06,
          0.07,
          0.08,
          0.09,
          0.1,
          0.11,
          0.12,
          0.13,
          0.14,
          0.15,
          0.16,
          0.17,
          0.18,
          0.19
         ],
         "z": [
          28.11,
          25.93,
          27.02,
          26,
          25.69,
          25.27,
          24.63,
          24.46,
          24.89,
          25.52,
          26.3,
          26.48,
          27.19,
          27.68,
          28.61,
          28.48,
          29.04,
          29.94,
          30.54
         ]
        },
        {
         "hovertemplate": "T1=%{x}<br>T2=%{y}<br>EER=%{z}<extra></extra>",
         "legendgroup": "0.4",
         "line": {
          "color": "#ab63fa",
          "dash": "solid"
         },
         "marker": {
          "symbol": "circle"
         },
         "mode": "lines",
         "name": "0.4",
         "scene": "scene",
         "showlegend": true,
         "type": "scatter3d",
         "x": [
          0.4,
          0.4,
          0.4,
          0.4,
          0.4,
          0.4,
          0.4,
          0.4,
          0.4,
          0.4,
          0.4,
          0.4,
          0.4,
          0.4,
          0.4,
          0.4,
          0.4,
          0.4,
          0.4
         ],
         "y": [
          0.01,
          0.02,
          0.03,
          0.04,
          0.05,
          0.06,
          0.07,
          0.08,
          0.09,
          0.1,
          0.11,
          0.12,
          0.13,
          0.14,
          0.15,
          0.16,
          0.17,
          0.18,
          0.19
         ],
         "z": [
          28.48,
          26.64,
          26.56,
          25.32,
          24.8,
          24.21,
          23.6,
          23.31,
          24.4,
          24.54,
          25.32,
          26.07,
          27.2,
          27.92,
          29.06,
          29.21,
          29.81,
          30.66,
          31.61
         ]
        },
        {
         "hovertemplate": "T1=%{x}<br>T2=%{y}<br>EER=%{z}<extra></extra>",
         "legendgroup": "0.5",
         "line": {
          "color": "#FFA15A",
          "dash": "solid"
         },
         "marker": {
          "symbol": "circle"
         },
         "mode": "lines",
         "name": "0.5",
         "scene": "scene",
         "showlegend": true,
         "type": "scatter3d",
         "x": [
          0.5,
          0.5,
          0.5,
          0.5,
          0.5,
          0.5,
          0.5,
          0.5,
          0.5,
          0.5,
          0.5,
          0.5,
          0.5,
          0.5,
          0.5,
          0.5,
          0.5,
          0.5,
          0.5
         ],
         "y": [
          0.01,
          0.02,
          0.03,
          0.04,
          0.05,
          0.06,
          0.07,
          0.08,
          0.09,
          0.1,
          0.11,
          0.12,
          0.13,
          0.14,
          0.15,
          0.16,
          0.17,
          0.18,
          0.19
         ],
         "z": [
          28.54,
          27.16,
          26.46,
          24.69,
          24.42,
          25.07,
          23.99,
          23.78,
          24.36,
          24.32,
          25.42,
          26.44,
          27.32,
          28.29,
          29.61,
          29.64,
          30.32,
          31.23,
          31.61
         ]
        },
        {
         "hovertemplate": "T1=%{x}<br>T2=%{y}<br>EER=%{z}<extra></extra>",
         "legendgroup": "0.6",
         "line": {
          "color": "#19d3f3",
          "dash": "solid"
         },
         "marker": {
          "symbol": "circle"
         },
         "mode": "lines",
         "name": "0.6",
         "scene": "scene",
         "showlegend": true,
         "type": "scatter3d",
         "x": [
          0.6,
          0.6,
          0.6,
          0.6,
          0.6,
          0.6,
          0.6,
          0.6,
          0.6,
          0.6,
          0.6,
          0.6,
          0.6,
          0.6,
          0.6,
          0.6,
          0.6,
          0.6,
          0.6
         ],
         "y": [
          0.01,
          0.02,
          0.03,
          0.04,
          0.05,
          0.06,
          0.07,
          0.08,
          0.09,
          0.1,
          0.11,
          0.12,
          0.13,
          0.14,
          0.15,
          0.16,
          0.17,
          0.18,
          0.19
         ],
         "z": [
          29.22,
          26.82,
          26.21,
          24.7,
          24.97,
          24.64,
          24.69,
          23.72,
          24.59,
          24.6,
          24.91,
          26.19,
          26.84,
          27.07,
          28.22,
          28.81,
          29.79,
          30.5,
          31.09
         ]
        },
        {
         "hovertemplate": "T1=%{x}<br>T2=%{y}<br>EER=%{z}<extra></extra>",
         "legendgroup": "0.7",
         "line": {
          "color": "#FF6692",
          "dash": "solid"
         },
         "marker": {
          "symbol": "circle"
         },
         "mode": "lines",
         "name": "0.7",
         "scene": "scene",
         "showlegend": true,
         "type": "scatter3d",
         "x": [
          0.7,
          0.7,
          0.7,
          0.7,
          0.7,
          0.7,
          0.7,
          0.7,
          0.7,
          0.7,
          0.7,
          0.7,
          0.7,
          0.7,
          0.7,
          0.7,
          0.7,
          0.7,
          0.7
         ],
         "y": [
          0.01,
          0.02,
          0.03,
          0.04,
          0.05,
          0.06,
          0.07,
          0.08,
          0.09,
          0.1,
          0.11,
          0.12,
          0.13,
          0.14,
          0.15,
          0.16,
          0.17,
          0.18,
          0.19
         ],
         "z": [
          29.39,
          26.53,
          25.72,
          24.26,
          25.41,
          25.22,
          24.76,
          24.57,
          24.88,
          25.04,
          25.66,
          26.32,
          26.62,
          27.27,
          28.38,
          29.13,
          30.14,
          31,
          31.03
         ]
        },
        {
         "hovertemplate": "T1=%{x}<br>T2=%{y}<br>EER=%{z}<extra></extra>",
         "legendgroup": "0.8",
         "line": {
          "color": "#B6E880",
          "dash": "solid"
         },
         "marker": {
          "symbol": "circle"
         },
         "mode": "lines",
         "name": "0.8",
         "scene": "scene",
         "showlegend": true,
         "type": "scatter3d",
         "x": [
          0.8,
          0.8,
          0.8,
          0.8,
          0.8,
          0.8,
          0.8,
          0.8,
          0.8,
          0.8,
          0.8,
          0.8,
          0.8,
          0.8,
          0.8,
          0.8,
          0.8,
          0.8,
          0.8
         ],
         "y": [
          0.01,
          0.02,
          0.03,
          0.04,
          0.05,
          0.06,
          0.07,
          0.08,
          0.09,
          0.1,
          0.11,
          0.12,
          0.13,
          0.14,
          0.15,
          0.16,
          0.17,
          0.18,
          0.19
         ],
         "z": [
          29.46,
          26.6,
          25.42,
          24.14,
          25.68,
          25.17,
          24.77,
          25.1,
          25.28,
          25.69,
          25.58,
          26.59,
          26.59,
          27.6,
          28.12,
          28.6,
          29.89,
          30.4,
          30.98
         ]
        },
        {
         "hovertemplate": "T1=%{x}<br>T2=%{y}<br>EER=%{z}<extra></extra>",
         "legendgroup": "0.9",
         "line": {
          "color": "#FF97FF",
          "dash": "solid"
         },
         "marker": {
          "symbol": "circle"
         },
         "mode": "lines",
         "name": "0.9",
         "scene": "scene",
         "showlegend": true,
         "type": "scatter3d",
         "x": [
          0.9,
          0.9,
          0.9,
          0.9,
          0.9,
          0.9,
          0.9,
          0.9,
          0.9,
          0.9,
          0.9,
          0.9,
          0.9,
          0.9,
          0.9,
          0.9,
          0.9,
          0.9,
          0.9
         ],
         "y": [
          0.01,
          0.02,
          0.03,
          0.04,
          0.05,
          0.06,
          0.07,
          0.08,
          0.09,
          0.1,
          0.11,
          0.12,
          0.13,
          0.14,
          0.15,
          0.16,
          0.17,
          0.18,
          0.19
         ],
         "z": [
          28.92,
          26.47,
          25.22,
          24.51,
          25.53,
          24.86,
          24.9,
          25.21,
          24.96,
          24.86,
          25.12,
          26.89,
          27.07,
          27.1,
          27.9,
          29.12,
          29.52,
          30.31,
          30.96
         ]
        }
       ],
       "layout": {
        "legend": {
         "title": {
          "text": "T1"
         },
         "tracegroupgap": 0
        },
        "margin": {
         "t": 60
        },
        "scene": {
         "domain": {
          "x": [
           0,
           1
          ],
          "y": [
           0,
           1
          ]
         },
         "xaxis": {
          "categoryarray": [
           0.1,
           0.2,
           0.3,
           0.4,
           0.5,
           0.6,
           0.7,
           0.8,
           0.9
          ],
          "categoryorder": "array",
          "title": {
           "text": "T1"
          }
         },
         "yaxis": {
          "title": {
           "text": "T2"
          }
         },
         "zaxis": {
          "title": {
           "text": "EER"
          }
         }
        },
        "template": {
         "data": {
          "bar": [
           {
            "error_x": {
             "color": "#2a3f5f"
            },
            "error_y": {
             "color": "#2a3f5f"
            },
            "marker": {
             "line": {
              "color": "#E5ECF6",
              "width": 0.5
             },
             "pattern": {
              "fillmode": "overlay",
              "size": 10,
              "solidity": 0.2
             }
            },
            "type": "bar"
           }
          ],
          "barpolar": [
           {
            "marker": {
             "line": {
              "color": "#E5ECF6",
              "width": 0.5
             },
             "pattern": {
              "fillmode": "overlay",
              "size": 10,
              "solidity": 0.2
             }
            },
            "type": "barpolar"
           }
          ],
          "carpet": [
           {
            "aaxis": {
             "endlinecolor": "#2a3f5f",
             "gridcolor": "white",
             "linecolor": "white",
             "minorgridcolor": "white",
             "startlinecolor": "#2a3f5f"
            },
            "baxis": {
             "endlinecolor": "#2a3f5f",
             "gridcolor": "white",
             "linecolor": "white",
             "minorgridcolor": "white",
             "startlinecolor": "#2a3f5f"
            },
            "type": "carpet"
           }
          ],
          "choropleth": [
           {
            "colorbar": {
             "outlinewidth": 0,
             "ticks": ""
            },
            "type": "choropleth"
           }
          ],
          "contour": [
           {
            "colorbar": {
             "outlinewidth": 0,
             "ticks": ""
            },
            "colorscale": [
             [
              0,
              "#0d0887"
             ],
             [
              0.1111111111111111,
              "#46039f"
             ],
             [
              0.2222222222222222,
              "#7201a8"
             ],
             [
              0.3333333333333333,
              "#9c179e"
             ],
             [
              0.4444444444444444,
              "#bd3786"
             ],
             [
              0.5555555555555556,
              "#d8576b"
             ],
             [
              0.6666666666666666,
              "#ed7953"
             ],
             [
              0.7777777777777778,
              "#fb9f3a"
             ],
             [
              0.8888888888888888,
              "#fdca26"
             ],
             [
              1,
              "#f0f921"
             ]
            ],
            "type": "contour"
           }
          ],
          "contourcarpet": [
           {
            "colorbar": {
             "outlinewidth": 0,
             "ticks": ""
            },
            "type": "contourcarpet"
           }
          ],
          "heatmap": [
           {
            "colorbar": {
             "outlinewidth": 0,
             "ticks": ""
            },
            "colorscale": [
             [
              0,
              "#0d0887"
             ],
             [
              0.1111111111111111,
              "#46039f"
             ],
             [
              0.2222222222222222,
              "#7201a8"
             ],
             [
              0.3333333333333333,
              "#9c179e"
             ],
             [
              0.4444444444444444,
              "#bd3786"
             ],
             [
              0.5555555555555556,
              "#d8576b"
             ],
             [
              0.6666666666666666,
              "#ed7953"
             ],
             [
              0.7777777777777778,
              "#fb9f3a"
             ],
             [
              0.8888888888888888,
              "#fdca26"
             ],
             [
              1,
              "#f0f921"
             ]
            ],
            "type": "heatmap"
           }
          ],
          "heatmapgl": [
           {
            "colorbar": {
             "outlinewidth": 0,
             "ticks": ""
            },
            "colorscale": [
             [
              0,
              "#0d0887"
             ],
             [
              0.1111111111111111,
              "#46039f"
             ],
             [
              0.2222222222222222,
              "#7201a8"
             ],
             [
              0.3333333333333333,
              "#9c179e"
             ],
             [
              0.4444444444444444,
              "#bd3786"
             ],
             [
              0.5555555555555556,
              "#d8576b"
             ],
             [
              0.6666666666666666,
              "#ed7953"
             ],
             [
              0.7777777777777778,
              "#fb9f3a"
             ],
             [
              0.8888888888888888,
              "#fdca26"
             ],
             [
              1,
              "#f0f921"
             ]
            ],
            "type": "heatmapgl"
           }
          ],
          "histogram": [
           {
            "marker": {
             "pattern": {
              "fillmode": "overlay",
              "size": 10,
              "solidity": 0.2
             }
            },
            "type": "histogram"
           }
          ],
          "histogram2d": [
           {
            "colorbar": {
             "outlinewidth": 0,
             "ticks": ""
            },
            "colorscale": [
             [
              0,
              "#0d0887"
             ],
             [
              0.1111111111111111,
              "#46039f"
             ],
             [
              0.2222222222222222,
              "#7201a8"
             ],
             [
              0.3333333333333333,
              "#9c179e"
             ],
             [
              0.4444444444444444,
              "#bd3786"
             ],
             [
              0.5555555555555556,
              "#d8576b"
             ],
             [
              0.6666666666666666,
              "#ed7953"
             ],
             [
              0.7777777777777778,
              "#fb9f3a"
             ],
             [
              0.8888888888888888,
              "#fdca26"
             ],
             [
              1,
              "#f0f921"
             ]
            ],
            "type": "histogram2d"
           }
          ],
          "histogram2dcontour": [
           {
            "colorbar": {
             "outlinewidth": 0,
             "ticks": ""
            },
            "colorscale": [
             [
              0,
              "#0d0887"
             ],
             [
              0.1111111111111111,
              "#46039f"
             ],
             [
              0.2222222222222222,
              "#7201a8"
             ],
             [
              0.3333333333333333,
              "#9c179e"
             ],
             [
              0.4444444444444444,
              "#bd3786"
             ],
             [
              0.5555555555555556,
              "#d8576b"
             ],
             [
              0.6666666666666666,
              "#ed7953"
             ],
             [
              0.7777777777777778,
              "#fb9f3a"
             ],
             [
              0.8888888888888888,
              "#fdca26"
             ],
             [
              1,
              "#f0f921"
             ]
            ],
            "type": "histogram2dcontour"
           }
          ],
          "mesh3d": [
           {
            "colorbar": {
             "outlinewidth": 0,
             "ticks": ""
            },
            "type": "mesh3d"
           }
          ],
          "parcoords": [
           {
            "line": {
             "colorbar": {
              "outlinewidth": 0,
              "ticks": ""
             }
            },
            "type": "parcoords"
           }
          ],
          "pie": [
           {
            "automargin": true,
            "type": "pie"
           }
          ],
          "scatter": [
           {
            "fillpattern": {
             "fillmode": "overlay",
             "size": 10,
             "solidity": 0.2
            },
            "type": "scatter"
           }
          ],
          "scatter3d": [
           {
            "line": {
             "colorbar": {
              "outlinewidth": 0,
              "ticks": ""
             }
            },
            "marker": {
             "colorbar": {
              "outlinewidth": 0,
              "ticks": ""
             }
            },
            "type": "scatter3d"
           }
          ],
          "scattercarpet": [
           {
            "marker": {
             "colorbar": {
              "outlinewidth": 0,
              "ticks": ""
             }
            },
            "type": "scattercarpet"
           }
          ],
          "scattergeo": [
           {
            "marker": {
             "colorbar": {
              "outlinewidth": 0,
              "ticks": ""
             }
            },
            "type": "scattergeo"
           }
          ],
          "scattergl": [
           {
            "marker": {
             "colorbar": {
              "outlinewidth": 0,
              "ticks": ""
             }
            },
            "type": "scattergl"
           }
          ],
          "scattermapbox": [
           {
            "marker": {
             "colorbar": {
              "outlinewidth": 0,
              "ticks": ""
             }
            },
            "type": "scattermapbox"
           }
          ],
          "scatterpolar": [
           {
            "marker": {
             "colorbar": {
              "outlinewidth": 0,
              "ticks": ""
             }
            },
            "type": "scatterpolar"
           }
          ],
          "scatterpolargl": [
           {
            "marker": {
             "colorbar": {
              "outlinewidth": 0,
              "ticks": ""
             }
            },
            "type": "scatterpolargl"
           }
          ],
          "scatterternary": [
           {
            "marker": {
             "colorbar": {
              "outlinewidth": 0,
              "ticks": ""
             }
            },
            "type": "scatterternary"
           }
          ],
          "surface": [
           {
            "colorbar": {
             "outlinewidth": 0,
             "ticks": ""
            },
            "colorscale": [
             [
              0,
              "#0d0887"
             ],
             [
              0.1111111111111111,
              "#46039f"
             ],
             [
              0.2222222222222222,
              "#7201a8"
             ],
             [
              0.3333333333333333,
              "#9c179e"
             ],
             [
              0.4444444444444444,
              "#bd3786"
             ],
             [
              0.5555555555555556,
              "#d8576b"
             ],
             [
              0.6666666666666666,
              "#ed7953"
             ],
             [
              0.7777777777777778,
              "#fb9f3a"
             ],
             [
              0.8888888888888888,
              "#fdca26"
             ],
             [
              1,
              "#f0f921"
             ]
            ],
            "type": "surface"
           }
          ],
          "table": [
           {
            "cells": {
             "fill": {
              "color": "#EBF0F8"
             },
             "line": {
              "color": "white"
             }
            },
            "header": {
             "fill": {
              "color": "#C8D4E3"
             },
             "line": {
              "color": "white"
             }
            },
            "type": "table"
           }
          ]
         },
         "layout": {
          "annotationdefaults": {
           "arrowcolor": "#2a3f5f",
           "arrowhead": 0,
           "arrowwidth": 1
          },
          "autotypenumbers": "strict",
          "coloraxis": {
           "colorbar": {
            "outlinewidth": 0,
            "ticks": ""
           }
          },
          "colorscale": {
           "diverging": [
            [
             0,
             "#8e0152"
            ],
            [
             0.1,
             "#c51b7d"
            ],
            [
             0.2,
             "#de77ae"
            ],
            [
             0.3,
             "#f1b6da"
            ],
            [
             0.4,
             "#fde0ef"
            ],
            [
             0.5,
             "#f7f7f7"
            ],
            [
             0.6,
             "#e6f5d0"
            ],
            [
             0.7,
             "#b8e186"
            ],
            [
             0.8,
             "#7fbc41"
            ],
            [
             0.9,
             "#4d9221"
            ],
            [
             1,
             "#276419"
            ]
           ],
           "sequential": [
            [
             0,
             "#0d0887"
            ],
            [
             0.1111111111111111,
             "#46039f"
            ],
            [
             0.2222222222222222,
             "#7201a8"
            ],
            [
             0.3333333333333333,
             "#9c179e"
            ],
            [
             0.4444444444444444,
             "#bd3786"
            ],
            [
             0.5555555555555556,
             "#d8576b"
            ],
            [
             0.6666666666666666,
             "#ed7953"
            ],
            [
             0.7777777777777778,
             "#fb9f3a"
            ],
            [
             0.8888888888888888,
             "#fdca26"
            ],
            [
             1,
             "#f0f921"
            ]
           ],
           "sequentialminus": [
            [
             0,
             "#0d0887"
            ],
            [
             0.1111111111111111,
             "#46039f"
            ],
            [
             0.2222222222222222,
             "#7201a8"
            ],
            [
             0.3333333333333333,
             "#9c179e"
            ],
            [
             0.4444444444444444,
             "#bd3786"
            ],
            [
             0.5555555555555556,
             "#d8576b"
            ],
            [
             0.6666666666666666,
             "#ed7953"
            ],
            [
             0.7777777777777778,
             "#fb9f3a"
            ],
            [
             0.8888888888888888,
             "#fdca26"
            ],
            [
             1,
             "#f0f921"
            ]
           ]
          },
          "colorway": [
           "#636efa",
           "#EF553B",
           "#00cc96",
           "#ab63fa",
           "#FFA15A",
           "#19d3f3",
           "#FF6692",
           "#B6E880",
           "#FF97FF",
           "#FECB52"
          ],
          "font": {
           "color": "#2a3f5f"
          },
          "geo": {
           "bgcolor": "white",
           "lakecolor": "white",
           "landcolor": "#E5ECF6",
           "showlakes": true,
           "showland": true,
           "subunitcolor": "white"
          },
          "hoverlabel": {
           "align": "left"
          },
          "hovermode": "closest",
          "mapbox": {
           "style": "light"
          },
          "paper_bgcolor": "white",
          "plot_bgcolor": "#E5ECF6",
          "polar": {
           "angularaxis": {
            "gridcolor": "white",
            "linecolor": "white",
            "ticks": ""
           },
           "bgcolor": "#E5ECF6",
           "radialaxis": {
            "gridcolor": "white",
            "linecolor": "white",
            "ticks": ""
           }
          },
          "scene": {
           "xaxis": {
            "backgroundcolor": "#E5ECF6",
            "gridcolor": "white",
            "gridwidth": 2,
            "linecolor": "white",
            "showbackground": true,
            "ticks": "",
            "zerolinecolor": "white"
           },
           "yaxis": {
            "backgroundcolor": "#E5ECF6",
            "gridcolor": "white",
            "gridwidth": 2,
            "linecolor": "white",
            "showbackground": true,
            "ticks": "",
            "zerolinecolor": "white"
           },
           "zaxis": {
            "backgroundcolor": "#E5ECF6",
            "gridcolor": "white",
            "gridwidth": 2,
            "linecolor": "white",
            "showbackground": true,
            "ticks": "",
            "zerolinecolor": "white"
           }
          },
          "shapedefaults": {
           "line": {
            "color": "#2a3f5f"
           }
          },
          "ternary": {
           "aaxis": {
            "gridcolor": "white",
            "linecolor": "white",
            "ticks": ""
           },
           "baxis": {
            "gridcolor": "white",
            "linecolor": "white",
            "ticks": ""
           },
           "bgcolor": "#E5ECF6",
           "caxis": {
            "gridcolor": "white",
            "linecolor": "white",
            "ticks": ""
           }
          },
          "title": {
           "x": 0.05
          },
          "xaxis": {
           "automargin": true,
           "gridcolor": "white",
           "linecolor": "white",
           "ticks": "",
           "title": {
            "standoff": 15
           },
           "zerolinecolor": "white",
           "zerolinewidth": 2
          },
          "yaxis": {
           "automargin": true,
           "gridcolor": "white",
           "linecolor": "white",
           "ticks": "",
           "title": {
            "standoff": 15
           },
           "zerolinecolor": "white",
           "zerolinewidth": 2
          }
         }
        }
       }
      }
     },
     "metadata": {},
     "output_type": "display_data"
    }
   ],
   "source": [
    "fig = px.line_3d(eer, x='T1', y='T2', z='EER',color='T1')\n",
    "fig.show()"
   ]
  },
  {
   "cell_type": "code",
   "execution_count": 16,
   "metadata": {},
   "outputs": [
    {
     "data": {
      "application/vnd.plotly.v1+json": {
       "config": {
        "plotlyServerURL": "https://plot.ly"
       },
       "data": [
        {
         "hovertemplate": "T2=%{y}<br>T1=%{x}<br>EER=%{z}<extra></extra>",
         "legendgroup": "0.01",
         "line": {
          "color": "#636efa",
          "dash": "solid"
         },
         "marker": {
          "symbol": "circle"
         },
         "mode": "lines",
         "name": "0.01",
         "scene": "scene",
         "showlegend": true,
         "type": "scatter3d",
         "x": [
          0.1,
          0.2,
          0.3,
          0.4,
          0.5,
          0.6,
          0.7,
          0.8,
          0.9
         ],
         "y": [
          0.01,
          0.01,
          0.01,
          0.01,
          0.01,
          0.01,
          0.01,
          0.01,
          0.01
         ],
         "z": [
          27.62,
          27.81,
          28.11,
          28.48,
          28.54,
          29.22,
          29.39,
          29.46,
          28.92
         ]
        },
        {
         "hovertemplate": "T2=%{y}<br>T1=%{x}<br>EER=%{z}<extra></extra>",
         "legendgroup": "0.02",
         "line": {
          "color": "#EF553B",
          "dash": "solid"
         },
         "marker": {
          "symbol": "circle"
         },
         "mode": "lines",
         "name": "0.02",
         "scene": "scene",
         "showlegend": true,
         "type": "scatter3d",
         "x": [
          0.1,
          0.2,
          0.3,
          0.4,
          0.5,
          0.6,
          0.7,
          0.8,
          0.9
         ],
         "y": [
          0.02,
          0.02,
          0.02,
          0.02,
          0.02,
          0.02,
          0.02,
          0.02,
          0.02
         ],
         "z": [
          25.48,
          25.12,
          25.93,
          26.64,
          27.16,
          26.82,
          26.53,
          26.6,
          26.47
         ]
        },
        {
         "hovertemplate": "T2=%{y}<br>T1=%{x}<br>EER=%{z}<extra></extra>",
         "legendgroup": "0.03",
         "line": {
          "color": "#00cc96",
          "dash": "solid"
         },
         "marker": {
          "symbol": "circle"
         },
         "mode": "lines",
         "name": "0.03",
         "scene": "scene",
         "showlegend": true,
         "type": "scatter3d",
         "x": [
          0.1,
          0.2,
          0.3,
          0.4,
          0.5,
          0.6,
          0.7,
          0.8,
          0.9
         ],
         "y": [
          0.03,
          0.03,
          0.03,
          0.03,
          0.03,
          0.03,
          0.03,
          0.03,
          0.03
         ],
         "z": [
          25.24,
          25.5,
          27.02,
          26.56,
          26.46,
          26.21,
          25.72,
          25.42,
          25.22
         ]
        },
        {
         "hovertemplate": "T2=%{y}<br>T1=%{x}<br>EER=%{z}<extra></extra>",
         "legendgroup": "0.04",
         "line": {
          "color": "#ab63fa",
          "dash": "solid"
         },
         "marker": {
          "symbol": "circle"
         },
         "mode": "lines",
         "name": "0.04",
         "scene": "scene",
         "showlegend": true,
         "type": "scatter3d",
         "x": [
          0.1,
          0.2,
          0.3,
          0.4,
          0.5,
          0.6,
          0.7,
          0.8,
          0.9
         ],
         "y": [
          0.04,
          0.04,
          0.04,
          0.04,
          0.04,
          0.04,
          0.04,
          0.04,
          0.04
         ],
         "z": [
          24.73,
          25.91,
          26,
          25.32,
          24.69,
          24.7,
          24.26,
          24.14,
          24.51
         ]
        },
        {
         "hovertemplate": "T2=%{y}<br>T1=%{x}<br>EER=%{z}<extra></extra>",
         "legendgroup": "0.05",
         "line": {
          "color": "#FFA15A",
          "dash": "solid"
         },
         "marker": {
          "symbol": "circle"
         },
         "mode": "lines",
         "name": "0.05",
         "scene": "scene",
         "showlegend": true,
         "type": "scatter3d",
         "x": [
          0.1,
          0.2,
          0.3,
          0.4,
          0.5,
          0.6,
          0.7,
          0.8,
          0.9
         ],
         "y": [
          0.05,
          0.05,
          0.05,
          0.05,
          0.05,
          0.05,
          0.05,
          0.05,
          0.05
         ],
         "z": [
          25.94,
          25.72,
          25.69,
          24.8,
          24.42,
          24.97,
          25.41,
          25.68,
          25.53
         ]
        },
        {
         "hovertemplate": "T2=%{y}<br>T1=%{x}<br>EER=%{z}<extra></extra>",
         "legendgroup": "0.06",
         "line": {
          "color": "#19d3f3",
          "dash": "solid"
         },
         "marker": {
          "symbol": "circle"
         },
         "mode": "lines",
         "name": "0.06",
         "scene": "scene",
         "showlegend": true,
         "type": "scatter3d",
         "x": [
          0.1,
          0.2,
          0.3,
          0.4,
          0.5,
          0.6,
          0.7,
          0.8,
          0.9
         ],
         "y": [
          0.06,
          0.06,
          0.06,
          0.06,
          0.06,
          0.06,
          0.06,
          0.06,
          0.06
         ],
         "z": [
          26.18,
          25.33,
          25.27,
          24.21,
          25.07,
          24.64,
          25.22,
          25.17,
          24.86
         ]
        },
        {
         "hovertemplate": "T2=%{y}<br>T1=%{x}<br>EER=%{z}<extra></extra>",
         "legendgroup": "0.07",
         "line": {
          "color": "#FF6692",
          "dash": "solid"
         },
         "marker": {
          "symbol": "circle"
         },
         "mode": "lines",
         "name": "0.07",
         "scene": "scene",
         "showlegend": true,
         "type": "scatter3d",
         "x": [
          0.1,
          0.2,
          0.3,
          0.4,
          0.5,
          0.6,
          0.7,
          0.8,
          0.9
         ],
         "y": [
          0.07,
          0.07,
          0.07,
          0.07,
          0.07,
          0.07,
          0.07,
          0.07,
          0.07
         ],
         "z": [
          25.3,
          24.64,
          24.63,
          23.6,
          23.99,
          24.69,
          24.76,
          24.77,
          24.9
         ]
        },
        {
         "hovertemplate": "T2=%{y}<br>T1=%{x}<br>EER=%{z}<extra></extra>",
         "legendgroup": "0.08",
         "line": {
          "color": "#B6E880",
          "dash": "solid"
         },
         "marker": {
          "symbol": "circle"
         },
         "mode": "lines",
         "name": "0.08",
         "scene": "scene",
         "showlegend": true,
         "type": "scatter3d",
         "x": [
          0.1,
          0.2,
          0.3,
          0.4,
          0.5,
          0.6,
          0.7,
          0.8,
          0.9
         ],
         "y": [
          0.08,
          0.08,
          0.08,
          0.08,
          0.08,
          0.08,
          0.08,
          0.08,
          0.08
         ],
         "z": [
          25.81,
          25.16,
          24.46,
          23.31,
          23.78,
          23.72,
          24.57,
          25.1,
          25.21
         ]
        },
        {
         "hovertemplate": "T2=%{y}<br>T1=%{x}<br>EER=%{z}<extra></extra>",
         "legendgroup": "0.09",
         "line": {
          "color": "#FF97FF",
          "dash": "solid"
         },
         "marker": {
          "symbol": "circle"
         },
         "mode": "lines",
         "name": "0.09",
         "scene": "scene",
         "showlegend": true,
         "type": "scatter3d",
         "x": [
          0.1,
          0.2,
          0.3,
          0.4,
          0.5,
          0.6,
          0.7,
          0.8,
          0.9
         ],
         "y": [
          0.09,
          0.09,
          0.09,
          0.09,
          0.09,
          0.09,
          0.09,
          0.09,
          0.09
         ],
         "z": [
          25.98,
          25.4,
          24.89,
          24.4,
          24.36,
          24.59,
          24.88,
          25.28,
          24.96
         ]
        },
        {
         "hovertemplate": "T2=%{y}<br>T1=%{x}<br>EER=%{z}<extra></extra>",
         "legendgroup": "0.1",
         "line": {
          "color": "#FECB52",
          "dash": "solid"
         },
         "marker": {
          "symbol": "circle"
         },
         "mode": "lines",
         "name": "0.1",
         "scene": "scene",
         "showlegend": true,
         "type": "scatter3d",
         "x": [
          0.1,
          0.2,
          0.3,
          0.4,
          0.5,
          0.6,
          0.7,
          0.8,
          0.9
         ],
         "y": [
          0.1,
          0.1,
          0.1,
          0.1,
          0.1,
          0.1,
          0.1,
          0.1,
          0.1
         ],
         "z": [
          26.87,
          25.27,
          25.52,
          24.54,
          24.32,
          24.6,
          25.04,
          25.69,
          24.86
         ]
        },
        {
         "hovertemplate": "T2=%{y}<br>T1=%{x}<br>EER=%{z}<extra></extra>",
         "legendgroup": "0.11",
         "line": {
          "color": "#636efa",
          "dash": "solid"
         },
         "marker": {
          "symbol": "circle"
         },
         "mode": "lines",
         "name": "0.11",
         "scene": "scene",
         "showlegend": true,
         "type": "scatter3d",
         "x": [
          0.1,
          0.2,
          0.3,
          0.4,
          0.5,
          0.6,
          0.7,
          0.8,
          0.9
         ],
         "y": [
          0.11,
          0.11,
          0.11,
          0.11,
          0.11,
          0.11,
          0.11,
          0.11,
          0.11
         ],
         "z": [
          27.59,
          26.74,
          26.3,
          25.32,
          25.42,
          24.91,
          25.66,
          25.58,
          25.12
         ]
        },
        {
         "hovertemplate": "T2=%{y}<br>T1=%{x}<br>EER=%{z}<extra></extra>",
         "legendgroup": "0.12",
         "line": {
          "color": "#EF553B",
          "dash": "solid"
         },
         "marker": {
          "symbol": "circle"
         },
         "mode": "lines",
         "name": "0.12",
         "scene": "scene",
         "showlegend": true,
         "type": "scatter3d",
         "x": [
          0.1,
          0.2,
          0.3,
          0.4,
          0.5,
          0.6,
          0.7,
          0.8,
          0.9
         ],
         "y": [
          0.12,
          0.12,
          0.12,
          0.12,
          0.12,
          0.12,
          0.12,
          0.12,
          0.12
         ],
         "z": [
          28,
          27.09,
          26.48,
          26.07,
          26.44,
          26.19,
          26.32,
          26.59,
          26.89
         ]
        },
        {
         "hovertemplate": "T2=%{y}<br>T1=%{x}<br>EER=%{z}<extra></extra>",
         "legendgroup": "0.13",
         "line": {
          "color": "#00cc96",
          "dash": "solid"
         },
         "marker": {
          "symbol": "circle"
         },
         "mode": "lines",
         "name": "0.13",
         "scene": "scene",
         "showlegend": true,
         "type": "scatter3d",
         "x": [
          0.1,
          0.2,
          0.3,
          0.4,
          0.5,
          0.6,
          0.7,
          0.8,
          0.9
         ],
         "y": [
          0.13,
          0.13,
          0.13,
          0.13,
          0.13,
          0.13,
          0.13,
          0.13,
          0.13
         ],
         "z": [
          27.99,
          27.94,
          27.19,
          27.2,
          27.32,
          26.84,
          26.62,
          26.59,
          27.07
         ]
        },
        {
         "hovertemplate": "T2=%{y}<br>T1=%{x}<br>EER=%{z}<extra></extra>",
         "legendgroup": "0.14",
         "line": {
          "color": "#ab63fa",
          "dash": "solid"
         },
         "marker": {
          "symbol": "circle"
         },
         "mode": "lines",
         "name": "0.14",
         "scene": "scene",
         "showlegend": true,
         "type": "scatter3d",
         "x": [
          0.1,
          0.2,
          0.3,
          0.4,
          0.5,
          0.6,
          0.7,
          0.8,
          0.9
         ],
         "y": [
          0.14,
          0.14,
          0.14,
          0.14,
          0.14,
          0.14,
          0.14,
          0.14,
          0.14
         ],
         "z": [
          29.54,
          27.67,
          27.68,
          27.92,
          28.29,
          27.07,
          27.27,
          27.6,
          27.1
         ]
        },
        {
         "hovertemplate": "T2=%{y}<br>T1=%{x}<br>EER=%{z}<extra></extra>",
         "legendgroup": "0.15",
         "line": {
          "color": "#FFA15A",
          "dash": "solid"
         },
         "marker": {
          "symbol": "circle"
         },
         "mode": "lines",
         "name": "0.15",
         "scene": "scene",
         "showlegend": true,
         "type": "scatter3d",
         "x": [
          0.1,
          0.2,
          0.3,
          0.4,
          0.5,
          0.6,
          0.7,
          0.8,
          0.9
         ],
         "y": [
          0.15,
          0.15,
          0.15,
          0.15,
          0.15,
          0.15,
          0.15,
          0.15,
          0.15
         ],
         "z": [
          30.33,
          28.41,
          28.61,
          29.06,
          29.61,
          28.22,
          28.38,
          28.12,
          27.9
         ]
        },
        {
         "hovertemplate": "T2=%{y}<br>T1=%{x}<br>EER=%{z}<extra></extra>",
         "legendgroup": "0.16",
         "line": {
          "color": "#19d3f3",
          "dash": "solid"
         },
         "marker": {
          "symbol": "circle"
         },
         "mode": "lines",
         "name": "0.16",
         "scene": "scene",
         "showlegend": true,
         "type": "scatter3d",
         "x": [
          0.1,
          0.2,
          0.3,
          0.4,
          0.5,
          0.6,
          0.7,
          0.8,
          0.9
         ],
         "y": [
          0.16,
          0.16,
          0.16,
          0.16,
          0.16,
          0.16,
          0.16,
          0.16,
          0.16
         ],
         "z": [
          29.77,
          29.01,
          28.48,
          29.21,
          29.64,
          28.81,
          29.13,
          28.6,
          29.12
         ]
        },
        {
         "hovertemplate": "T2=%{y}<br>T1=%{x}<br>EER=%{z}<extra></extra>",
         "legendgroup": "0.17",
         "line": {
          "color": "#FF6692",
          "dash": "solid"
         },
         "marker": {
          "symbol": "circle"
         },
         "mode": "lines",
         "name": "0.17",
         "scene": "scene",
         "showlegend": true,
         "type": "scatter3d",
         "x": [
          0.1,
          0.2,
          0.3,
          0.4,
          0.5,
          0.6,
          0.7,
          0.8,
          0.9
         ],
         "y": [
          0.17,
          0.17,
          0.17,
          0.17,
          0.17,
          0.17,
          0.17,
          0.17,
          0.17
         ],
         "z": [
          29.4,
          29.47,
          29.04,
          29.81,
          30.32,
          29.79,
          30.14,
          29.89,
          29.52
         ]
        },
        {
         "hovertemplate": "T2=%{y}<br>T1=%{x}<br>EER=%{z}<extra></extra>",
         "legendgroup": "0.18",
         "line": {
          "color": "#B6E880",
          "dash": "solid"
         },
         "marker": {
          "symbol": "circle"
         },
         "mode": "lines",
         "name": "0.18",
         "scene": "scene",
         "showlegend": true,
         "type": "scatter3d",
         "x": [
          0.1,
          0.2,
          0.3,
          0.4,
          0.5,
          0.6,
          0.7,
          0.8,
          0.9
         ],
         "y": [
          0.18,
          0.18,
          0.18,
          0.18,
          0.18,
          0.18,
          0.18,
          0.18,
          0.18
         ],
         "z": [
          30.69,
          30.02,
          29.94,
          30.66,
          31.23,
          30.5,
          31,
          30.4,
          30.31
         ]
        },
        {
         "hovertemplate": "T2=%{y}<br>T1=%{x}<br>EER=%{z}<extra></extra>",
         "legendgroup": "0.19",
         "line": {
          "color": "#FF97FF",
          "dash": "solid"
         },
         "marker": {
          "symbol": "circle"
         },
         "mode": "lines",
         "name": "0.19",
         "scene": "scene",
         "showlegend": true,
         "type": "scatter3d",
         "x": [
          0.1,
          0.2,
          0.3,
          0.4,
          0.5,
          0.6,
          0.7,
          0.8,
          0.9
         ],
         "y": [
          0.19,
          0.19,
          0.19,
          0.19,
          0.19,
          0.19,
          0.19,
          0.19,
          0.19
         ],
         "z": [
          30.86,
          30.87,
          30.54,
          31.61,
          31.61,
          31.09,
          31.03,
          30.98,
          30.96
         ]
        }
       ],
       "layout": {
        "legend": {
         "title": {
          "text": "T2"
         },
         "tracegroupgap": 0
        },
        "margin": {
         "t": 60
        },
        "scene": {
         "domain": {
          "x": [
           0,
           1
          ],
          "y": [
           0,
           1
          ]
         },
         "xaxis": {
          "title": {
           "text": "T1"
          }
         },
         "yaxis": {
          "categoryarray": [
           0.01,
           0.02,
           0.03,
           0.04,
           0.05,
           0.06,
           0.07,
           0.08,
           0.09,
           0.1,
           0.11,
           0.12,
           0.13,
           0.14,
           0.15,
           0.16,
           0.17,
           0.18,
           0.19
          ],
          "categoryorder": "array",
          "title": {
           "text": "T2"
          }
         },
         "zaxis": {
          "title": {
           "text": "EER"
          }
         }
        },
        "template": {
         "data": {
          "bar": [
           {
            "error_x": {
             "color": "#2a3f5f"
            },
            "error_y": {
             "color": "#2a3f5f"
            },
            "marker": {
             "line": {
              "color": "#E5ECF6",
              "width": 0.5
             },
             "pattern": {
              "fillmode": "overlay",
              "size": 10,
              "solidity": 0.2
             }
            },
            "type": "bar"
           }
          ],
          "barpolar": [
           {
            "marker": {
             "line": {
              "color": "#E5ECF6",
              "width": 0.5
             },
             "pattern": {
              "fillmode": "overlay",
              "size": 10,
              "solidity": 0.2
             }
            },
            "type": "barpolar"
           }
          ],
          "carpet": [
           {
            "aaxis": {
             "endlinecolor": "#2a3f5f",
             "gridcolor": "white",
             "linecolor": "white",
             "minorgridcolor": "white",
             "startlinecolor": "#2a3f5f"
            },
            "baxis": {
             "endlinecolor": "#2a3f5f",
             "gridcolor": "white",
             "linecolor": "white",
             "minorgridcolor": "white",
             "startlinecolor": "#2a3f5f"
            },
            "type": "carpet"
           }
          ],
          "choropleth": [
           {
            "colorbar": {
             "outlinewidth": 0,
             "ticks": ""
            },
            "type": "choropleth"
           }
          ],
          "contour": [
           {
            "colorbar": {
             "outlinewidth": 0,
             "ticks": ""
            },
            "colorscale": [
             [
              0,
              "#0d0887"
             ],
             [
              0.1111111111111111,
              "#46039f"
             ],
             [
              0.2222222222222222,
              "#7201a8"
             ],
             [
              0.3333333333333333,
              "#9c179e"
             ],
             [
              0.4444444444444444,
              "#bd3786"
             ],
             [
              0.5555555555555556,
              "#d8576b"
             ],
             [
              0.6666666666666666,
              "#ed7953"
             ],
             [
              0.7777777777777778,
              "#fb9f3a"
             ],
             [
              0.8888888888888888,
              "#fdca26"
             ],
             [
              1,
              "#f0f921"
             ]
            ],
            "type": "contour"
           }
          ],
          "contourcarpet": [
           {
            "colorbar": {
             "outlinewidth": 0,
             "ticks": ""
            },
            "type": "contourcarpet"
           }
          ],
          "heatmap": [
           {
            "colorbar": {
             "outlinewidth": 0,
             "ticks": ""
            },
            "colorscale": [
             [
              0,
              "#0d0887"
             ],
             [
              0.1111111111111111,
              "#46039f"
             ],
             [
              0.2222222222222222,
              "#7201a8"
             ],
             [
              0.3333333333333333,
              "#9c179e"
             ],
             [
              0.4444444444444444,
              "#bd3786"
             ],
             [
              0.5555555555555556,
              "#d8576b"
             ],
             [
              0.6666666666666666,
              "#ed7953"
             ],
             [
              0.7777777777777778,
              "#fb9f3a"
             ],
             [
              0.8888888888888888,
              "#fdca26"
             ],
             [
              1,
              "#f0f921"
             ]
            ],
            "type": "heatmap"
           }
          ],
          "heatmapgl": [
           {
            "colorbar": {
             "outlinewidth": 0,
             "ticks": ""
            },
            "colorscale": [
             [
              0,
              "#0d0887"
             ],
             [
              0.1111111111111111,
              "#46039f"
             ],
             [
              0.2222222222222222,
              "#7201a8"
             ],
             [
              0.3333333333333333,
              "#9c179e"
             ],
             [
              0.4444444444444444,
              "#bd3786"
             ],
             [
              0.5555555555555556,
              "#d8576b"
             ],
             [
              0.6666666666666666,
              "#ed7953"
             ],
             [
              0.7777777777777778,
              "#fb9f3a"
             ],
             [
              0.8888888888888888,
              "#fdca26"
             ],
             [
              1,
              "#f0f921"
             ]
            ],
            "type": "heatmapgl"
           }
          ],
          "histogram": [
           {
            "marker": {
             "pattern": {
              "fillmode": "overlay",
              "size": 10,
              "solidity": 0.2
             }
            },
            "type": "histogram"
           }
          ],
          "histogram2d": [
           {
            "colorbar": {
             "outlinewidth": 0,
             "ticks": ""
            },
            "colorscale": [
             [
              0,
              "#0d0887"
             ],
             [
              0.1111111111111111,
              "#46039f"
             ],
             [
              0.2222222222222222,
              "#7201a8"
             ],
             [
              0.3333333333333333,
              "#9c179e"
             ],
             [
              0.4444444444444444,
              "#bd3786"
             ],
             [
              0.5555555555555556,
              "#d8576b"
             ],
             [
              0.6666666666666666,
              "#ed7953"
             ],
             [
              0.7777777777777778,
              "#fb9f3a"
             ],
             [
              0.8888888888888888,
              "#fdca26"
             ],
             [
              1,
              "#f0f921"
             ]
            ],
            "type": "histogram2d"
           }
          ],
          "histogram2dcontour": [
           {
            "colorbar": {
             "outlinewidth": 0,
             "ticks": ""
            },
            "colorscale": [
             [
              0,
              "#0d0887"
             ],
             [
              0.1111111111111111,
              "#46039f"
             ],
             [
              0.2222222222222222,
              "#7201a8"
             ],
             [
              0.3333333333333333,
              "#9c179e"
             ],
             [
              0.4444444444444444,
              "#bd3786"
             ],
             [
              0.5555555555555556,
              "#d8576b"
             ],
             [
              0.6666666666666666,
              "#ed7953"
             ],
             [
              0.7777777777777778,
              "#fb9f3a"
             ],
             [
              0.8888888888888888,
              "#fdca26"
             ],
             [
              1,
              "#f0f921"
             ]
            ],
            "type": "histogram2dcontour"
           }
          ],
          "mesh3d": [
           {
            "colorbar": {
             "outlinewidth": 0,
             "ticks": ""
            },
            "type": "mesh3d"
           }
          ],
          "parcoords": [
           {
            "line": {
             "colorbar": {
              "outlinewidth": 0,
              "ticks": ""
             }
            },
            "type": "parcoords"
           }
          ],
          "pie": [
           {
            "automargin": true,
            "type": "pie"
           }
          ],
          "scatter": [
           {
            "fillpattern": {
             "fillmode": "overlay",
             "size": 10,
             "solidity": 0.2
            },
            "type": "scatter"
           }
          ],
          "scatter3d": [
           {
            "line": {
             "colorbar": {
              "outlinewidth": 0,
              "ticks": ""
             }
            },
            "marker": {
             "colorbar": {
              "outlinewidth": 0,
              "ticks": ""
             }
            },
            "type": "scatter3d"
           }
          ],
          "scattercarpet": [
           {
            "marker": {
             "colorbar": {
              "outlinewidth": 0,
              "ticks": ""
             }
            },
            "type": "scattercarpet"
           }
          ],
          "scattergeo": [
           {
            "marker": {
             "colorbar": {
              "outlinewidth": 0,
              "ticks": ""
             }
            },
            "type": "scattergeo"
           }
          ],
          "scattergl": [
           {
            "marker": {
             "colorbar": {
              "outlinewidth": 0,
              "ticks": ""
             }
            },
            "type": "scattergl"
           }
          ],
          "scattermapbox": [
           {
            "marker": {
             "colorbar": {
              "outlinewidth": 0,
              "ticks": ""
             }
            },
            "type": "scattermapbox"
           }
          ],
          "scatterpolar": [
           {
            "marker": {
             "colorbar": {
              "outlinewidth": 0,
              "ticks": ""
             }
            },
            "type": "scatterpolar"
           }
          ],
          "scatterpolargl": [
           {
            "marker": {
             "colorbar": {
              "outlinewidth": 0,
              "ticks": ""
             }
            },
            "type": "scatterpolargl"
           }
          ],
          "scatterternary": [
           {
            "marker": {
             "colorbar": {
              "outlinewidth": 0,
              "ticks": ""
             }
            },
            "type": "scatterternary"
           }
          ],
          "surface": [
           {
            "colorbar": {
             "outlinewidth": 0,
             "ticks": ""
            },
            "colorscale": [
             [
              0,
              "#0d0887"
             ],
             [
              0.1111111111111111,
              "#46039f"
             ],
             [
              0.2222222222222222,
              "#7201a8"
             ],
             [
              0.3333333333333333,
              "#9c179e"
             ],
             [
              0.4444444444444444,
              "#bd3786"
             ],
             [
              0.5555555555555556,
              "#d8576b"
             ],
             [
              0.6666666666666666,
              "#ed7953"
             ],
             [
              0.7777777777777778,
              "#fb9f3a"
             ],
             [
              0.8888888888888888,
              "#fdca26"
             ],
             [
              1,
              "#f0f921"
             ]
            ],
            "type": "surface"
           }
          ],
          "table": [
           {
            "cells": {
             "fill": {
              "color": "#EBF0F8"
             },
             "line": {
              "color": "white"
             }
            },
            "header": {
             "fill": {
              "color": "#C8D4E3"
             },
             "line": {
              "color": "white"
             }
            },
            "type": "table"
           }
          ]
         },
         "layout": {
          "annotationdefaults": {
           "arrowcolor": "#2a3f5f",
           "arrowhead": 0,
           "arrowwidth": 1
          },
          "autotypenumbers": "strict",
          "coloraxis": {
           "colorbar": {
            "outlinewidth": 0,
            "ticks": ""
           }
          },
          "colorscale": {
           "diverging": [
            [
             0,
             "#8e0152"
            ],
            [
             0.1,
             "#c51b7d"
            ],
            [
             0.2,
             "#de77ae"
            ],
            [
             0.3,
             "#f1b6da"
            ],
            [
             0.4,
             "#fde0ef"
            ],
            [
             0.5,
             "#f7f7f7"
            ],
            [
             0.6,
             "#e6f5d0"
            ],
            [
             0.7,
             "#b8e186"
            ],
            [
             0.8,
             "#7fbc41"
            ],
            [
             0.9,
             "#4d9221"
            ],
            [
             1,
             "#276419"
            ]
           ],
           "sequential": [
            [
             0,
             "#0d0887"
            ],
            [
             0.1111111111111111,
             "#46039f"
            ],
            [
             0.2222222222222222,
             "#7201a8"
            ],
            [
             0.3333333333333333,
             "#9c179e"
            ],
            [
             0.4444444444444444,
             "#bd3786"
            ],
            [
             0.5555555555555556,
             "#d8576b"
            ],
            [
             0.6666666666666666,
             "#ed7953"
            ],
            [
             0.7777777777777778,
             "#fb9f3a"
            ],
            [
             0.8888888888888888,
             "#fdca26"
            ],
            [
             1,
             "#f0f921"
            ]
           ],
           "sequentialminus": [
            [
             0,
             "#0d0887"
            ],
            [
             0.1111111111111111,
             "#46039f"
            ],
            [
             0.2222222222222222,
             "#7201a8"
            ],
            [
             0.3333333333333333,
             "#9c179e"
            ],
            [
             0.4444444444444444,
             "#bd3786"
            ],
            [
             0.5555555555555556,
             "#d8576b"
            ],
            [
             0.6666666666666666,
             "#ed7953"
            ],
            [
             0.7777777777777778,
             "#fb9f3a"
            ],
            [
             0.8888888888888888,
             "#fdca26"
            ],
            [
             1,
             "#f0f921"
            ]
           ]
          },
          "colorway": [
           "#636efa",
           "#EF553B",
           "#00cc96",
           "#ab63fa",
           "#FFA15A",
           "#19d3f3",
           "#FF6692",
           "#B6E880",
           "#FF97FF",
           "#FECB52"
          ],
          "font": {
           "color": "#2a3f5f"
          },
          "geo": {
           "bgcolor": "white",
           "lakecolor": "white",
           "landcolor": "#E5ECF6",
           "showlakes": true,
           "showland": true,
           "subunitcolor": "white"
          },
          "hoverlabel": {
           "align": "left"
          },
          "hovermode": "closest",
          "mapbox": {
           "style": "light"
          },
          "paper_bgcolor": "white",
          "plot_bgcolor": "#E5ECF6",
          "polar": {
           "angularaxis": {
            "gridcolor": "white",
            "linecolor": "white",
            "ticks": ""
           },
           "bgcolor": "#E5ECF6",
           "radialaxis": {
            "gridcolor": "white",
            "linecolor": "white",
            "ticks": ""
           }
          },
          "scene": {
           "xaxis": {
            "backgroundcolor": "#E5ECF6",
            "gridcolor": "white",
            "gridwidth": 2,
            "linecolor": "white",
            "showbackground": true,
            "ticks": "",
            "zerolinecolor": "white"
           },
           "yaxis": {
            "backgroundcolor": "#E5ECF6",
            "gridcolor": "white",
            "gridwidth": 2,
            "linecolor": "white",
            "showbackground": true,
            "ticks": "",
            "zerolinecolor": "white"
           },
           "zaxis": {
            "backgroundcolor": "#E5ECF6",
            "gridcolor": "white",
            "gridwidth": 2,
            "linecolor": "white",
            "showbackground": true,
            "ticks": "",
            "zerolinecolor": "white"
           }
          },
          "shapedefaults": {
           "line": {
            "color": "#2a3f5f"
           }
          },
          "ternary": {
           "aaxis": {
            "gridcolor": "white",
            "linecolor": "white",
            "ticks": ""
           },
           "baxis": {
            "gridcolor": "white",
            "linecolor": "white",
            "ticks": ""
           },
           "bgcolor": "#E5ECF6",
           "caxis": {
            "gridcolor": "white",
            "linecolor": "white",
            "ticks": ""
           }
          },
          "title": {
           "x": 0.05
          },
          "xaxis": {
           "automargin": true,
           "gridcolor": "white",
           "linecolor": "white",
           "ticks": "",
           "title": {
            "standoff": 15
           },
           "zerolinecolor": "white",
           "zerolinewidth": 2
          },
          "yaxis": {
           "automargin": true,
           "gridcolor": "white",
           "linecolor": "white",
           "ticks": "",
           "title": {
            "standoff": 15
           },
           "zerolinecolor": "white",
           "zerolinewidth": 2
          }
         }
        }
       }
      }
     },
     "metadata": {},
     "output_type": "display_data"
    }
   ],
   "source": [
    "fig = px.line_3d(eer, x='T1', y='T2', z='EER',color='T2')\n",
    "fig.show()"
   ]
  },
  {
   "cell_type": "code",
   "execution_count": 17,
   "metadata": {},
   "outputs": [],
   "source": [
    "def plot_df(path,label=None):\n",
    "    eer = pd.read_csv(path)\n",
    "    if label:\n",
    "        # eer['label'] = label\n",
    "        fig = px.line_3d(eer, x='T1', y='T2', z='EER',color=label)\n",
    "        fig.show()\n",
    "        return\n",
    "    fig = px.line_3d(eer, x='T1', y='T2', z='EER',color='T1')\n",
    "    fig.show()\n",
    "    fig2 = px.line_3d(eer, x='T1', y='T2', z='EER',color='T2')\n",
    "    fig2.show()\n",
    "    return eer\n"
   ]
  },
  {
   "cell_type": "code",
   "execution_count": 20,
   "metadata": {},
   "outputs": [
    {
     "data": {
      "application/vnd.plotly.v1+json": {
       "config": {
        "plotlyServerURL": "https://plot.ly"
       },
       "data": [
        {
         "hovertemplate": "T1=%{x}<br>T2=%{y}<br>EER=%{z}<extra></extra>",
         "legendgroup": "0.1",
         "line": {
          "color": "#636efa",
          "dash": "solid"
         },
         "marker": {
          "symbol": "circle"
         },
         "mode": "lines",
         "name": "0.1",
         "scene": "scene",
         "showlegend": true,
         "type": "scatter3d",
         "x": [
          0.1,
          0.1,
          0.1,
          0.1,
          0.1,
          0.1,
          0.1,
          0.1,
          0.1,
          0.1,
          0.1,
          0.1,
          0.1,
          0.1,
          0.1,
          0.1,
          0.1,
          0.1,
          0.1,
          0.1,
          0.1,
          0.1,
          0.1,
          0.1,
          0.1,
          0.1,
          0.1,
          0.1,
          0.1,
          0.1,
          0.1,
          0.1,
          0.1,
          0.1,
          0.1,
          0.1,
          0.1,
          0.1,
          0.1,
          0.1,
          0.1,
          0.1,
          0.1,
          0.1,
          0.1,
          0.1,
          0.1,
          0.1,
          0.1,
          0.1,
          0.1,
          0.1,
          0.1,
          0.1,
          0.1,
          0.1,
          0.1,
          0.1,
          0.1,
          0.1,
          0.1,
          0.1,
          0.1,
          0.1,
          0.1,
          0.1,
          0.1,
          0.1,
          0.1,
          0.1,
          0.1,
          0.1,
          0.1,
          0.1,
          0.1,
          0.1,
          0.1,
          0.1,
          0.1,
          0.1,
          0.1,
          0.1,
          0.1,
          0.1,
          0.1,
          0.1,
          0.1,
          0.1,
          0.1,
          0.1,
          0.1,
          0.1,
          0.1,
          0.1,
          0.1,
          0.1,
          0.1,
          0.1,
          0.1,
          0.1
         ],
         "y": [
          0.02,
          0.021,
          0.022,
          0.023,
          0.024,
          0.025,
          0.026,
          0.027,
          0.028,
          0.029,
          0.03,
          0.031,
          0.032,
          0.033,
          0.034,
          0.035,
          0.036,
          0.037,
          0.038,
          0.039,
          0.04,
          0.041,
          0.042,
          0.043,
          0.044,
          0.045,
          0.046,
          0.047,
          0.048,
          0.049,
          0.05,
          0.051,
          0.052,
          0.053,
          0.054,
          0.055,
          0.056,
          0.057,
          0.058,
          0.059,
          0.06,
          0.061,
          0.062,
          0.063,
          0.064,
          0.065,
          0.066,
          0.067,
          0.068,
          0.069,
          0.07,
          0.071,
          0.072,
          0.073,
          0.074,
          0.075,
          0.076,
          0.077,
          0.078,
          0.079,
          0.08,
          0.081,
          0.082,
          0.083,
          0.084,
          0.085,
          0.086,
          0.087,
          0.088,
          0.089,
          0.09,
          0.091,
          0.092,
          0.093,
          0.094,
          0.095,
          0.096,
          0.097,
          0.098,
          0.099,
          0.1,
          0.101,
          0.102,
          0.103,
          0.104,
          0.105,
          0.106,
          0.107,
          0.108,
          0.109,
          0.11,
          0.111,
          0.112,
          0.113,
          0.114,
          0.115,
          0.116,
          0.117,
          0.118,
          0.119
         ],
         "z": [
          25.48,
          25.57,
          25.37,
          25.33,
          25.31,
          25.19,
          25.18,
          25.16,
          25.28,
          25.29,
          25.24,
          24.83,
          24.79,
          24.97,
          24.94,
          24.77,
          24.91,
          25.08,
          24.84,
          24.76,
          24.73,
          24.52,
          24.52,
          24.6,
          24.79,
          25.03,
          25.23,
          25.24,
          25.39,
          25.58,
          25.94,
          25.79,
          26.03,
          26.3,
          26.22,
          26.48,
          26.43,
          26.48,
          26.29,
          26.39,
          26.18,
          26.28,
          26.13,
          26.11,
          26.16,
          26.02,
          26.04,
          26.01,
          26,
          25.96,
          25.3,
          25.28,
          25.26,
          25.18,
          25.36,
          25.41,
          25.51,
          25.72,
          25.92,
          25.92,
          25.81,
          25.73,
          25.47,
          25.62,
          25.66,
          25.44,
          25.59,
          25.78,
          25.68,
          25.87,
          25.98,
          26.17,
          26.19,
          26.2,
          26.32,
          26.34,
          26.34,
          26.58,
          26.83,
          26.74,
          26.87,
          27,
          26.9,
          26.77,
          27.01,
          27.27,
          27.03,
          27.17,
          27.42,
          27.67,
          27.59,
          27.76,
          27.86,
          27.94,
          27.77,
          27.5,
          27.78,
          27.48,
          27.58,
          27.8
         ]
        },
        {
         "hovertemplate": "T1=%{x}<br>T2=%{y}<br>EER=%{z}<extra></extra>",
         "legendgroup": "0.2",
         "line": {
          "color": "#EF553B",
          "dash": "solid"
         },
         "marker": {
          "symbol": "circle"
         },
         "mode": "lines",
         "name": "0.2",
         "scene": "scene",
         "showlegend": true,
         "type": "scatter3d",
         "x": [
          0.2,
          0.2,
          0.2,
          0.2,
          0.2,
          0.2,
          0.2,
          0.2,
          0.2,
          0.2,
          0.2,
          0.2,
          0.2,
          0.2,
          0.2,
          0.2,
          0.2,
          0.2,
          0.2,
          0.2,
          0.2,
          0.2,
          0.2,
          0.2,
          0.2,
          0.2,
          0.2,
          0.2,
          0.2,
          0.2,
          0.2,
          0.2,
          0.2,
          0.2,
          0.2,
          0.2,
          0.2,
          0.2,
          0.2,
          0.2,
          0.2,
          0.2,
          0.2,
          0.2,
          0.2,
          0.2,
          0.2,
          0.2,
          0.2,
          0.2,
          0.2,
          0.2,
          0.2,
          0.2,
          0.2,
          0.2,
          0.2,
          0.2,
          0.2,
          0.2,
          0.2,
          0.2,
          0.2,
          0.2,
          0.2,
          0.2,
          0.2,
          0.2,
          0.2,
          0.2,
          0.2,
          0.2,
          0.2,
          0.2,
          0.2,
          0.2,
          0.2,
          0.2,
          0.2,
          0.2,
          0.2,
          0.2,
          0.2,
          0.2,
          0.2,
          0.2,
          0.2,
          0.2,
          0.2,
          0.2,
          0.2,
          0.2,
          0.2,
          0.2,
          0.2,
          0.2,
          0.2,
          0.2,
          0.2,
          0.2
         ],
         "y": [
          0.02,
          0.021,
          0.022,
          0.023,
          0.024,
          0.025,
          0.026,
          0.027,
          0.028,
          0.029,
          0.03,
          0.031,
          0.032,
          0.033,
          0.034,
          0.035,
          0.036,
          0.037,
          0.038,
          0.039,
          0.04,
          0.041,
          0.042,
          0.043,
          0.044,
          0.045,
          0.046,
          0.047,
          0.048,
          0.049,
          0.05,
          0.051,
          0.052,
          0.053,
          0.054,
          0.055,
          0.056,
          0.057,
          0.058,
          0.059,
          0.06,
          0.061,
          0.062,
          0.063,
          0.064,
          0.065,
          0.066,
          0.067,
          0.068,
          0.069,
          0.07,
          0.071,
          0.072,
          0.073,
          0.074,
          0.075,
          0.076,
          0.077,
          0.078,
          0.079,
          0.08,
          0.081,
          0.082,
          0.083,
          0.084,
          0.085,
          0.086,
          0.087,
          0.088,
          0.089,
          0.09,
          0.091,
          0.092,
          0.093,
          0.094,
          0.095,
          0.096,
          0.097,
          0.098,
          0.099,
          0.1,
          0.101,
          0.102,
          0.103,
          0.104,
          0.105,
          0.106,
          0.107,
          0.108,
          0.109,
          0.11,
          0.111,
          0.112,
          0.113,
          0.114,
          0.115,
          0.116,
          0.117,
          0.118,
          0.119
         ],
         "z": [
          25.12,
          25.24,
          25.08,
          25.21,
          25.26,
          25.22,
          25.31,
          25.32,
          25.52,
          25.73,
          25.5,
          25.26,
          25.36,
          25.68,
          25.78,
          25.69,
          25.7,
          25.67,
          25.7,
          25.78,
          25.91,
          25.8,
          25.96,
          26.01,
          26.04,
          26.01,
          25.96,
          25.76,
          25.67,
          25.58,
          25.72,
          25.52,
          25.53,
          25.77,
          25.4,
          25.5,
          25.52,
          25.63,
          25.29,
          25.4,
          25.33,
          25.37,
          25.14,
          25.1,
          25.14,
          25.07,
          24.86,
          25.03,
          24.86,
          24.79,
          24.64,
          24.46,
          24.41,
          24.32,
          24.57,
          24.57,
          24.78,
          25,
          25.06,
          25.1,
          25.16,
          25.16,
          25.14,
          25.13,
          25.24,
          25.28,
          25.46,
          25.33,
          25.57,
          25.4,
          25.4,
          25.7,
          25.64,
          25.64,
          25.37,
          25.49,
          25.42,
          25.52,
          25.44,
          25.26,
          25.27,
          25.3,
          25.49,
          25.67,
          25.92,
          25.64,
          25.82,
          26.08,
          26.2,
          26.41,
          26.74,
          26.59,
          26.54,
          26.67,
          26.74,
          26.69,
          26.57,
          26.37,
          26.82,
          26.82
         ]
        },
        {
         "hovertemplate": "T1=%{x}<br>T2=%{y}<br>EER=%{z}<extra></extra>",
         "legendgroup": "0.3",
         "line": {
          "color": "#00cc96",
          "dash": "solid"
         },
         "marker": {
          "symbol": "circle"
         },
         "mode": "lines",
         "name": "0.3",
         "scene": "scene",
         "showlegend": true,
         "type": "scatter3d",
         "x": [
          0.3,
          0.3,
          0.3,
          0.3,
          0.3,
          0.3,
          0.3,
          0.3,
          0.3,
          0.3,
          0.3,
          0.3,
          0.3,
          0.3,
          0.3,
          0.3,
          0.3,
          0.3,
          0.3,
          0.3,
          0.3,
          0.3,
          0.3,
          0.3,
          0.3,
          0.3,
          0.3,
          0.3,
          0.3,
          0.3,
          0.3,
          0.3,
          0.3,
          0.3,
          0.3,
          0.3,
          0.3,
          0.3,
          0.3,
          0.3,
          0.3,
          0.3,
          0.3,
          0.3,
          0.3,
          0.3,
          0.3,
          0.3,
          0.3,
          0.3,
          0.3,
          0.3,
          0.3,
          0.3,
          0.3,
          0.3,
          0.3,
          0.3,
          0.3,
          0.3,
          0.3,
          0.3,
          0.3,
          0.3,
          0.3,
          0.3,
          0.3,
          0.3,
          0.3,
          0.3,
          0.3,
          0.3,
          0.3,
          0.3,
          0.3,
          0.3,
          0.3,
          0.3,
          0.3,
          0.3,
          0.3,
          0.3,
          0.3,
          0.3,
          0.3,
          0.3,
          0.3,
          0.3,
          0.3,
          0.3,
          0.3,
          0.3,
          0.3,
          0.3,
          0.3,
          0.3,
          0.3,
          0.3,
          0.3,
          0.3
         ],
         "y": [
          0.02,
          0.021,
          0.022,
          0.023,
          0.024,
          0.025,
          0.026,
          0.027,
          0.028,
          0.029,
          0.03,
          0.031,
          0.032,
          0.033,
          0.034,
          0.035,
          0.036,
          0.037,
          0.038,
          0.039,
          0.04,
          0.041,
          0.042,
          0.043,
          0.044,
          0.045,
          0.046,
          0.047,
          0.048,
          0.049,
          0.05,
          0.051,
          0.052,
          0.053,
          0.054,
          0.055,
          0.056,
          0.057,
          0.058,
          0.059,
          0.06,
          0.061,
          0.062,
          0.063,
          0.064,
          0.065,
          0.066,
          0.067,
          0.068,
          0.069,
          0.07,
          0.071,
          0.072,
          0.073,
          0.074,
          0.075,
          0.076,
          0.077,
          0.078,
          0.079,
          0.08,
          0.081,
          0.082,
          0.083,
          0.084,
          0.085,
          0.086,
          0.087,
          0.088,
          0.089,
          0.09,
          0.091,
          0.092,
          0.093,
          0.094,
          0.095,
          0.096,
          0.097,
          0.098,
          0.099,
          0.1,
          0.101,
          0.102,
          0.103,
          0.104,
          0.105,
          0.106,
          0.107,
          0.108,
          0.109,
          0.11,
          0.111,
          0.112,
          0.113,
          0.114,
          0.115,
          0.116,
          0.117,
          0.118,
          0.119
         ],
         "z": [
          25.93,
          25.97,
          25.91,
          26.09,
          26.22,
          26.26,
          26.37,
          26.39,
          26.72,
          27.04,
          27.02,
          26.7,
          26.86,
          27.13,
          27.18,
          26.62,
          26.69,
          26.5,
          26.23,
          26.11,
          26,
          26.13,
          25.74,
          25.86,
          25.87,
          25.83,
          25.79,
          25.54,
          25.66,
          25.61,
          25.69,
          25.21,
          25.2,
          25.2,
          24.82,
          24.94,
          25.24,
          25.13,
          25.23,
          25.41,
          25.27,
          25.02,
          24.9,
          25.1,
          25.1,
          25.09,
          24.89,
          25.24,
          24.83,
          24.88,
          24.63,
          24.59,
          24.48,
          24.63,
          24.66,
          24.88,
          24.96,
          25.04,
          25.02,
          24.84,
          24.46,
          24.63,
          24.78,
          24.66,
          24.31,
          24.44,
          24.34,
          24.36,
          24.62,
          24.76,
          24.89,
          25.31,
          25.32,
          25.41,
          25.04,
          24.91,
          25.02,
          25.14,
          25.33,
          25.34,
          25.52,
          25.59,
          25.56,
          25.76,
          25.97,
          25.88,
          25.72,
          25.66,
          25.81,
          26.19,
          26.3,
          26.49,
          26.7,
          27,
          26.94,
          26.96,
          26.8,
          26.22,
          26.21,
          26.46
         ]
        },
        {
         "hovertemplate": "T1=%{x}<br>T2=%{y}<br>EER=%{z}<extra></extra>",
         "legendgroup": "0.4",
         "line": {
          "color": "#ab63fa",
          "dash": "solid"
         },
         "marker": {
          "symbol": "circle"
         },
         "mode": "lines",
         "name": "0.4",
         "scene": "scene",
         "showlegend": true,
         "type": "scatter3d",
         "x": [
          0.4,
          0.4,
          0.4,
          0.4,
          0.4,
          0.4,
          0.4,
          0.4,
          0.4,
          0.4,
          0.4,
          0.4,
          0.4,
          0.4,
          0.4,
          0.4,
          0.4,
          0.4,
          0.4,
          0.4,
          0.4,
          0.4,
          0.4,
          0.4,
          0.4,
          0.4,
          0.4,
          0.4,
          0.4,
          0.4,
          0.4,
          0.4,
          0.4,
          0.4,
          0.4,
          0.4,
          0.4,
          0.4,
          0.4,
          0.4,
          0.4,
          0.4,
          0.4,
          0.4,
          0.4,
          0.4,
          0.4,
          0.4,
          0.4,
          0.4,
          0.4,
          0.4,
          0.4,
          0.4,
          0.4,
          0.4,
          0.4,
          0.4,
          0.4,
          0.4,
          0.4,
          0.4,
          0.4,
          0.4,
          0.4,
          0.4,
          0.4,
          0.4,
          0.4,
          0.4,
          0.4,
          0.4,
          0.4,
          0.4,
          0.4,
          0.4,
          0.4,
          0.4,
          0.4,
          0.4,
          0.4,
          0.4,
          0.4,
          0.4,
          0.4,
          0.4,
          0.4,
          0.4,
          0.4,
          0.4,
          0.4,
          0.4,
          0.4,
          0.4,
          0.4,
          0.4,
          0.4,
          0.4,
          0.4,
          0.4
         ],
         "y": [
          0.02,
          0.021,
          0.022,
          0.023,
          0.024,
          0.025,
          0.026,
          0.027,
          0.028,
          0.029,
          0.03,
          0.031,
          0.032,
          0.033,
          0.034,
          0.035,
          0.036,
          0.037,
          0.038,
          0.039,
          0.04,
          0.041,
          0.042,
          0.043,
          0.044,
          0.045,
          0.046,
          0.047,
          0.048,
          0.049,
          0.05,
          0.051,
          0.052,
          0.053,
          0.054,
          0.055,
          0.056,
          0.057,
          0.058,
          0.059,
          0.06,
          0.061,
          0.062,
          0.063,
          0.064,
          0.065,
          0.066,
          0.067,
          0.068,
          0.069,
          0.07,
          0.071,
          0.072,
          0.073,
          0.074,
          0.075,
          0.076,
          0.077,
          0.078,
          0.079,
          0.08,
          0.081,
          0.082,
          0.083,
          0.084,
          0.085,
          0.086,
          0.087,
          0.088,
          0.089,
          0.09,
          0.091,
          0.092,
          0.093,
          0.094,
          0.095,
          0.096,
          0.097,
          0.098,
          0.099,
          0.1,
          0.101,
          0.102,
          0.103,
          0.104,
          0.105,
          0.106,
          0.107,
          0.108,
          0.109,
          0.11,
          0.111,
          0.112,
          0.113,
          0.114,
          0.115,
          0.116,
          0.117,
          0.118,
          0.119
         ],
         "z": [
          26.64,
          26.71,
          26.64,
          26.81,
          26.98,
          27.02,
          26.76,
          26.79,
          26.88,
          26.94,
          26.56,
          26.34,
          26.47,
          26.36,
          26.34,
          25.98,
          26.12,
          25.77,
          25.56,
          25.53,
          25.32,
          25.4,
          25.13,
          25.11,
          25.31,
          24.93,
          24.96,
          24.8,
          24.78,
          24.69,
          24.8,
          24.61,
          24.32,
          24.4,
          23.83,
          23.9,
          24.07,
          23.89,
          23.89,
          24.02,
          24.21,
          24.44,
          24.27,
          24.18,
          24.1,
          23.97,
          23.84,
          24.18,
          24.08,
          24.04,
          23.6,
          23.44,
          23.32,
          23.03,
          23.24,
          23.47,
          23.43,
          23.47,
          23.39,
          23.51,
          23.31,
          23.32,
          23.3,
          23.5,
          23.61,
          23.67,
          23.61,
          23.58,
          24.1,
          24.28,
          24.4,
          24.6,
          24.64,
          24.46,
          24.42,
          24.34,
          24.22,
          23.74,
          23.99,
          24.21,
          24.54,
          24.4,
          24.28,
          24.43,
          24.52,
          24.49,
          24.91,
          25.13,
          25.28,
          25.48,
          25.32,
          25.56,
          25.56,
          25.74,
          25.57,
          25.64,
          25.6,
          25.64,
          25.77,
          26.03
         ]
        },
        {
         "hovertemplate": "T1=%{x}<br>T2=%{y}<br>EER=%{z}<extra></extra>",
         "legendgroup": "0.5",
         "line": {
          "color": "#FFA15A",
          "dash": "solid"
         },
         "marker": {
          "symbol": "circle"
         },
         "mode": "lines",
         "name": "0.5",
         "scene": "scene",
         "showlegend": true,
         "type": "scatter3d",
         "x": [
          0.5,
          0.5,
          0.5,
          0.5,
          0.5,
          0.5,
          0.5,
          0.5,
          0.5,
          0.5,
          0.5,
          0.5,
          0.5,
          0.5,
          0.5,
          0.5,
          0.5,
          0.5,
          0.5,
          0.5,
          0.5,
          0.5,
          0.5,
          0.5,
          0.5,
          0.5,
          0.5,
          0.5,
          0.5,
          0.5,
          0.5,
          0.5,
          0.5,
          0.5,
          0.5,
          0.5,
          0.5,
          0.5,
          0.5,
          0.5,
          0.5,
          0.5,
          0.5,
          0.5,
          0.5,
          0.5,
          0.5,
          0.5,
          0.5,
          0.5,
          0.5,
          0.5,
          0.5,
          0.5,
          0.5,
          0.5,
          0.5,
          0.5,
          0.5,
          0.5,
          0.5,
          0.5,
          0.5,
          0.5,
          0.5,
          0.5,
          0.5,
          0.5,
          0.5,
          0.5,
          0.5,
          0.5,
          0.5,
          0.5,
          0.5,
          0.5,
          0.5,
          0.5,
          0.5,
          0.5,
          0.5,
          0.5,
          0.5,
          0.5,
          0.5,
          0.5,
          0.5,
          0.5,
          0.5,
          0.5,
          0.5,
          0.5,
          0.5,
          0.5,
          0.5,
          0.5,
          0.5,
          0.5,
          0.5,
          0.5
         ],
         "y": [
          0.02,
          0.021,
          0.022,
          0.023,
          0.024,
          0.025,
          0.026,
          0.027,
          0.028,
          0.029,
          0.03,
          0.031,
          0.032,
          0.033,
          0.034,
          0.035,
          0.036,
          0.037,
          0.038,
          0.039,
          0.04,
          0.041,
          0.042,
          0.043,
          0.044,
          0.045,
          0.046,
          0.047,
          0.048,
          0.049,
          0.05,
          0.051,
          0.052,
          0.053,
          0.054,
          0.055,
          0.056,
          0.057,
          0.058,
          0.059,
          0.06,
          0.061,
          0.062,
          0.063,
          0.064,
          0.065,
          0.066,
          0.067,
          0.068,
          0.069,
          0.07,
          0.071,
          0.072,
          0.073,
          0.074,
          0.075,
          0.076,
          0.077,
          0.078,
          0.079,
          0.08,
          0.081,
          0.082,
          0.083,
          0.084,
          0.085,
          0.086,
          0.087,
          0.088,
          0.089,
          0.09,
          0.091,
          0.092,
          0.093,
          0.094,
          0.095,
          0.096,
          0.097,
          0.098,
          0.099,
          0.1,
          0.101,
          0.102,
          0.103,
          0.104,
          0.105,
          0.106,
          0.107,
          0.108,
          0.109,
          0.11,
          0.111,
          0.112,
          0.113,
          0.114,
          0.115,
          0.116,
          0.117,
          0.118,
          0.119
         ],
         "z": [
          27.16,
          27.34,
          27.31,
          27.21,
          27.13,
          26.97,
          26.67,
          26.86,
          26.98,
          27.04,
          26.46,
          26.2,
          26.37,
          26.4,
          26.42,
          25.66,
          25.62,
          25.4,
          24.92,
          24.82,
          24.69,
          24.73,
          24.62,
          24.6,
          24.71,
          24.26,
          24.22,
          24.31,
          24.31,
          24.33,
          24.42,
          24.43,
          24.19,
          24.43,
          24.07,
          24.33,
          24.59,
          24.53,
          24.66,
          24.72,
          25.07,
          25.01,
          24.48,
          24.56,
          24.41,
          24.49,
          24.44,
          24.54,
          24.3,
          24.17,
          23.99,
          23.74,
          23.33,
          23.4,
          23.48,
          23.49,
          23.32,
          23.7,
          23.87,
          23.7,
          23.78,
          23.68,
          23.52,
          23.38,
          23.48,
          23.78,
          23.67,
          23.3,
          23.76,
          24.02,
          24.36,
          24.3,
          24.5,
          24.54,
          24.58,
          24.59,
          24.71,
          24.23,
          24.38,
          24.16,
          24.32,
          24.54,
          24.98,
          25.08,
          25.17,
          25.1,
          25.01,
          25.23,
          25.41,
          25.54,
          25.42,
          25.61,
          26.02,
          26.17,
          25.88,
          26.02,
          26.23,
          26.24,
          25.83,
          26.12
         ]
        },
        {
         "hovertemplate": "T1=%{x}<br>T2=%{y}<br>EER=%{z}<extra></extra>",
         "legendgroup": "0.6",
         "line": {
          "color": "#19d3f3",
          "dash": "solid"
         },
         "marker": {
          "symbol": "circle"
         },
         "mode": "lines",
         "name": "0.6",
         "scene": "scene",
         "showlegend": true,
         "type": "scatter3d",
         "x": [
          0.6,
          0.6,
          0.6,
          0.6,
          0.6,
          0.6,
          0.6,
          0.6,
          0.6,
          0.6,
          0.6,
          0.6,
          0.6,
          0.6,
          0.6,
          0.6,
          0.6,
          0.6,
          0.6,
          0.6,
          0.6,
          0.6,
          0.6,
          0.6,
          0.6,
          0.6,
          0.6,
          0.6,
          0.6,
          0.6,
          0.6,
          0.6,
          0.6,
          0.6,
          0.6,
          0.6,
          0.6,
          0.6,
          0.6,
          0.6,
          0.6,
          0.6,
          0.6,
          0.6,
          0.6,
          0.6,
          0.6,
          0.6,
          0.6,
          0.6,
          0.6,
          0.6,
          0.6,
          0.6,
          0.6,
          0.6,
          0.6,
          0.6,
          0.6,
          0.6,
          0.6,
          0.6,
          0.6,
          0.6,
          0.6,
          0.6,
          0.6,
          0.6,
          0.6,
          0.6,
          0.6,
          0.6,
          0.6,
          0.6,
          0.6,
          0.6,
          0.6,
          0.6,
          0.6,
          0.6,
          0.6,
          0.6,
          0.6,
          0.6,
          0.6,
          0.6,
          0.6,
          0.6,
          0.6,
          0.6,
          0.6,
          0.6,
          0.6,
          0.6,
          0.6,
          0.6,
          0.6,
          0.6,
          0.6,
          0.6
         ],
         "y": [
          0.02,
          0.021,
          0.022,
          0.023,
          0.024,
          0.025,
          0.026,
          0.027,
          0.028,
          0.029,
          0.03,
          0.031,
          0.032,
          0.033,
          0.034,
          0.035,
          0.036,
          0.037,
          0.038,
          0.039,
          0.04,
          0.041,
          0.042,
          0.043,
          0.044,
          0.045,
          0.046,
          0.047,
          0.048,
          0.049,
          0.05,
          0.051,
          0.052,
          0.053,
          0.054,
          0.055,
          0.056,
          0.057,
          0.058,
          0.059,
          0.06,
          0.061,
          0.062,
          0.063,
          0.064,
          0.065,
          0.066,
          0.067,
          0.068,
          0.069,
          0.07,
          0.071,
          0.072,
          0.073,
          0.074,
          0.075,
          0.076,
          0.077,
          0.078,
          0.079,
          0.08,
          0.081,
          0.082,
          0.083,
          0.084,
          0.085,
          0.086,
          0.087,
          0.088,
          0.089,
          0.09,
          0.091,
          0.092,
          0.093,
          0.094,
          0.095,
          0.096,
          0.097,
          0.098,
          0.099,
          0.1,
          0.101,
          0.102,
          0.103,
          0.104,
          0.105,
          0.106,
          0.107,
          0.108,
          0.109,
          0.11,
          0.111,
          0.112,
          0.113,
          0.114,
          0.115,
          0.116,
          0.117,
          0.118,
          0.119
         ],
         "z": [
          26.82,
          26.91,
          26.91,
          26.67,
          26.43,
          26.51,
          26.3,
          26.48,
          26.5,
          26.31,
          26.21,
          25.93,
          25.87,
          25.91,
          25.87,
          24.96,
          25.09,
          25.06,
          24.72,
          24.66,
          24.7,
          24.74,
          24.54,
          24.62,
          24.66,
          24.33,
          24.27,
          24.39,
          24.71,
          24.87,
          24.97,
          25.18,
          24.83,
          25,
          24.62,
          24.91,
          24.92,
          25.07,
          25.03,
          25.01,
          24.64,
          24.51,
          24.5,
          24.53,
          24.39,
          24.58,
          24.28,
          24.6,
          24.57,
          24.84,
          24.69,
          24.36,
          24.28,
          24.17,
          24.11,
          23.6,
          23.82,
          23.48,
          23.33,
          23.54,
          23.72,
          23.83,
          23.89,
          23.71,
          23.7,
          24,
          24.1,
          24.19,
          24.44,
          24.49,
          24.59,
          24.46,
          24.68,
          24.76,
          24.88,
          24.54,
          24.68,
          24.29,
          24.56,
          24.38,
          24.6,
          25.06,
          25.18,
          24.82,
          25.16,
          25.23,
          25.07,
          25.13,
          25.09,
          24.87,
          24.91,
          25.14,
          25.61,
          25.78,
          25.66,
          26,
          26.01,
          26.12,
          26.26,
          26.21
         ]
        },
        {
         "hovertemplate": "T1=%{x}<br>T2=%{y}<br>EER=%{z}<extra></extra>",
         "legendgroup": "0.7",
         "line": {
          "color": "#FF6692",
          "dash": "solid"
         },
         "marker": {
          "symbol": "circle"
         },
         "mode": "lines",
         "name": "0.7",
         "scene": "scene",
         "showlegend": true,
         "type": "scatter3d",
         "x": [
          0.7,
          0.7,
          0.7,
          0.7,
          0.7,
          0.7,
          0.7,
          0.7,
          0.7,
          0.7,
          0.7,
          0.7,
          0.7,
          0.7,
          0.7,
          0.7,
          0.7,
          0.7,
          0.7,
          0.7,
          0.7,
          0.7,
          0.7,
          0.7,
          0.7,
          0.7,
          0.7,
          0.7,
          0.7,
          0.7,
          0.7,
          0.7,
          0.7,
          0.7,
          0.7,
          0.7,
          0.7,
          0.7,
          0.7,
          0.7,
          0.7,
          0.7,
          0.7,
          0.7,
          0.7,
          0.7,
          0.7,
          0.7,
          0.7,
          0.7,
          0.7,
          0.7,
          0.7,
          0.7,
          0.7,
          0.7,
          0.7,
          0.7,
          0.7,
          0.7,
          0.7,
          0.7,
          0.7,
          0.7,
          0.7,
          0.7,
          0.7,
          0.7,
          0.7,
          0.7,
          0.7,
          0.7,
          0.7,
          0.7,
          0.7,
          0.7,
          0.7,
          0.7,
          0.7,
          0.7,
          0.7,
          0.7,
          0.7,
          0.7,
          0.7,
          0.7,
          0.7,
          0.7,
          0.7,
          0.7,
          0.7,
          0.7,
          0.7,
          0.7,
          0.7,
          0.7,
          0.7,
          0.7,
          0.7,
          0.7
         ],
         "y": [
          0.02,
          0.021,
          0.022,
          0.023,
          0.024,
          0.025,
          0.026,
          0.027,
          0.028,
          0.029,
          0.03,
          0.031,
          0.032,
          0.033,
          0.034,
          0.035,
          0.036,
          0.037,
          0.038,
          0.039,
          0.04,
          0.041,
          0.042,
          0.043,
          0.044,
          0.045,
          0.046,
          0.047,
          0.048,
          0.049,
          0.05,
          0.051,
          0.052,
          0.053,
          0.054,
          0.055,
          0.056,
          0.057,
          0.058,
          0.059,
          0.06,
          0.061,
          0.062,
          0.063,
          0.064,
          0.065,
          0.066,
          0.067,
          0.068,
          0.069,
          0.07,
          0.071,
          0.072,
          0.073,
          0.074,
          0.075,
          0.076,
          0.077,
          0.078,
          0.079,
          0.08,
          0.081,
          0.082,
          0.083,
          0.084,
          0.085,
          0.086,
          0.087,
          0.088,
          0.089,
          0.09,
          0.091,
          0.092,
          0.093,
          0.094,
          0.095,
          0.096,
          0.097,
          0.098,
          0.099,
          0.1,
          0.101,
          0.102,
          0.103,
          0.104,
          0.105,
          0.106,
          0.107,
          0.108,
          0.109,
          0.11,
          0.111,
          0.112,
          0.113,
          0.114,
          0.115,
          0.116,
          0.117,
          0.118,
          0.119
         ],
         "z": [
          26.53,
          26.56,
          26.61,
          26.34,
          26.12,
          26.02,
          25.58,
          25.81,
          25.98,
          25.92,
          25.72,
          25.46,
          25.34,
          25.29,
          25.29,
          24.48,
          24.6,
          24.59,
          24.29,
          24.26,
          24.26,
          24.24,
          24.21,
          24.39,
          24.53,
          24.41,
          24.48,
          24.69,
          24.93,
          25.23,
          25.41,
          25.53,
          25.34,
          25.54,
          25.3,
          25.39,
          25.36,
          25.32,
          25.13,
          25.14,
          25.22,
          25.04,
          24.91,
          25.04,
          25.09,
          24.93,
          24.71,
          24.9,
          24.79,
          24.84,
          24.76,
          24.47,
          24.12,
          23.98,
          24.3,
          24.1,
          24.36,
          24.27,
          24.37,
          24.54,
          24.57,
          24.36,
          24.43,
          24.26,
          24.69,
          24.72,
          24.69,
          24.37,
          24.48,
          24.81,
          24.88,
          24.67,
          24.92,
          25.13,
          24.99,
          24.67,
          24.86,
          24.61,
          25.03,
          24.96,
          25.04,
          25.02,
          25.16,
          25.47,
          25.78,
          25.68,
          25.38,
          25.42,
          25.56,
          25.5,
          25.66,
          26.11,
          26.37,
          26.28,
          26.51,
          26.79,
          26.63,
          27,
          26.7,
          26.12
         ]
        },
        {
         "hovertemplate": "T1=%{x}<br>T2=%{y}<br>EER=%{z}<extra></extra>",
         "legendgroup": "0.8",
         "line": {
          "color": "#B6E880",
          "dash": "solid"
         },
         "marker": {
          "symbol": "circle"
         },
         "mode": "lines",
         "name": "0.8",
         "scene": "scene",
         "showlegend": true,
         "type": "scatter3d",
         "x": [
          0.8,
          0.8,
          0.8,
          0.8,
          0.8,
          0.8,
          0.8,
          0.8,
          0.8,
          0.8,
          0.8,
          0.8,
          0.8,
          0.8,
          0.8,
          0.8,
          0.8,
          0.8,
          0.8,
          0.8,
          0.8,
          0.8,
          0.8,
          0.8,
          0.8,
          0.8,
          0.8,
          0.8,
          0.8,
          0.8,
          0.8,
          0.8,
          0.8,
          0.8,
          0.8,
          0.8,
          0.8,
          0.8,
          0.8,
          0.8,
          0.8,
          0.8,
          0.8,
          0.8,
          0.8,
          0.8,
          0.8,
          0.8,
          0.8,
          0.8,
          0.8,
          0.8,
          0.8,
          0.8,
          0.8,
          0.8,
          0.8,
          0.8,
          0.8,
          0.8,
          0.8,
          0.8,
          0.8,
          0.8,
          0.8,
          0.8,
          0.8,
          0.8,
          0.8,
          0.8,
          0.8,
          0.8,
          0.8,
          0.8,
          0.8,
          0.8,
          0.8,
          0.8,
          0.8,
          0.8,
          0.8,
          0.8,
          0.8,
          0.8,
          0.8,
          0.8,
          0.8,
          0.8,
          0.8,
          0.8,
          0.8,
          0.8,
          0.8,
          0.8,
          0.8,
          0.8,
          0.8,
          0.8,
          0.8,
          0.8
         ],
         "y": [
          0.02,
          0.021,
          0.022,
          0.023,
          0.024,
          0.025,
          0.026,
          0.027,
          0.028,
          0.029,
          0.03,
          0.031,
          0.032,
          0.033,
          0.034,
          0.035,
          0.036,
          0.037,
          0.038,
          0.039,
          0.04,
          0.041,
          0.042,
          0.043,
          0.044,
          0.045,
          0.046,
          0.047,
          0.048,
          0.049,
          0.05,
          0.051,
          0.052,
          0.053,
          0.054,
          0.055,
          0.056,
          0.057,
          0.058,
          0.059,
          0.06,
          0.061,
          0.062,
          0.063,
          0.064,
          0.065,
          0.066,
          0.067,
          0.068,
          0.069,
          0.07,
          0.071,
          0.072,
          0.073,
          0.074,
          0.075,
          0.076,
          0.077,
          0.078,
          0.079,
          0.08,
          0.081,
          0.082,
          0.083,
          0.084,
          0.085,
          0.086,
          0.087,
          0.088,
          0.089,
          0.09,
          0.091,
          0.092,
          0.093,
          0.094,
          0.095,
          0.096,
          0.097,
          0.098,
          0.099,
          0.1,
          0.101,
          0.102,
          0.103,
          0.104,
          0.105,
          0.106,
          0.107,
          0.108,
          0.109,
          0.11,
          0.111,
          0.112,
          0.113,
          0.114,
          0.115,
          0.116,
          0.117,
          0.118,
          0.119
         ],
         "z": [
          26.6,
          26.59,
          26.64,
          26.37,
          26.14,
          25.97,
          25.51,
          25.73,
          25.77,
          25.76,
          25.42,
          25.52,
          25.46,
          25.39,
          25.42,
          24.48,
          24.47,
          24.47,
          24.39,
          24.42,
          24.14,
          24.3,
          24.41,
          24.64,
          24.72,
          24.78,
          24.74,
          24.98,
          25.08,
          25.4,
          25.68,
          25.61,
          25.52,
          25.53,
          25.4,
          25.69,
          25.6,
          25.62,
          25.46,
          25.31,
          25.17,
          25.06,
          25.1,
          25.04,
          25.2,
          25.29,
          25.16,
          25.14,
          25.1,
          25.26,
          24.77,
          24.41,
          24.17,
          24.38,
          24.83,
          24.79,
          24.56,
          24.49,
          24.79,
          24.92,
          25.1,
          25.02,
          25.22,
          24.7,
          24.98,
          25.21,
          25.3,
          25.1,
          25.07,
          25.14,
          25.28,
          25.03,
          25.04,
          25,
          24.96,
          24.84,
          24.84,
          24.98,
          25.48,
          25.33,
          25.69,
          25.6,
          25.42,
          25.36,
          25.3,
          25.7,
          25.54,
          25.82,
          25.59,
          25.44,
          25.58,
          25.79,
          25.42,
          25.59,
          25.9,
          26.4,
          26.33,
          26.69,
          26.33,
          26.51
         ]
        },
        {
         "hovertemplate": "T1=%{x}<br>T2=%{y}<br>EER=%{z}<extra></extra>",
         "legendgroup": "0.9",
         "line": {
          "color": "#FF97FF",
          "dash": "solid"
         },
         "marker": {
          "symbol": "circle"
         },
         "mode": "lines",
         "name": "0.9",
         "scene": "scene",
         "showlegend": true,
         "type": "scatter3d",
         "x": [
          0.9,
          0.9,
          0.9,
          0.9,
          0.9,
          0.9,
          0.9,
          0.9,
          0.9,
          0.9,
          0.9,
          0.9,
          0.9,
          0.9,
          0.9,
          0.9,
          0.9,
          0.9,
          0.9,
          0.9,
          0.9,
          0.9,
          0.9,
          0.9,
          0.9,
          0.9,
          0.9,
          0.9,
          0.9,
          0.9,
          0.9,
          0.9,
          0.9,
          0.9,
          0.9,
          0.9,
          0.9,
          0.9,
          0.9,
          0.9,
          0.9,
          0.9,
          0.9,
          0.9,
          0.9,
          0.9,
          0.9,
          0.9,
          0.9,
          0.9,
          0.9,
          0.9,
          0.9,
          0.9,
          0.9,
          0.9,
          0.9,
          0.9,
          0.9,
          0.9,
          0.9,
          0.9,
          0.9,
          0.9,
          0.9,
          0.9,
          0.9,
          0.9,
          0.9,
          0.9,
          0.9,
          0.9,
          0.9,
          0.9,
          0.9,
          0.9,
          0.9,
          0.9,
          0.9,
          0.9,
          0.9,
          0.9,
          0.9,
          0.9,
          0.9,
          0.9,
          0.9,
          0.9,
          0.9,
          0.9,
          0.9,
          0.9,
          0.9,
          0.9,
          0.9,
          0.9,
          0.9,
          0.9,
          0.9,
          0.9
         ],
         "y": [
          0.02,
          0.021,
          0.022,
          0.023,
          0.024,
          0.025,
          0.026,
          0.027,
          0.028,
          0.029,
          0.03,
          0.031,
          0.032,
          0.033,
          0.034,
          0.035,
          0.036,
          0.037,
          0.038,
          0.039,
          0.04,
          0.041,
          0.042,
          0.043,
          0.044,
          0.045,
          0.046,
          0.047,
          0.048,
          0.049,
          0.05,
          0.051,
          0.052,
          0.053,
          0.054,
          0.055,
          0.056,
          0.057,
          0.058,
          0.059,
          0.06,
          0.061,
          0.062,
          0.063,
          0.064,
          0.065,
          0.066,
          0.067,
          0.068,
          0.069,
          0.07,
          0.071,
          0.072,
          0.073,
          0.074,
          0.075,
          0.076,
          0.077,
          0.078,
          0.079,
          0.08,
          0.081,
          0.082,
          0.083,
          0.084,
          0.085,
          0.086,
          0.087,
          0.088,
          0.089,
          0.09,
          0.091,
          0.092,
          0.093,
          0.094,
          0.095,
          0.096,
          0.097,
          0.098,
          0.099,
          0.1,
          0.101,
          0.102,
          0.103,
          0.104,
          0.105,
          0.106,
          0.107,
          0.108,
          0.109,
          0.11,
          0.111,
          0.112,
          0.113,
          0.114,
          0.115,
          0.116,
          0.117,
          0.118,
          0.119
         ],
         "z": [
          26.47,
          26.49,
          26.4,
          25.96,
          25.71,
          25.56,
          25.11,
          25.21,
          25.3,
          25.3,
          25.22,
          25.33,
          25.29,
          25.2,
          25.28,
          24.37,
          24.33,
          24.5,
          24.51,
          24.66,
          24.51,
          24.6,
          24.78,
          24.91,
          24.77,
          24.69,
          24.74,
          25.1,
          25.13,
          25.44,
          25.53,
          25.7,
          25.57,
          25.43,
          25.28,
          25.36,
          25.18,
          25.23,
          25.01,
          24.81,
          24.86,
          24.73,
          24.76,
          24.62,
          24.79,
          24.8,
          24.6,
          24.77,
          24.68,
          25.01,
          24.9,
          24.67,
          24.6,
          24.48,
          24.82,
          24.64,
          24.86,
          25.02,
          25.19,
          25.33,
          25.21,
          25.13,
          24.81,
          24.44,
          24.37,
          24.42,
          24.51,
          24.44,
          24.63,
          24.8,
          24.96,
          24.92,
          25.11,
          25.29,
          25.24,
          25.29,
          25.4,
          25.42,
          25.52,
          25.06,
          24.86,
          24.71,
          24.76,
          25.01,
          24.86,
          25.14,
          24.79,
          25.13,
          24.91,
          25.03,
          25.12,
          25.66,
          25.42,
          25.89,
          26.16,
          26.57,
          26.38,
          26.33,
          26.74,
          26.5
         ]
        },
        {
         "hovertemplate": "T1=%{x}<br>T2=%{y}<br>EER=%{z}<extra></extra>",
         "legendgroup": "1.0",
         "line": {
          "color": "#FECB52",
          "dash": "solid"
         },
         "marker": {
          "symbol": "circle"
         },
         "mode": "lines",
         "name": "1.0",
         "scene": "scene",
         "showlegend": true,
         "type": "scatter3d",
         "x": [
          1,
          1,
          1,
          1,
          1,
          1,
          1,
          1,
          1,
          1,
          1,
          1,
          1,
          1,
          1,
          1,
          1,
          1,
          1,
          1,
          1,
          1,
          1,
          1,
          1,
          1,
          1,
          1,
          1,
          1,
          1,
          1,
          1,
          1,
          1,
          1,
          1,
          1,
          1,
          1,
          1,
          1,
          1,
          1,
          1,
          1,
          1,
          1,
          1,
          1,
          1,
          1,
          1,
          1,
          1,
          1,
          1,
          1,
          1,
          1,
          1,
          1,
          1,
          1,
          1,
          1,
          1,
          1,
          1,
          1,
          1,
          1,
          1,
          1,
          1,
          1,
          1,
          1,
          1,
          1,
          1,
          1,
          1,
          1,
          1,
          1,
          1,
          1,
          1,
          1,
          1,
          1,
          1,
          1,
          1,
          1,
          1,
          1,
          1,
          1
         ],
         "y": [
          0.02,
          0.021,
          0.022,
          0.023,
          0.024,
          0.025,
          0.026,
          0.027,
          0.028,
          0.029,
          0.03,
          0.031,
          0.032,
          0.033,
          0.034,
          0.035,
          0.036,
          0.037,
          0.038,
          0.039,
          0.04,
          0.041,
          0.042,
          0.043,
          0.044,
          0.045,
          0.046,
          0.047,
          0.048,
          0.049,
          0.05,
          0.051,
          0.052,
          0.053,
          0.054,
          0.055,
          0.056,
          0.057,
          0.058,
          0.059,
          0.06,
          0.061,
          0.062,
          0.063,
          0.064,
          0.065,
          0.066,
          0.067,
          0.068,
          0.069,
          0.07,
          0.071,
          0.072,
          0.073,
          0.074,
          0.075,
          0.076,
          0.077,
          0.078,
          0.079,
          0.08,
          0.081,
          0.082,
          0.083,
          0.084,
          0.085,
          0.086,
          0.087,
          0.088,
          0.089,
          0.09,
          0.091,
          0.092,
          0.093,
          0.094,
          0.095,
          0.096,
          0.097,
          0.098,
          0.099,
          0.1,
          0.101,
          0.102,
          0.103,
          0.104,
          0.105,
          0.106,
          0.107,
          0.108,
          0.109,
          0.11,
          0.111,
          0.112,
          0.113,
          0.114,
          0.115,
          0.116,
          0.117,
          0.118,
          0.119
         ],
         "z": [
          26.49,
          26.53,
          26.46,
          26.01,
          25.78,
          25.76,
          25.34,
          25.57,
          25.68,
          25.63,
          25.52,
          25.58,
          25.42,
          25.2,
          25.33,
          24.76,
          24.84,
          25.01,
          24.88,
          24.91,
          24.82,
          24.8,
          24.96,
          25.16,
          25.11,
          25.13,
          25.39,
          25.4,
          25.58,
          25.7,
          25.58,
          25.82,
          25.72,
          25.63,
          25.42,
          25.48,
          25.47,
          25.41,
          25,
          24.78,
          24.72,
          24.38,
          24.49,
          24.6,
          24.72,
          24.44,
          24.52,
          24.5,
          24.29,
          24.49,
          24.49,
          24.13,
          24.4,
          24.54,
          25.07,
          24.84,
          25.07,
          24.8,
          24.41,
          24.29,
          24.48,
          24.01,
          23.97,
          24.41,
          24.59,
          24.73,
          24.82,
          24.99,
          25.12,
          25.49,
          25.18,
          25.06,
          25.21,
          25.53,
          25.46,
          25.27,
          25.54,
          25.62,
          25.78,
          25.32,
          25.11,
          25.13,
          25.32,
          25.66,
          25.8,
          25.9,
          25.72,
          26.02,
          25.77,
          25.9,
          25.91,
          26.06,
          26.01,
          26.41,
          26.58,
          26.8,
          26.64,
          26.61,
          26.37,
          26.08
         ]
        },
        {
         "hovertemplate": "T1=%{x}<br>T2=%{y}<br>EER=%{z}<extra></extra>",
         "legendgroup": "1.1",
         "line": {
          "color": "#636efa",
          "dash": "solid"
         },
         "marker": {
          "symbol": "circle"
         },
         "mode": "lines",
         "name": "1.1",
         "scene": "scene",
         "showlegend": true,
         "type": "scatter3d",
         "x": [
          1.1,
          1.1,
          1.1,
          1.1,
          1.1,
          1.1,
          1.1,
          1.1,
          1.1,
          1.1,
          1.1,
          1.1,
          1.1,
          1.1,
          1.1,
          1.1,
          1.1,
          1.1,
          1.1,
          1.1,
          1.1,
          1.1,
          1.1,
          1.1,
          1.1,
          1.1,
          1.1,
          1.1,
          1.1,
          1.1,
          1.1,
          1.1,
          1.1,
          1.1,
          1.1,
          1.1,
          1.1,
          1.1,
          1.1,
          1.1,
          1.1,
          1.1,
          1.1,
          1.1,
          1.1,
          1.1,
          1.1,
          1.1,
          1.1,
          1.1,
          1.1,
          1.1,
          1.1,
          1.1,
          1.1,
          1.1,
          1.1,
          1.1,
          1.1,
          1.1,
          1.1,
          1.1,
          1.1,
          1.1,
          1.1,
          1.1,
          1.1,
          1.1,
          1.1,
          1.1,
          1.1,
          1.1,
          1.1,
          1.1,
          1.1,
          1.1,
          1.1,
          1.1,
          1.1,
          1.1,
          1.1,
          1.1,
          1.1,
          1.1,
          1.1,
          1.1,
          1.1,
          1.1,
          1.1,
          1.1,
          1.1,
          1.1,
          1.1,
          1.1,
          1.1,
          1.1,
          1.1,
          1.1,
          1.1,
          1.1
         ],
         "y": [
          0.02,
          0.021,
          0.022,
          0.023,
          0.024,
          0.025,
          0.026,
          0.027,
          0.028,
          0.029,
          0.03,
          0.031,
          0.032,
          0.033,
          0.034,
          0.035,
          0.036,
          0.037,
          0.038,
          0.039,
          0.04,
          0.041,
          0.042,
          0.043,
          0.044,
          0.045,
          0.046,
          0.047,
          0.048,
          0.049,
          0.05,
          0.051,
          0.052,
          0.053,
          0.054,
          0.055,
          0.056,
          0.057,
          0.058,
          0.059,
          0.06,
          0.061,
          0.062,
          0.063,
          0.064,
          0.065,
          0.066,
          0.067,
          0.068,
          0.069,
          0.07,
          0.071,
          0.072,
          0.073,
          0.074,
          0.075,
          0.076,
          0.077,
          0.078,
          0.079,
          0.08,
          0.081,
          0.082,
          0.083,
          0.084,
          0.085,
          0.086,
          0.087,
          0.088,
          0.089,
          0.09,
          0.091,
          0.092,
          0.093,
          0.094,
          0.095,
          0.096,
          0.097,
          0.098,
          0.099,
          0.1,
          0.101,
          0.102,
          0.103,
          0.104,
          0.105,
          0.106,
          0.107,
          0.108,
          0.109,
          0.11,
          0.111,
          0.112,
          0.113,
          0.114,
          0.115,
          0.116,
          0.117,
          0.118,
          0.119
         ],
         "z": [
          26.51,
          26.57,
          26.53,
          26.09,
          25.89,
          25.8,
          25.46,
          25.68,
          25.58,
          25.5,
          25.43,
          25.51,
          25.49,
          25.49,
          25.49,
          25.08,
          25.28,
          25.42,
          25.36,
          25.32,
          25.03,
          25.08,
          25.32,
          25.46,
          25.69,
          25.64,
          25.96,
          25.86,
          25.94,
          26.19,
          26.07,
          25.76,
          25.5,
          25.2,
          25.29,
          25.5,
          25.44,
          25.48,
          24.92,
          24.78,
          24.69,
          24.33,
          24.59,
          24.8,
          24.8,
          24.87,
          24.9,
          24.97,
          25.24,
          25.43,
          25.5,
          24.98,
          25.06,
          24.56,
          24.84,
          24.99,
          24.74,
          24.98,
          25.06,
          25.18,
          24.96,
          25.09,
          25.12,
          25.43,
          25.5,
          25.37,
          25.47,
          25.4,
          25.61,
          25.62,
          25.66,
          25.7,
          25.72,
          25.98,
          25.83,
          25.92,
          25.9,
          25.81,
          25.71,
          25.49,
          25.08,
          25.43,
          25.5,
          25.87,
          25.9,
          26.02,
          25.89,
          26.11,
          26.03,
          26.12,
          25.92,
          25.83,
          25.67,
          26.03,
          26.38,
          26.66,
          26.69,
          26.79,
          26.59,
          26.66
         ]
        },
        {
         "hovertemplate": "T1=%{x}<br>T2=%{y}<br>EER=%{z}<extra></extra>",
         "legendgroup": "1.2",
         "line": {
          "color": "#EF553B",
          "dash": "solid"
         },
         "marker": {
          "symbol": "circle"
         },
         "mode": "lines",
         "name": "1.2",
         "scene": "scene",
         "showlegend": true,
         "type": "scatter3d",
         "x": [
          1.2,
          1.2,
          1.2,
          1.2,
          1.2,
          1.2,
          1.2,
          1.2,
          1.2,
          1.2,
          1.2,
          1.2,
          1.2,
          1.2,
          1.2,
          1.2,
          1.2,
          1.2,
          1.2,
          1.2,
          1.2,
          1.2,
          1.2,
          1.2,
          1.2,
          1.2,
          1.2,
          1.2,
          1.2,
          1.2,
          1.2,
          1.2,
          1.2,
          1.2,
          1.2,
          1.2,
          1.2,
          1.2,
          1.2,
          1.2,
          1.2,
          1.2,
          1.2,
          1.2,
          1.2,
          1.2,
          1.2,
          1.2,
          1.2,
          1.2,
          1.2,
          1.2,
          1.2,
          1.2,
          1.2,
          1.2,
          1.2,
          1.2,
          1.2,
          1.2,
          1.2,
          1.2,
          1.2,
          1.2,
          1.2,
          1.2,
          1.2,
          1.2,
          1.2,
          1.2,
          1.2,
          1.2,
          1.2,
          1.2,
          1.2,
          1.2,
          1.2,
          1.2,
          1.2,
          1.2,
          1.2,
          1.2,
          1.2,
          1.2,
          1.2,
          1.2,
          1.2,
          1.2,
          1.2,
          1.2,
          1.2,
          1.2,
          1.2,
          1.2,
          1.2,
          1.2,
          1.2,
          1.2,
          1.2,
          1.2
         ],
         "y": [
          0.02,
          0.021,
          0.022,
          0.023,
          0.024,
          0.025,
          0.026,
          0.027,
          0.028,
          0.029,
          0.03,
          0.031,
          0.032,
          0.033,
          0.034,
          0.035,
          0.036,
          0.037,
          0.038,
          0.039,
          0.04,
          0.041,
          0.042,
          0.043,
          0.044,
          0.045,
          0.046,
          0.047,
          0.048,
          0.049,
          0.05,
          0.051,
          0.052,
          0.053,
          0.054,
          0.055,
          0.056,
          0.057,
          0.058,
          0.059,
          0.06,
          0.061,
          0.062,
          0.063,
          0.064,
          0.065,
          0.066,
          0.067,
          0.068,
          0.069,
          0.07,
          0.071,
          0.072,
          0.073,
          0.074,
          0.075,
          0.076,
          0.077,
          0.078,
          0.079,
          0.08,
          0.081,
          0.082,
          0.083,
          0.084,
          0.085,
          0.086,
          0.087,
          0.088,
          0.089,
          0.09,
          0.091,
          0.092,
          0.093,
          0.094,
          0.095,
          0.096,
          0.097,
          0.098,
          0.099,
          0.1,
          0.101,
          0.102,
          0.103,
          0.104,
          0.105,
          0.106,
          0.107,
          0.108,
          0.109,
          0.11,
          0.111,
          0.112,
          0.113,
          0.114,
          0.115,
          0.116,
          0.117,
          0.118,
          0.119
         ],
         "z": [
          26.84,
          26.89,
          26.84,
          26.44,
          26.23,
          26.13,
          25.94,
          26.1,
          25.97,
          25.96,
          25.9,
          25.97,
          25.96,
          26,
          25.91,
          25.49,
          25.8,
          25.72,
          25.69,
          25.96,
          25.72,
          25.82,
          25.82,
          25.94,
          26.19,
          26.18,
          26.26,
          26.12,
          26.19,
          26.21,
          25.79,
          25.43,
          25.07,
          24.89,
          25.01,
          25.24,
          25.32,
          25.21,
          24.86,
          24.8,
          24.69,
          24.31,
          24.68,
          24.81,
          25.16,
          25.18,
          25.57,
          25.82,
          25.92,
          26.19,
          25.81,
          25.33,
          24.92,
          24.29,
          24.7,
          25.03,
          25.1,
          25.44,
          25.26,
          25.3,
          25.62,
          25.81,
          25.71,
          25.79,
          25.54,
          25.81,
          25.69,
          25.66,
          25.78,
          25.54,
          25.54,
          25.73,
          25.63,
          26.06,
          26.28,
          26.06,
          26.23,
          26.26,
          26.09,
          25.98,
          25.89,
          26.12,
          26.16,
          26.32,
          26.44,
          26.42,
          26.38,
          26.6,
          26.66,
          26.71,
          26.5,
          26.64,
          26.76,
          26.74,
          27.13,
          27.17,
          27.19,
          27.1,
          27.23,
          27.63
         ]
        },
        {
         "hovertemplate": "T1=%{x}<br>T2=%{y}<br>EER=%{z}<extra></extra>",
         "legendgroup": "1.3",
         "line": {
          "color": "#00cc96",
          "dash": "solid"
         },
         "marker": {
          "symbol": "circle"
         },
         "mode": "lines",
         "name": "1.3",
         "scene": "scene",
         "showlegend": true,
         "type": "scatter3d",
         "x": [
          1.3,
          1.3,
          1.3,
          1.3,
          1.3,
          1.3,
          1.3,
          1.3,
          1.3,
          1.3,
          1.3,
          1.3,
          1.3,
          1.3,
          1.3,
          1.3,
          1.3,
          1.3,
          1.3,
          1.3,
          1.3,
          1.3,
          1.3,
          1.3,
          1.3,
          1.3,
          1.3,
          1.3,
          1.3,
          1.3,
          1.3,
          1.3,
          1.3,
          1.3,
          1.3,
          1.3,
          1.3,
          1.3,
          1.3,
          1.3,
          1.3,
          1.3,
          1.3,
          1.3,
          1.3,
          1.3,
          1.3,
          1.3,
          1.3,
          1.3,
          1.3,
          1.3,
          1.3,
          1.3,
          1.3,
          1.3,
          1.3,
          1.3,
          1.3,
          1.3,
          1.3,
          1.3,
          1.3,
          1.3,
          1.3,
          1.3,
          1.3,
          1.3,
          1.3,
          1.3,
          1.3,
          1.3,
          1.3,
          1.3,
          1.3,
          1.3,
          1.3,
          1.3,
          1.3,
          1.3,
          1.3,
          1.3,
          1.3,
          1.3,
          1.3,
          1.3,
          1.3,
          1.3,
          1.3,
          1.3,
          1.3,
          1.3,
          1.3,
          1.3,
          1.3,
          1.3,
          1.3,
          1.3,
          1.3,
          1.3
         ],
         "y": [
          0.02,
          0.021,
          0.022,
          0.023,
          0.024,
          0.025,
          0.026,
          0.027,
          0.028,
          0.029,
          0.03,
          0.031,
          0.032,
          0.033,
          0.034,
          0.035,
          0.036,
          0.037,
          0.038,
          0.039,
          0.04,
          0.041,
          0.042,
          0.043,
          0.044,
          0.045,
          0.046,
          0.047,
          0.048,
          0.049,
          0.05,
          0.051,
          0.052,
          0.053,
          0.054,
          0.055,
          0.056,
          0.057,
          0.058,
          0.059,
          0.06,
          0.061,
          0.062,
          0.063,
          0.064,
          0.065,
          0.066,
          0.067,
          0.068,
          0.069,
          0.07,
          0.071,
          0.072,
          0.073,
          0.074,
          0.075,
          0.076,
          0.077,
          0.078,
          0.079,
          0.08,
          0.081,
          0.082,
          0.083,
          0.084,
          0.085,
          0.086,
          0.087,
          0.088,
          0.089,
          0.09,
          0.091,
          0.092,
          0.093,
          0.094,
          0.095,
          0.096,
          0.097,
          0.098,
          0.099,
          0.1,
          0.101,
          0.102,
          0.103,
          0.104,
          0.105,
          0.106,
          0.107,
          0.108,
          0.109,
          0.11,
          0.111,
          0.112,
          0.113,
          0.114,
          0.115,
          0.116,
          0.117,
          0.118,
          0.119
         ],
         "z": [
          27.07,
          27.1,
          27.1,
          26.63,
          26.39,
          26.33,
          26.21,
          26.28,
          26.04,
          26.24,
          26.33,
          26.53,
          26.57,
          26.66,
          26.49,
          25.9,
          26.22,
          26.18,
          26.14,
          25.96,
          25.78,
          25.8,
          25.88,
          26.03,
          26.23,
          26.2,
          26.22,
          26.11,
          26.09,
          26.33,
          25.94,
          25.81,
          25.38,
          25.2,
          25.19,
          25.27,
          25.43,
          25.49,
          24.94,
          24.88,
          25.11,
          25.04,
          25.41,
          25.7,
          26.09,
          26.04,
          26.33,
          26.7,
          26.8,
          26.86,
          26.48,
          25.79,
          25.48,
          24.79,
          25.27,
          25.42,
          25.29,
          25.77,
          25.39,
          25.53,
          25.73,
          25.79,
          25.88,
          25.86,
          25.93,
          25.81,
          25.77,
          25.63,
          25.96,
          25.87,
          25.88,
          26.03,
          26.38,
          26.47,
          26.7,
          26.7,
          26.72,
          26.97,
          26.6,
          26.58,
          26.47,
          26.66,
          26.68,
          26.74,
          26.96,
          27.13,
          27.11,
          27.29,
          27.19,
          27,
          26.88,
          26.98,
          27.19,
          27.19,
          27.29,
          27.28,
          27.24,
          27.42,
          27.4,
          27.53
         ]
        }
       ],
       "layout": {
        "legend": {
         "title": {
          "text": "T1"
         },
         "tracegroupgap": 0
        },
        "margin": {
         "t": 60
        },
        "scene": {
         "domain": {
          "x": [
           0,
           1
          ],
          "y": [
           0,
           1
          ]
         },
         "xaxis": {
          "categoryarray": [
           0.1,
           0.2,
           0.3,
           0.4,
           0.5,
           0.6,
           0.7,
           0.8,
           0.9,
           1,
           1.1,
           1.2,
           1.3
          ],
          "categoryorder": "array",
          "title": {
           "text": "T1"
          }
         },
         "yaxis": {
          "title": {
           "text": "T2"
          }
         },
         "zaxis": {
          "title": {
           "text": "EER"
          }
         }
        },
        "template": {
         "data": {
          "bar": [
           {
            "error_x": {
             "color": "#2a3f5f"
            },
            "error_y": {
             "color": "#2a3f5f"
            },
            "marker": {
             "line": {
              "color": "#E5ECF6",
              "width": 0.5
             },
             "pattern": {
              "fillmode": "overlay",
              "size": 10,
              "solidity": 0.2
             }
            },
            "type": "bar"
           }
          ],
          "barpolar": [
           {
            "marker": {
             "line": {
              "color": "#E5ECF6",
              "width": 0.5
             },
             "pattern": {
              "fillmode": "overlay",
              "size": 10,
              "solidity": 0.2
             }
            },
            "type": "barpolar"
           }
          ],
          "carpet": [
           {
            "aaxis": {
             "endlinecolor": "#2a3f5f",
             "gridcolor": "white",
             "linecolor": "white",
             "minorgridcolor": "white",
             "startlinecolor": "#2a3f5f"
            },
            "baxis": {
             "endlinecolor": "#2a3f5f",
             "gridcolor": "white",
             "linecolor": "white",
             "minorgridcolor": "white",
             "startlinecolor": "#2a3f5f"
            },
            "type": "carpet"
           }
          ],
          "choropleth": [
           {
            "colorbar": {
             "outlinewidth": 0,
             "ticks": ""
            },
            "type": "choropleth"
           }
          ],
          "contour": [
           {
            "colorbar": {
             "outlinewidth": 0,
             "ticks": ""
            },
            "colorscale": [
             [
              0,
              "#0d0887"
             ],
             [
              0.1111111111111111,
              "#46039f"
             ],
             [
              0.2222222222222222,
              "#7201a8"
             ],
             [
              0.3333333333333333,
              "#9c179e"
             ],
             [
              0.4444444444444444,
              "#bd3786"
             ],
             [
              0.5555555555555556,
              "#d8576b"
             ],
             [
              0.6666666666666666,
              "#ed7953"
             ],
             [
              0.7777777777777778,
              "#fb9f3a"
             ],
             [
              0.8888888888888888,
              "#fdca26"
             ],
             [
              1,
              "#f0f921"
             ]
            ],
            "type": "contour"
           }
          ],
          "contourcarpet": [
           {
            "colorbar": {
             "outlinewidth": 0,
             "ticks": ""
            },
            "type": "contourcarpet"
           }
          ],
          "heatmap": [
           {
            "colorbar": {
             "outlinewidth": 0,
             "ticks": ""
            },
            "colorscale": [
             [
              0,
              "#0d0887"
             ],
             [
              0.1111111111111111,
              "#46039f"
             ],
             [
              0.2222222222222222,
              "#7201a8"
             ],
             [
              0.3333333333333333,
              "#9c179e"
             ],
             [
              0.4444444444444444,
              "#bd3786"
             ],
             [
              0.5555555555555556,
              "#d8576b"
             ],
             [
              0.6666666666666666,
              "#ed7953"
             ],
             [
              0.7777777777777778,
              "#fb9f3a"
             ],
             [
              0.8888888888888888,
              "#fdca26"
             ],
             [
              1,
              "#f0f921"
             ]
            ],
            "type": "heatmap"
           }
          ],
          "heatmapgl": [
           {
            "colorbar": {
             "outlinewidth": 0,
             "ticks": ""
            },
            "colorscale": [
             [
              0,
              "#0d0887"
             ],
             [
              0.1111111111111111,
              "#46039f"
             ],
             [
              0.2222222222222222,
              "#7201a8"
             ],
             [
              0.3333333333333333,
              "#9c179e"
             ],
             [
              0.4444444444444444,
              "#bd3786"
             ],
             [
              0.5555555555555556,
              "#d8576b"
             ],
             [
              0.6666666666666666,
              "#ed7953"
             ],
             [
              0.7777777777777778,
              "#fb9f3a"
             ],
             [
              0.8888888888888888,
              "#fdca26"
             ],
             [
              1,
              "#f0f921"
             ]
            ],
            "type": "heatmapgl"
           }
          ],
          "histogram": [
           {
            "marker": {
             "pattern": {
              "fillmode": "overlay",
              "size": 10,
              "solidity": 0.2
             }
            },
            "type": "histogram"
           }
          ],
          "histogram2d": [
           {
            "colorbar": {
             "outlinewidth": 0,
             "ticks": ""
            },
            "colorscale": [
             [
              0,
              "#0d0887"
             ],
             [
              0.1111111111111111,
              "#46039f"
             ],
             [
              0.2222222222222222,
              "#7201a8"
             ],
             [
              0.3333333333333333,
              "#9c179e"
             ],
             [
              0.4444444444444444,
              "#bd3786"
             ],
             [
              0.5555555555555556,
              "#d8576b"
             ],
             [
              0.6666666666666666,
              "#ed7953"
             ],
             [
              0.7777777777777778,
              "#fb9f3a"
             ],
             [
              0.8888888888888888,
              "#fdca26"
             ],
             [
              1,
              "#f0f921"
             ]
            ],
            "type": "histogram2d"
           }
          ],
          "histogram2dcontour": [
           {
            "colorbar": {
             "outlinewidth": 0,
             "ticks": ""
            },
            "colorscale": [
             [
              0,
              "#0d0887"
             ],
             [
              0.1111111111111111,
              "#46039f"
             ],
             [
              0.2222222222222222,
              "#7201a8"
             ],
             [
              0.3333333333333333,
              "#9c179e"
             ],
             [
              0.4444444444444444,
              "#bd3786"
             ],
             [
              0.5555555555555556,
              "#d8576b"
             ],
             [
              0.6666666666666666,
              "#ed7953"
             ],
             [
              0.7777777777777778,
              "#fb9f3a"
             ],
             [
              0.8888888888888888,
              "#fdca26"
             ],
             [
              1,
              "#f0f921"
             ]
            ],
            "type": "histogram2dcontour"
           }
          ],
          "mesh3d": [
           {
            "colorbar": {
             "outlinewidth": 0,
             "ticks": ""
            },
            "type": "mesh3d"
           }
          ],
          "parcoords": [
           {
            "line": {
             "colorbar": {
              "outlinewidth": 0,
              "ticks": ""
             }
            },
            "type": "parcoords"
           }
          ],
          "pie": [
           {
            "automargin": true,
            "type": "pie"
           }
          ],
          "scatter": [
           {
            "fillpattern": {
             "fillmode": "overlay",
             "size": 10,
             "solidity": 0.2
            },
            "type": "scatter"
           }
          ],
          "scatter3d": [
           {
            "line": {
             "colorbar": {
              "outlinewidth": 0,
              "ticks": ""
             }
            },
            "marker": {
             "colorbar": {
              "outlinewidth": 0,
              "ticks": ""
             }
            },
            "type": "scatter3d"
           }
          ],
          "scattercarpet": [
           {
            "marker": {
             "colorbar": {
              "outlinewidth": 0,
              "ticks": ""
             }
            },
            "type": "scattercarpet"
           }
          ],
          "scattergeo": [
           {
            "marker": {
             "colorbar": {
              "outlinewidth": 0,
              "ticks": ""
             }
            },
            "type": "scattergeo"
           }
          ],
          "scattergl": [
           {
            "marker": {
             "colorbar": {
              "outlinewidth": 0,
              "ticks": ""
             }
            },
            "type": "scattergl"
           }
          ],
          "scattermapbox": [
           {
            "marker": {
             "colorbar": {
              "outlinewidth": 0,
              "ticks": ""
             }
            },
            "type": "scattermapbox"
           }
          ],
          "scatterpolar": [
           {
            "marker": {
             "colorbar": {
              "outlinewidth": 0,
              "ticks": ""
             }
            },
            "type": "scatterpolar"
           }
          ],
          "scatterpolargl": [
           {
            "marker": {
             "colorbar": {
              "outlinewidth": 0,
              "ticks": ""
             }
            },
            "type": "scatterpolargl"
           }
          ],
          "scatterternary": [
           {
            "marker": {
             "colorbar": {
              "outlinewidth": 0,
              "ticks": ""
             }
            },
            "type": "scatterternary"
           }
          ],
          "surface": [
           {
            "colorbar": {
             "outlinewidth": 0,
             "ticks": ""
            },
            "colorscale": [
             [
              0,
              "#0d0887"
             ],
             [
              0.1111111111111111,
              "#46039f"
             ],
             [
              0.2222222222222222,
              "#7201a8"
             ],
             [
              0.3333333333333333,
              "#9c179e"
             ],
             [
              0.4444444444444444,
              "#bd3786"
             ],
             [
              0.5555555555555556,
              "#d8576b"
             ],
             [
              0.6666666666666666,
              "#ed7953"
             ],
             [
              0.7777777777777778,
              "#fb9f3a"
             ],
             [
              0.8888888888888888,
              "#fdca26"
             ],
             [
              1,
              "#f0f921"
             ]
            ],
            "type": "surface"
           }
          ],
          "table": [
           {
            "cells": {
             "fill": {
              "color": "#EBF0F8"
             },
             "line": {
              "color": "white"
             }
            },
            "header": {
             "fill": {
              "color": "#C8D4E3"
             },
             "line": {
              "color": "white"
             }
            },
            "type": "table"
           }
          ]
         },
         "layout": {
          "annotationdefaults": {
           "arrowcolor": "#2a3f5f",
           "arrowhead": 0,
           "arrowwidth": 1
          },
          "autotypenumbers": "strict",
          "coloraxis": {
           "colorbar": {
            "outlinewidth": 0,
            "ticks": ""
           }
          },
          "colorscale": {
           "diverging": [
            [
             0,
             "#8e0152"
            ],
            [
             0.1,
             "#c51b7d"
            ],
            [
             0.2,
             "#de77ae"
            ],
            [
             0.3,
             "#f1b6da"
            ],
            [
             0.4,
             "#fde0ef"
            ],
            [
             0.5,
             "#f7f7f7"
            ],
            [
             0.6,
             "#e6f5d0"
            ],
            [
             0.7,
             "#b8e186"
            ],
            [
             0.8,
             "#7fbc41"
            ],
            [
             0.9,
             "#4d9221"
            ],
            [
             1,
             "#276419"
            ]
           ],
           "sequential": [
            [
             0,
             "#0d0887"
            ],
            [
             0.1111111111111111,
             "#46039f"
            ],
            [
             0.2222222222222222,
             "#7201a8"
            ],
            [
             0.3333333333333333,
             "#9c179e"
            ],
            [
             0.4444444444444444,
             "#bd3786"
            ],
            [
             0.5555555555555556,
             "#d8576b"
            ],
            [
             0.6666666666666666,
             "#ed7953"
            ],
            [
             0.7777777777777778,
             "#fb9f3a"
            ],
            [
             0.8888888888888888,
             "#fdca26"
            ],
            [
             1,
             "#f0f921"
            ]
           ],
           "sequentialminus": [
            [
             0,
             "#0d0887"
            ],
            [
             0.1111111111111111,
             "#46039f"
            ],
            [
             0.2222222222222222,
             "#7201a8"
            ],
            [
             0.3333333333333333,
             "#9c179e"
            ],
            [
             0.4444444444444444,
             "#bd3786"
            ],
            [
             0.5555555555555556,
             "#d8576b"
            ],
            [
             0.6666666666666666,
             "#ed7953"
            ],
            [
             0.7777777777777778,
             "#fb9f3a"
            ],
            [
             0.8888888888888888,
             "#fdca26"
            ],
            [
             1,
             "#f0f921"
            ]
           ]
          },
          "colorway": [
           "#636efa",
           "#EF553B",
           "#00cc96",
           "#ab63fa",
           "#FFA15A",
           "#19d3f3",
           "#FF6692",
           "#B6E880",
           "#FF97FF",
           "#FECB52"
          ],
          "font": {
           "color": "#2a3f5f"
          },
          "geo": {
           "bgcolor": "white",
           "lakecolor": "white",
           "landcolor": "#E5ECF6",
           "showlakes": true,
           "showland": true,
           "subunitcolor": "white"
          },
          "hoverlabel": {
           "align": "left"
          },
          "hovermode": "closest",
          "mapbox": {
           "style": "light"
          },
          "paper_bgcolor": "white",
          "plot_bgcolor": "#E5ECF6",
          "polar": {
           "angularaxis": {
            "gridcolor": "white",
            "linecolor": "white",
            "ticks": ""
           },
           "bgcolor": "#E5ECF6",
           "radialaxis": {
            "gridcolor": "white",
            "linecolor": "white",
            "ticks": ""
           }
          },
          "scene": {
           "xaxis": {
            "backgroundcolor": "#E5ECF6",
            "gridcolor": "white",
            "gridwidth": 2,
            "linecolor": "white",
            "showbackground": true,
            "ticks": "",
            "zerolinecolor": "white"
           },
           "yaxis": {
            "backgroundcolor": "#E5ECF6",
            "gridcolor": "white",
            "gridwidth": 2,
            "linecolor": "white",
            "showbackground": true,
            "ticks": "",
            "zerolinecolor": "white"
           },
           "zaxis": {
            "backgroundcolor": "#E5ECF6",
            "gridcolor": "white",
            "gridwidth": 2,
            "linecolor": "white",
            "showbackground": true,
            "ticks": "",
            "zerolinecolor": "white"
           }
          },
          "shapedefaults": {
           "line": {
            "color": "#2a3f5f"
           }
          },
          "ternary": {
           "aaxis": {
            "gridcolor": "white",
            "linecolor": "white",
            "ticks": ""
           },
           "baxis": {
            "gridcolor": "white",
            "linecolor": "white",
            "ticks": ""
           },
           "bgcolor": "#E5ECF6",
           "caxis": {
            "gridcolor": "white",
            "linecolor": "white",
            "ticks": ""
           }
          },
          "title": {
           "x": 0.05
          },
          "xaxis": {
           "automargin": true,
           "gridcolor": "white",
           "linecolor": "white",
           "ticks": "",
           "title": {
            "standoff": 15
           },
           "zerolinecolor": "white",
           "zerolinewidth": 2
          },
          "yaxis": {
           "automargin": true,
           "gridcolor": "white",
           "linecolor": "white",
           "ticks": "",
           "title": {
            "standoff": 15
           },
           "zerolinecolor": "white",
           "zerolinewidth": 2
          }
         }
        }
       }
      }
     },
     "metadata": {},
     "output_type": "display_data"
    },
    {
     "data": {
      "application/vnd.plotly.v1+json": {
       "config": {
        "plotlyServerURL": "https://plot.ly"
       },
       "data": [
        {
         "hovertemplate": "T2=%{y}<br>T1=%{x}<br>EER=%{z}<extra></extra>",
         "legendgroup": "0.02",
         "line": {
          "color": "#636efa",
          "dash": "solid"
         },
         "marker": {
          "symbol": "circle"
         },
         "mode": "lines",
         "name": "0.02",
         "scene": "scene",
         "showlegend": true,
         "type": "scatter3d",
         "x": [
          0.1,
          0.2,
          0.3,
          0.4,
          0.5,
          0.6,
          0.7,
          0.8,
          0.9,
          1,
          1.1,
          1.2,
          1.3
         ],
         "y": [
          0.02,
          0.02,
          0.02,
          0.02,
          0.02,
          0.02,
          0.02,
          0.02,
          0.02,
          0.02,
          0.02,
          0.02,
          0.02
         ],
         "z": [
          25.48,
          25.12,
          25.93,
          26.64,
          27.16,
          26.82,
          26.53,
          26.6,
          26.47,
          26.49,
          26.51,
          26.84,
          27.07
         ]
        },
        {
         "hovertemplate": "T2=%{y}<br>T1=%{x}<br>EER=%{z}<extra></extra>",
         "legendgroup": "0.021",
         "line": {
          "color": "#EF553B",
          "dash": "solid"
         },
         "marker": {
          "symbol": "circle"
         },
         "mode": "lines",
         "name": "0.021",
         "scene": "scene",
         "showlegend": true,
         "type": "scatter3d",
         "x": [
          0.1,
          0.2,
          0.3,
          0.4,
          0.5,
          0.6,
          0.7,
          0.8,
          0.9,
          1,
          1.1,
          1.2,
          1.3
         ],
         "y": [
          0.021,
          0.021,
          0.021,
          0.021,
          0.021,
          0.021,
          0.021,
          0.021,
          0.021,
          0.021,
          0.021,
          0.021,
          0.021
         ],
         "z": [
          25.57,
          25.24,
          25.97,
          26.71,
          27.34,
          26.91,
          26.56,
          26.59,
          26.49,
          26.53,
          26.57,
          26.89,
          27.1
         ]
        },
        {
         "hovertemplate": "T2=%{y}<br>T1=%{x}<br>EER=%{z}<extra></extra>",
         "legendgroup": "0.022",
         "line": {
          "color": "#00cc96",
          "dash": "solid"
         },
         "marker": {
          "symbol": "circle"
         },
         "mode": "lines",
         "name": "0.022",
         "scene": "scene",
         "showlegend": true,
         "type": "scatter3d",
         "x": [
          0.1,
          0.2,
          0.3,
          0.4,
          0.5,
          0.6,
          0.7,
          0.8,
          0.9,
          1,
          1.1,
          1.2,
          1.3
         ],
         "y": [
          0.022,
          0.022,
          0.022,
          0.022,
          0.022,
          0.022,
          0.022,
          0.022,
          0.022,
          0.022,
          0.022,
          0.022,
          0.022
         ],
         "z": [
          25.37,
          25.08,
          25.91,
          26.64,
          27.31,
          26.91,
          26.61,
          26.64,
          26.4,
          26.46,
          26.53,
          26.84,
          27.1
         ]
        },
        {
         "hovertemplate": "T2=%{y}<br>T1=%{x}<br>EER=%{z}<extra></extra>",
         "legendgroup": "0.023",
         "line": {
          "color": "#ab63fa",
          "dash": "solid"
         },
         "marker": {
          "symbol": "circle"
         },
         "mode": "lines",
         "name": "0.023",
         "scene": "scene",
         "showlegend": true,
         "type": "scatter3d",
         "x": [
          0.1,
          0.2,
          0.3,
          0.4,
          0.5,
          0.6,
          0.7,
          0.8,
          0.9,
          1,
          1.1,
          1.2,
          1.3
         ],
         "y": [
          0.023,
          0.023,
          0.023,
          0.023,
          0.023,
          0.023,
          0.023,
          0.023,
          0.023,
          0.023,
          0.023,
          0.023,
          0.023
         ],
         "z": [
          25.33,
          25.21,
          26.09,
          26.81,
          27.21,
          26.67,
          26.34,
          26.37,
          25.96,
          26.01,
          26.09,
          26.44,
          26.63
         ]
        },
        {
         "hovertemplate": "T2=%{y}<br>T1=%{x}<br>EER=%{z}<extra></extra>",
         "legendgroup": "0.024",
         "line": {
          "color": "#FFA15A",
          "dash": "solid"
         },
         "marker": {
          "symbol": "circle"
         },
         "mode": "lines",
         "name": "0.024",
         "scene": "scene",
         "showlegend": true,
         "type": "scatter3d",
         "x": [
          0.1,
          0.2,
          0.3,
          0.4,
          0.5,
          0.6,
          0.7,
          0.8,
          0.9,
          1,
          1.1,
          1.2,
          1.3
         ],
         "y": [
          0.024,
          0.024,
          0.024,
          0.024,
          0.024,
          0.024,
          0.024,
          0.024,
          0.024,
          0.024,
          0.024,
          0.024,
          0.024
         ],
         "z": [
          25.31,
          25.26,
          26.22,
          26.98,
          27.13,
          26.43,
          26.12,
          26.14,
          25.71,
          25.78,
          25.89,
          26.23,
          26.39
         ]
        },
        {
         "hovertemplate": "T2=%{y}<br>T1=%{x}<br>EER=%{z}<extra></extra>",
         "legendgroup": "0.025",
         "line": {
          "color": "#19d3f3",
          "dash": "solid"
         },
         "marker": {
          "symbol": "circle"
         },
         "mode": "lines",
         "name": "0.025",
         "scene": "scene",
         "showlegend": true,
         "type": "scatter3d",
         "x": [
          0.1,
          0.2,
          0.3,
          0.4,
          0.5,
          0.6,
          0.7,
          0.8,
          0.9,
          1,
          1.1,
          1.2,
          1.3
         ],
         "y": [
          0.025,
          0.025,
          0.025,
          0.025,
          0.025,
          0.025,
          0.025,
          0.025,
          0.025,
          0.025,
          0.025,
          0.025,
          0.025
         ],
         "z": [
          25.19,
          25.22,
          26.26,
          27.02,
          26.97,
          26.51,
          26.02,
          25.97,
          25.56,
          25.76,
          25.8,
          26.13,
          26.33
         ]
        },
        {
         "hovertemplate": "T2=%{y}<br>T1=%{x}<br>EER=%{z}<extra></extra>",
         "legendgroup": "0.026",
         "line": {
          "color": "#FF6692",
          "dash": "solid"
         },
         "marker": {
          "symbol": "circle"
         },
         "mode": "lines",
         "name": "0.026",
         "scene": "scene",
         "showlegend": true,
         "type": "scatter3d",
         "x": [
          0.1,
          0.2,
          0.3,
          0.4,
          0.5,
          0.6,
          0.7,
          0.8,
          0.9,
          1,
          1.1,
          1.2,
          1.3
         ],
         "y": [
          0.026,
          0.026,
          0.026,
          0.026,
          0.026,
          0.026,
          0.026,
          0.026,
          0.026,
          0.026,
          0.026,
          0.026,
          0.026
         ],
         "z": [
          25.18,
          25.31,
          26.37,
          26.76,
          26.67,
          26.3,
          25.58,
          25.51,
          25.11,
          25.34,
          25.46,
          25.94,
          26.21
         ]
        },
        {
         "hovertemplate": "T2=%{y}<br>T1=%{x}<br>EER=%{z}<extra></extra>",
         "legendgroup": "0.027",
         "line": {
          "color": "#B6E880",
          "dash": "solid"
         },
         "marker": {
          "symbol": "circle"
         },
         "mode": "lines",
         "name": "0.027",
         "scene": "scene",
         "showlegend": true,
         "type": "scatter3d",
         "x": [
          0.1,
          0.2,
          0.3,
          0.4,
          0.5,
          0.6,
          0.7,
          0.8,
          0.9,
          1,
          1.1,
          1.2,
          1.3
         ],
         "y": [
          0.027,
          0.027,
          0.027,
          0.027,
          0.027,
          0.027,
          0.027,
          0.027,
          0.027,
          0.027,
          0.027,
          0.027,
          0.027
         ],
         "z": [
          25.16,
          25.32,
          26.39,
          26.79,
          26.86,
          26.48,
          25.81,
          25.73,
          25.21,
          25.57,
          25.68,
          26.1,
          26.28
         ]
        },
        {
         "hovertemplate": "T2=%{y}<br>T1=%{x}<br>EER=%{z}<extra></extra>",
         "legendgroup": "0.028",
         "line": {
          "color": "#FF97FF",
          "dash": "solid"
         },
         "marker": {
          "symbol": "circle"
         },
         "mode": "lines",
         "name": "0.028",
         "scene": "scene",
         "showlegend": true,
         "type": "scatter3d",
         "x": [
          0.1,
          0.2,
          0.3,
          0.4,
          0.5,
          0.6,
          0.7,
          0.8,
          0.9,
          1,
          1.1,
          1.2,
          1.3
         ],
         "y": [
          0.028,
          0.028,
          0.028,
          0.028,
          0.028,
          0.028,
          0.028,
          0.028,
          0.028,
          0.028,
          0.028,
          0.028,
          0.028
         ],
         "z": [
          25.28,
          25.52,
          26.72,
          26.88,
          26.98,
          26.5,
          25.98,
          25.77,
          25.3,
          25.68,
          25.58,
          25.97,
          26.04
         ]
        },
        {
         "hovertemplate": "T2=%{y}<br>T1=%{x}<br>EER=%{z}<extra></extra>",
         "legendgroup": "0.029",
         "line": {
          "color": "#FECB52",
          "dash": "solid"
         },
         "marker": {
          "symbol": "circle"
         },
         "mode": "lines",
         "name": "0.029",
         "scene": "scene",
         "showlegend": true,
         "type": "scatter3d",
         "x": [
          0.1,
          0.2,
          0.3,
          0.4,
          0.5,
          0.6,
          0.7,
          0.8,
          0.9,
          1,
          1.1,
          1.2,
          1.3
         ],
         "y": [
          0.029,
          0.029,
          0.029,
          0.029,
          0.029,
          0.029,
          0.029,
          0.029,
          0.029,
          0.029,
          0.029,
          0.029,
          0.029
         ],
         "z": [
          25.29,
          25.73,
          27.04,
          26.94,
          27.04,
          26.31,
          25.92,
          25.76,
          25.3,
          25.63,
          25.5,
          25.96,
          26.24
         ]
        },
        {
         "hovertemplate": "T2=%{y}<br>T1=%{x}<br>EER=%{z}<extra></extra>",
         "legendgroup": "0.03",
         "line": {
          "color": "#636efa",
          "dash": "solid"
         },
         "marker": {
          "symbol": "circle"
         },
         "mode": "lines",
         "name": "0.03",
         "scene": "scene",
         "showlegend": true,
         "type": "scatter3d",
         "x": [
          0.1,
          0.2,
          0.3,
          0.4,
          0.5,
          0.6,
          0.7,
          0.8,
          0.9,
          1,
          1.1,
          1.2,
          1.3
         ],
         "y": [
          0.03,
          0.03,
          0.03,
          0.03,
          0.03,
          0.03,
          0.03,
          0.03,
          0.03,
          0.03,
          0.03,
          0.03,
          0.03
         ],
         "z": [
          25.24,
          25.5,
          27.02,
          26.56,
          26.46,
          26.21,
          25.72,
          25.42,
          25.22,
          25.52,
          25.43,
          25.9,
          26.33
         ]
        },
        {
         "hovertemplate": "T2=%{y}<br>T1=%{x}<br>EER=%{z}<extra></extra>",
         "legendgroup": "0.031",
         "line": {
          "color": "#EF553B",
          "dash": "solid"
         },
         "marker": {
          "symbol": "circle"
         },
         "mode": "lines",
         "name": "0.031",
         "scene": "scene",
         "showlegend": true,
         "type": "scatter3d",
         "x": [
          0.1,
          0.2,
          0.3,
          0.4,
          0.5,
          0.6,
          0.7,
          0.8,
          0.9,
          1,
          1.1,
          1.2,
          1.3
         ],
         "y": [
          0.031,
          0.031,
          0.031,
          0.031,
          0.031,
          0.031,
          0.031,
          0.031,
          0.031,
          0.031,
          0.031,
          0.031,
          0.031
         ],
         "z": [
          24.83,
          25.26,
          26.7,
          26.34,
          26.2,
          25.93,
          25.46,
          25.52,
          25.33,
          25.58,
          25.51,
          25.97,
          26.53
         ]
        },
        {
         "hovertemplate": "T2=%{y}<br>T1=%{x}<br>EER=%{z}<extra></extra>",
         "legendgroup": "0.032",
         "line": {
          "color": "#00cc96",
          "dash": "solid"
         },
         "marker": {
          "symbol": "circle"
         },
         "mode": "lines",
         "name": "0.032",
         "scene": "scene",
         "showlegend": true,
         "type": "scatter3d",
         "x": [
          0.1,
          0.2,
          0.3,
          0.4,
          0.5,
          0.6,
          0.7,
          0.8,
          0.9,
          1,
          1.1,
          1.2,
          1.3
         ],
         "y": [
          0.032,
          0.032,
          0.032,
          0.032,
          0.032,
          0.032,
          0.032,
          0.032,
          0.032,
          0.032,
          0.032,
          0.032,
          0.032
         ],
         "z": [
          24.79,
          25.36,
          26.86,
          26.47,
          26.37,
          25.87,
          25.34,
          25.46,
          25.29,
          25.42,
          25.49,
          25.96,
          26.57
         ]
        },
        {
         "hovertemplate": "T2=%{y}<br>T1=%{x}<br>EER=%{z}<extra></extra>",
         "legendgroup": "0.033",
         "line": {
          "color": "#ab63fa",
          "dash": "solid"
         },
         "marker": {
          "symbol": "circle"
         },
         "mode": "lines",
         "name": "0.033",
         "scene": "scene",
         "showlegend": true,
         "type": "scatter3d",
         "x": [
          0.1,
          0.2,
          0.3,
          0.4,
          0.5,
          0.6,
          0.7,
          0.8,
          0.9,
          1,
          1.1,
          1.2,
          1.3
         ],
         "y": [
          0.033,
          0.033,
          0.033,
          0.033,
          0.033,
          0.033,
          0.033,
          0.033,
          0.033,
          0.033,
          0.033,
          0.033,
          0.033
         ],
         "z": [
          24.97,
          25.68,
          27.13,
          26.36,
          26.4,
          25.91,
          25.29,
          25.39,
          25.2,
          25.2,
          25.49,
          26,
          26.66
         ]
        },
        {
         "hovertemplate": "T2=%{y}<br>T1=%{x}<br>EER=%{z}<extra></extra>",
         "legendgroup": "0.034",
         "line": {
          "color": "#FFA15A",
          "dash": "solid"
         },
         "marker": {
          "symbol": "circle"
         },
         "mode": "lines",
         "name": "0.034",
         "scene": "scene",
         "showlegend": true,
         "type": "scatter3d",
         "x": [
          0.1,
          0.2,
          0.3,
          0.4,
          0.5,
          0.6,
          0.7,
          0.8,
          0.9,
          1,
          1.1,
          1.2,
          1.3
         ],
         "y": [
          0.034,
          0.034,
          0.034,
          0.034,
          0.034,
          0.034,
          0.034,
          0.034,
          0.034,
          0.034,
          0.034,
          0.034,
          0.034
         ],
         "z": [
          24.94,
          25.78,
          27.18,
          26.34,
          26.42,
          25.87,
          25.29,
          25.42,
          25.28,
          25.33,
          25.49,
          25.91,
          26.49
         ]
        },
        {
         "hovertemplate": "T2=%{y}<br>T1=%{x}<br>EER=%{z}<extra></extra>",
         "legendgroup": "0.035",
         "line": {
          "color": "#19d3f3",
          "dash": "solid"
         },
         "marker": {
          "symbol": "circle"
         },
         "mode": "lines",
         "name": "0.035",
         "scene": "scene",
         "showlegend": true,
         "type": "scatter3d",
         "x": [
          0.1,
          0.2,
          0.3,
          0.4,
          0.5,
          0.6,
          0.7,
          0.8,
          0.9,
          1,
          1.1,
          1.2,
          1.3
         ],
         "y": [
          0.035,
          0.035,
          0.035,
          0.035,
          0.035,
          0.035,
          0.035,
          0.035,
          0.035,
          0.035,
          0.035,
          0.035,
          0.035
         ],
         "z": [
          24.77,
          25.69,
          26.62,
          25.98,
          25.66,
          24.96,
          24.48,
          24.48,
          24.37,
          24.76,
          25.08,
          25.49,
          25.9
         ]
        },
        {
         "hovertemplate": "T2=%{y}<br>T1=%{x}<br>EER=%{z}<extra></extra>",
         "legendgroup": "0.036",
         "line": {
          "color": "#FF6692",
          "dash": "solid"
         },
         "marker": {
          "symbol": "circle"
         },
         "mode": "lines",
         "name": "0.036",
         "scene": "scene",
         "showlegend": true,
         "type": "scatter3d",
         "x": [
          0.1,
          0.2,
          0.3,
          0.4,
          0.5,
          0.6,
          0.7,
          0.8,
          0.9,
          1,
          1.1,
          1.2,
          1.3
         ],
         "y": [
          0.036,
          0.036,
          0.036,
          0.036,
          0.036,
          0.036,
          0.036,
          0.036,
          0.036,
          0.036,
          0.036,
          0.036,
          0.036
         ],
         "z": [
          24.91,
          25.7,
          26.69,
          26.12,
          25.62,
          25.09,
          24.6,
          24.47,
          24.33,
          24.84,
          25.28,
          25.8,
          26.22
         ]
        },
        {
         "hovertemplate": "T2=%{y}<br>T1=%{x}<br>EER=%{z}<extra></extra>",
         "legendgroup": "0.037",
         "line": {
          "color": "#B6E880",
          "dash": "solid"
         },
         "marker": {
          "symbol": "circle"
         },
         "mode": "lines",
         "name": "0.037",
         "scene": "scene",
         "showlegend": true,
         "type": "scatter3d",
         "x": [
          0.1,
          0.2,
          0.3,
          0.4,
          0.5,
          0.6,
          0.7,
          0.8,
          0.9,
          1,
          1.1,
          1.2,
          1.3
         ],
         "y": [
          0.037,
          0.037,
          0.037,
          0.037,
          0.037,
          0.037,
          0.037,
          0.037,
          0.037,
          0.037,
          0.037,
          0.037,
          0.037
         ],
         "z": [
          25.08,
          25.67,
          26.5,
          25.77,
          25.4,
          25.06,
          24.59,
          24.47,
          24.5,
          25.01,
          25.42,
          25.72,
          26.18
         ]
        },
        {
         "hovertemplate": "T2=%{y}<br>T1=%{x}<br>EER=%{z}<extra></extra>",
         "legendgroup": "0.038",
         "line": {
          "color": "#FF97FF",
          "dash": "solid"
         },
         "marker": {
          "symbol": "circle"
         },
         "mode": "lines",
         "name": "0.038",
         "scene": "scene",
         "showlegend": true,
         "type": "scatter3d",
         "x": [
          0.1,
          0.2,
          0.3,
          0.4,
          0.5,
          0.6,
          0.7,
          0.8,
          0.9,
          1,
          1.1,
          1.2,
          1.3
         ],
         "y": [
          0.038,
          0.038,
          0.038,
          0.038,
          0.038,
          0.038,
          0.038,
          0.038,
          0.038,
          0.038,
          0.038,
          0.038,
          0.038
         ],
         "z": [
          24.84,
          25.7,
          26.23,
          25.56,
          24.92,
          24.72,
          24.29,
          24.39,
          24.51,
          24.88,
          25.36,
          25.69,
          26.14
         ]
        },
        {
         "hovertemplate": "T2=%{y}<br>T1=%{x}<br>EER=%{z}<extra></extra>",
         "legendgroup": "0.039",
         "line": {
          "color": "#FECB52",
          "dash": "solid"
         },
         "marker": {
          "symbol": "circle"
         },
         "mode": "lines",
         "name": "0.039",
         "scene": "scene",
         "showlegend": true,
         "type": "scatter3d",
         "x": [
          0.1,
          0.2,
          0.3,
          0.4,
          0.5,
          0.6,
          0.7,
          0.8,
          0.9,
          1,
          1.1,
          1.2,
          1.3
         ],
         "y": [
          0.039,
          0.039,
          0.039,
          0.039,
          0.039,
          0.039,
          0.039,
          0.039,
          0.039,
          0.039,
          0.039,
          0.039,
          0.039
         ],
         "z": [
          24.76,
          25.78,
          26.11,
          25.53,
          24.82,
          24.66,
          24.26,
          24.42,
          24.66,
          24.91,
          25.32,
          25.96,
          25.96
         ]
        },
        {
         "hovertemplate": "T2=%{y}<br>T1=%{x}<br>EER=%{z}<extra></extra>",
         "legendgroup": "0.04",
         "line": {
          "color": "#636efa",
          "dash": "solid"
         },
         "marker": {
          "symbol": "circle"
         },
         "mode": "lines",
         "name": "0.04",
         "scene": "scene",
         "showlegend": true,
         "type": "scatter3d",
         "x": [
          0.1,
          0.2,
          0.3,
          0.4,
          0.5,
          0.6,
          0.7,
          0.8,
          0.9,
          1,
          1.1,
          1.2,
          1.3
         ],
         "y": [
          0.04,
          0.04,
          0.04,
          0.04,
          0.04,
          0.04,
          0.04,
          0.04,
          0.04,
          0.04,
          0.04,
          0.04,
          0.04
         ],
         "z": [
          24.73,
          25.91,
          26,
          25.32,
          24.69,
          24.7,
          24.26,
          24.14,
          24.51,
          24.82,
          25.03,
          25.72,
          25.78
         ]
        },
        {
         "hovertemplate": "T2=%{y}<br>T1=%{x}<br>EER=%{z}<extra></extra>",
         "legendgroup": "0.041",
         "line": {
          "color": "#EF553B",
          "dash": "solid"
         },
         "marker": {
          "symbol": "circle"
         },
         "mode": "lines",
         "name": "0.041",
         "scene": "scene",
         "showlegend": true,
         "type": "scatter3d",
         "x": [
          0.1,
          0.2,
          0.3,
          0.4,
          0.5,
          0.6,
          0.7,
          0.8,
          0.9,
          1,
          1.1,
          1.2,
          1.3
         ],
         "y": [
          0.041,
          0.041,
          0.041,
          0.041,
          0.041,
          0.041,
          0.041,
          0.041,
          0.041,
          0.041,
          0.041,
          0.041,
          0.041
         ],
         "z": [
          24.52,
          25.8,
          26.13,
          25.4,
          24.73,
          24.74,
          24.24,
          24.3,
          24.6,
          24.8,
          25.08,
          25.82,
          25.8
         ]
        },
        {
         "hovertemplate": "T2=%{y}<br>T1=%{x}<br>EER=%{z}<extra></extra>",
         "legendgroup": "0.042",
         "line": {
          "color": "#00cc96",
          "dash": "solid"
         },
         "marker": {
          "symbol": "circle"
         },
         "mode": "lines",
         "name": "0.042",
         "scene": "scene",
         "showlegend": true,
         "type": "scatter3d",
         "x": [
          0.1,
          0.2,
          0.3,
          0.4,
          0.5,
          0.6,
          0.7,
          0.8,
          0.9,
          1,
          1.1,
          1.2,
          1.3
         ],
         "y": [
          0.042,
          0.042,
          0.042,
          0.042,
          0.042,
          0.042,
          0.042,
          0.042,
          0.042,
          0.042,
          0.042,
          0.042,
          0.042
         ],
         "z": [
          24.52,
          25.96,
          25.74,
          25.13,
          24.62,
          24.54,
          24.21,
          24.41,
          24.78,
          24.96,
          25.32,
          25.82,
          25.88
         ]
        },
        {
         "hovertemplate": "T2=%{y}<br>T1=%{x}<br>EER=%{z}<extra></extra>",
         "legendgroup": "0.043",
         "line": {
          "color": "#ab63fa",
          "dash": "solid"
         },
         "marker": {
          "symbol": "circle"
         },
         "mode": "lines",
         "name": "0.043",
         "scene": "scene",
         "showlegend": true,
         "type": "scatter3d",
         "x": [
          0.1,
          0.2,
          0.3,
          0.4,
          0.5,
          0.6,
          0.7,
          0.8,
          0.9,
          1,
          1.1,
          1.2,
          1.3
         ],
         "y": [
          0.043,
          0.043,
          0.043,
          0.043,
          0.043,
          0.043,
          0.043,
          0.043,
          0.043,
          0.043,
          0.043,
          0.043,
          0.043
         ],
         "z": [
          24.6,
          26.01,
          25.86,
          25.11,
          24.6,
          24.62,
          24.39,
          24.64,
          24.91,
          25.16,
          25.46,
          25.94,
          26.03
         ]
        },
        {
         "hovertemplate": "T2=%{y}<br>T1=%{x}<br>EER=%{z}<extra></extra>",
         "legendgroup": "0.044",
         "line": {
          "color": "#FFA15A",
          "dash": "solid"
         },
         "marker": {
          "symbol": "circle"
         },
         "mode": "lines",
         "name": "0.044",
         "scene": "scene",
         "showlegend": true,
         "type": "scatter3d",
         "x": [
          0.1,
          0.2,
          0.3,
          0.4,
          0.5,
          0.6,
          0.7,
          0.8,
          0.9,
          1,
          1.1,
          1.2,
          1.3
         ],
         "y": [
          0.044,
          0.044,
          0.044,
          0.044,
          0.044,
          0.044,
          0.044,
          0.044,
          0.044,
          0.044,
          0.044,
          0.044,
          0.044
         ],
         "z": [
          24.79,
          26.04,
          25.87,
          25.31,
          24.71,
          24.66,
          24.53,
          24.72,
          24.77,
          25.11,
          25.69,
          26.19,
          26.23
         ]
        },
        {
         "hovertemplate": "T2=%{y}<br>T1=%{x}<br>EER=%{z}<extra></extra>",
         "legendgroup": "0.045",
         "line": {
          "color": "#19d3f3",
          "dash": "solid"
         },
         "marker": {
          "symbol": "circle"
         },
         "mode": "lines",
         "name": "0.045",
         "scene": "scene",
         "showlegend": true,
         "type": "scatter3d",
         "x": [
          0.1,
          0.2,
          0.3,
          0.4,
          0.5,
          0.6,
          0.7,
          0.8,
          0.9,
          1,
          1.1,
          1.2,
          1.3
         ],
         "y": [
          0.045,
          0.045,
          0.045,
          0.045,
          0.045,
          0.045,
          0.045,
          0.045,
          0.045,
          0.045,
          0.045,
          0.045,
          0.045
         ],
         "z": [
          25.03,
          26.01,
          25.83,
          24.93,
          24.26,
          24.33,
          24.41,
          24.78,
          24.69,
          25.13,
          25.64,
          26.18,
          26.2
         ]
        },
        {
         "hovertemplate": "T2=%{y}<br>T1=%{x}<br>EER=%{z}<extra></extra>",
         "legendgroup": "0.046",
         "line": {
          "color": "#FF6692",
          "dash": "solid"
         },
         "marker": {
          "symbol": "circle"
         },
         "mode": "lines",
         "name": "0.046",
         "scene": "scene",
         "showlegend": true,
         "type": "scatter3d",
         "x": [
          0.1,
          0.2,
          0.3,
          0.4,
          0.5,
          0.6,
          0.7,
          0.8,
          0.9,
          1,
          1.1,
          1.2,
          1.3
         ],
         "y": [
          0.046,
          0.046,
          0.046,
          0.046,
          0.046,
          0.046,
          0.046,
          0.046,
          0.046,
          0.046,
          0.046,
          0.046,
          0.046
         ],
         "z": [
          25.23,
          25.96,
          25.79,
          24.96,
          24.22,
          24.27,
          24.48,
          24.74,
          24.74,
          25.39,
          25.96,
          26.26,
          26.22
         ]
        },
        {
         "hovertemplate": "T2=%{y}<br>T1=%{x}<br>EER=%{z}<extra></extra>",
         "legendgroup": "0.047",
         "line": {
          "color": "#B6E880",
          "dash": "solid"
         },
         "marker": {
          "symbol": "circle"
         },
         "mode": "lines",
         "name": "0.047",
         "scene": "scene",
         "showlegend": true,
         "type": "scatter3d",
         "x": [
          0.1,
          0.2,
          0.3,
          0.4,
          0.5,
          0.6,
          0.7,
          0.8,
          0.9,
          1,
          1.1,
          1.2,
          1.3
         ],
         "y": [
          0.047,
          0.047,
          0.047,
          0.047,
          0.047,
          0.047,
          0.047,
          0.047,
          0.047,
          0.047,
          0.047,
          0.047,
          0.047
         ],
         "z": [
          25.24,
          25.76,
          25.54,
          24.8,
          24.31,
          24.39,
          24.69,
          24.98,
          25.1,
          25.4,
          25.86,
          26.12,
          26.11
         ]
        },
        {
         "hovertemplate": "T2=%{y}<br>T1=%{x}<br>EER=%{z}<extra></extra>",
         "legendgroup": "0.048",
         "line": {
          "color": "#FF97FF",
          "dash": "solid"
         },
         "marker": {
          "symbol": "circle"
         },
         "mode": "lines",
         "name": "0.048",
         "scene": "scene",
         "showlegend": true,
         "type": "scatter3d",
         "x": [
          0.1,
          0.2,
          0.3,
          0.4,
          0.5,
          0.6,
          0.7,
          0.8,
          0.9,
          1,
          1.1,
          1.2,
          1.3
         ],
         "y": [
          0.048,
          0.048,
          0.048,
          0.048,
          0.048,
          0.048,
          0.048,
          0.048,
          0.048,
          0.048,
          0.048,
          0.048,
          0.048
         ],
         "z": [
          25.39,
          25.67,
          25.66,
          24.78,
          24.31,
          24.71,
          24.93,
          25.08,
          25.13,
          25.58,
          25.94,
          26.19,
          26.09
         ]
        },
        {
         "hovertemplate": "T2=%{y}<br>T1=%{x}<br>EER=%{z}<extra></extra>",
         "legendgroup": "0.049",
         "line": {
          "color": "#FECB52",
          "dash": "solid"
         },
         "marker": {
          "symbol": "circle"
         },
         "mode": "lines",
         "name": "0.049",
         "scene": "scene",
         "showlegend": true,
         "type": "scatter3d",
         "x": [
          0.1,
          0.2,
          0.3,
          0.4,
          0.5,
          0.6,
          0.7,
          0.8,
          0.9,
          1,
          1.1,
          1.2,
          1.3
         ],
         "y": [
          0.049,
          0.049,
          0.049,
          0.049,
          0.049,
          0.049,
          0.049,
          0.049,
          0.049,
          0.049,
          0.049,
          0.049,
          0.049
         ],
         "z": [
          25.58,
          25.58,
          25.61,
          24.69,
          24.33,
          24.87,
          25.23,
          25.4,
          25.44,
          25.7,
          26.19,
          26.21,
          26.33
         ]
        },
        {
         "hovertemplate": "T2=%{y}<br>T1=%{x}<br>EER=%{z}<extra></extra>",
         "legendgroup": "0.05",
         "line": {
          "color": "#636efa",
          "dash": "solid"
         },
         "marker": {
          "symbol": "circle"
         },
         "mode": "lines",
         "name": "0.05",
         "scene": "scene",
         "showlegend": true,
         "type": "scatter3d",
         "x": [
          0.1,
          0.2,
          0.3,
          0.4,
          0.5,
          0.6,
          0.7,
          0.8,
          0.9,
          1,
          1.1,
          1.2,
          1.3
         ],
         "y": [
          0.05,
          0.05,
          0.05,
          0.05,
          0.05,
          0.05,
          0.05,
          0.05,
          0.05,
          0.05,
          0.05,
          0.05,
          0.05
         ],
         "z": [
          25.94,
          25.72,
          25.69,
          24.8,
          24.42,
          24.97,
          25.41,
          25.68,
          25.53,
          25.58,
          26.07,
          25.79,
          25.94
         ]
        },
        {
         "hovertemplate": "T2=%{y}<br>T1=%{x}<br>EER=%{z}<extra></extra>",
         "legendgroup": "0.051",
         "line": {
          "color": "#EF553B",
          "dash": "solid"
         },
         "marker": {
          "symbol": "circle"
         },
         "mode": "lines",
         "name": "0.051",
         "scene": "scene",
         "showlegend": true,
         "type": "scatter3d",
         "x": [
          0.1,
          0.2,
          0.3,
          0.4,
          0.5,
          0.6,
          0.7,
          0.8,
          0.9,
          1,
          1.1,
          1.2,
          1.3
         ],
         "y": [
          0.051,
          0.051,
          0.051,
          0.051,
          0.051,
          0.051,
          0.051,
          0.051,
          0.051,
          0.051,
          0.051,
          0.051,
          0.051
         ],
         "z": [
          25.79,
          25.52,
          25.21,
          24.61,
          24.43,
          25.18,
          25.53,
          25.61,
          25.7,
          25.82,
          25.76,
          25.43,
          25.81
         ]
        },
        {
         "hovertemplate": "T2=%{y}<br>T1=%{x}<br>EER=%{z}<extra></extra>",
         "legendgroup": "0.052",
         "line": {
          "color": "#00cc96",
          "dash": "solid"
         },
         "marker": {
          "symbol": "circle"
         },
         "mode": "lines",
         "name": "0.052",
         "scene": "scene",
         "showlegend": true,
         "type": "scatter3d",
         "x": [
          0.1,
          0.2,
          0.3,
          0.4,
          0.5,
          0.6,
          0.7,
          0.8,
          0.9,
          1,
          1.1,
          1.2,
          1.3
         ],
         "y": [
          0.052,
          0.052,
          0.052,
          0.052,
          0.052,
          0.052,
          0.052,
          0.052,
          0.052,
          0.052,
          0.052,
          0.052,
          0.052
         ],
         "z": [
          26.03,
          25.53,
          25.2,
          24.32,
          24.19,
          24.83,
          25.34,
          25.52,
          25.57,
          25.72,
          25.5,
          25.07,
          25.38
         ]
        },
        {
         "hovertemplate": "T2=%{y}<br>T1=%{x}<br>EER=%{z}<extra></extra>",
         "legendgroup": "0.053",
         "line": {
          "color": "#ab63fa",
          "dash": "solid"
         },
         "marker": {
          "symbol": "circle"
         },
         "mode": "lines",
         "name": "0.053",
         "scene": "scene",
         "showlegend": true,
         "type": "scatter3d",
         "x": [
          0.1,
          0.2,
          0.3,
          0.4,
          0.5,
          0.6,
          0.7,
          0.8,
          0.9,
          1,
          1.1,
          1.2,
          1.3
         ],
         "y": [
          0.053,
          0.053,
          0.053,
          0.053,
          0.053,
          0.053,
          0.053,
          0.053,
          0.053,
          0.053,
          0.053,
          0.053,
          0.053
         ],
         "z": [
          26.3,
          25.77,
          25.2,
          24.4,
          24.43,
          25,
          25.54,
          25.53,
          25.43,
          25.63,
          25.2,
          24.89,
          25.2
         ]
        },
        {
         "hovertemplate": "T2=%{y}<br>T1=%{x}<br>EER=%{z}<extra></extra>",
         "legendgroup": "0.054",
         "line": {
          "color": "#FFA15A",
          "dash": "solid"
         },
         "marker": {
          "symbol": "circle"
         },
         "mode": "lines",
         "name": "0.054",
         "scene": "scene",
         "showlegend": true,
         "type": "scatter3d",
         "x": [
          0.1,
          0.2,
          0.3,
          0.4,
          0.5,
          0.6,
          0.7,
          0.8,
          0.9,
          1,
          1.1,
          1.2,
          1.3
         ],
         "y": [
          0.054,
          0.054,
          0.054,
          0.054,
          0.054,
          0.054,
          0.054,
          0.054,
          0.054,
          0.054,
          0.054,
          0.054,
          0.054
         ],
         "z": [
          26.22,
          25.4,
          24.82,
          23.83,
          24.07,
          24.62,
          25.3,
          25.4,
          25.28,
          25.42,
          25.29,
          25.01,
          25.19
         ]
        },
        {
         "hovertemplate": "T2=%{y}<br>T1=%{x}<br>EER=%{z}<extra></extra>",
         "legendgroup": "0.055",
         "line": {
          "color": "#19d3f3",
          "dash": "solid"
         },
         "marker": {
          "symbol": "circle"
         },
         "mode": "lines",
         "name": "0.055",
         "scene": "scene",
         "showlegend": true,
         "type": "scatter3d",
         "x": [
          0.1,
          0.2,
          0.3,
          0.4,
          0.5,
          0.6,
          0.7,
          0.8,
          0.9,
          1,
          1.1,
          1.2,
          1.3
         ],
         "y": [
          0.055,
          0.055,
          0.055,
          0.055,
          0.055,
          0.055,
          0.055,
          0.055,
          0.055,
          0.055,
          0.055,
          0.055,
          0.055
         ],
         "z": [
          26.48,
          25.5,
          24.94,
          23.9,
          24.33,
          24.91,
          25.39,
          25.69,
          25.36,
          25.48,
          25.5,
          25.24,
          25.27
         ]
        },
        {
         "hovertemplate": "T2=%{y}<br>T1=%{x}<br>EER=%{z}<extra></extra>",
         "legendgroup": "0.056",
         "line": {
          "color": "#FF6692",
          "dash": "solid"
         },
         "marker": {
          "symbol": "circle"
         },
         "mode": "lines",
         "name": "0.056",
         "scene": "scene",
         "showlegend": true,
         "type": "scatter3d",
         "x": [
          0.1,
          0.2,
          0.3,
          0.4,
          0.5,
          0.6,
          0.7,
          0.8,
          0.9,
          1,
          1.1,
          1.2,
          1.3
         ],
         "y": [
          0.056,
          0.056,
          0.056,
          0.056,
          0.056,
          0.056,
          0.056,
          0.056,
          0.056,
          0.056,
          0.056,
          0.056,
          0.056
         ],
         "z": [
          26.43,
          25.52,
          25.24,
          24.07,
          24.59,
          24.92,
          25.36,
          25.6,
          25.18,
          25.47,
          25.44,
          25.32,
          25.43
         ]
        },
        {
         "hovertemplate": "T2=%{y}<br>T1=%{x}<br>EER=%{z}<extra></extra>",
         "legendgroup": "0.057",
         "line": {
          "color": "#B6E880",
          "dash": "solid"
         },
         "marker": {
          "symbol": "circle"
         },
         "mode": "lines",
         "name": "0.057",
         "scene": "scene",
         "showlegend": true,
         "type": "scatter3d",
         "x": [
          0.1,
          0.2,
          0.3,
          0.4,
          0.5,
          0.6,
          0.7,
          0.8,
          0.9,
          1,
          1.1,
          1.2,
          1.3
         ],
         "y": [
          0.057,
          0.057,
          0.057,
          0.057,
          0.057,
          0.057,
          0.057,
          0.057,
          0.057,
          0.057,
          0.057,
          0.057,
          0.057
         ],
         "z": [
          26.48,
          25.63,
          25.13,
          23.89,
          24.53,
          25.07,
          25.32,
          25.62,
          25.23,
          25.41,
          25.48,
          25.21,
          25.49
         ]
        },
        {
         "hovertemplate": "T2=%{y}<br>T1=%{x}<br>EER=%{z}<extra></extra>",
         "legendgroup": "0.058",
         "line": {
          "color": "#FF97FF",
          "dash": "solid"
         },
         "marker": {
          "symbol": "circle"
         },
         "mode": "lines",
         "name": "0.058",
         "scene": "scene",
         "showlegend": true,
         "type": "scatter3d",
         "x": [
          0.1,
          0.2,
          0.3,
          0.4,
          0.5,
          0.6,
          0.7,
          0.8,
          0.9,
          1,
          1.1,
          1.2,
          1.3
         ],
         "y": [
          0.058,
          0.058,
          0.058,
          0.058,
          0.058,
          0.058,
          0.058,
          0.058,
          0.058,
          0.058,
          0.058,
          0.058,
          0.058
         ],
         "z": [
          26.29,
          25.29,
          25.23,
          23.89,
          24.66,
          25.03,
          25.13,
          25.46,
          25.01,
          25,
          24.92,
          24.86,
          24.94
         ]
        },
        {
         "hovertemplate": "T2=%{y}<br>T1=%{x}<br>EER=%{z}<extra></extra>",
         "legendgroup": "0.059",
         "line": {
          "color": "#FECB52",
          "dash": "solid"
         },
         "marker": {
          "symbol": "circle"
         },
         "mode": "lines",
         "name": "0.059",
         "scene": "scene",
         "showlegend": true,
         "type": "scatter3d",
         "x": [
          0.1,
          0.2,
          0.3,
          0.4,
          0.5,
          0.6,
          0.7,
          0.8,
          0.9,
          1,
          1.1,
          1.2,
          1.3
         ],
         "y": [
          0.059,
          0.059,
          0.059,
          0.059,
          0.059,
          0.059,
          0.059,
          0.059,
          0.059,
          0.059,
          0.059,
          0.059,
          0.059
         ],
         "z": [
          26.39,
          25.4,
          25.41,
          24.02,
          24.72,
          25.01,
          25.14,
          25.31,
          24.81,
          24.78,
          24.78,
          24.8,
          24.88
         ]
        },
        {
         "hovertemplate": "T2=%{y}<br>T1=%{x}<br>EER=%{z}<extra></extra>",
         "legendgroup": "0.06",
         "line": {
          "color": "#636efa",
          "dash": "solid"
         },
         "marker": {
          "symbol": "circle"
         },
         "mode": "lines",
         "name": "0.06",
         "scene": "scene",
         "showlegend": true,
         "type": "scatter3d",
         "x": [
          0.1,
          0.2,
          0.3,
          0.4,
          0.5,
          0.6,
          0.7,
          0.8,
          0.9,
          1,
          1.1,
          1.2,
          1.3
         ],
         "y": [
          0.06,
          0.06,
          0.06,
          0.06,
          0.06,
          0.06,
          0.06,
          0.06,
          0.06,
          0.06,
          0.06,
          0.06,
          0.06
         ],
         "z": [
          26.18,
          25.33,
          25.27,
          24.21,
          25.07,
          24.64,
          25.22,
          25.17,
          24.86,
          24.72,
          24.69,
          24.69,
          25.11
         ]
        },
        {
         "hovertemplate": "T2=%{y}<br>T1=%{x}<br>EER=%{z}<extra></extra>",
         "legendgroup": "0.061",
         "line": {
          "color": "#EF553B",
          "dash": "solid"
         },
         "marker": {
          "symbol": "circle"
         },
         "mode": "lines",
         "name": "0.061",
         "scene": "scene",
         "showlegend": true,
         "type": "scatter3d",
         "x": [
          0.1,
          0.2,
          0.3,
          0.4,
          0.5,
          0.6,
          0.7,
          0.8,
          0.9,
          1,
          1.1,
          1.2,
          1.3
         ],
         "y": [
          0.061,
          0.061,
          0.061,
          0.061,
          0.061,
          0.061,
          0.061,
          0.061,
          0.061,
          0.061,
          0.061,
          0.061,
          0.061
         ],
         "z": [
          26.28,
          25.37,
          25.02,
          24.44,
          25.01,
          24.51,
          25.04,
          25.06,
          24.73,
          24.38,
          24.33,
          24.31,
          25.04
         ]
        },
        {
         "hovertemplate": "T2=%{y}<br>T1=%{x}<br>EER=%{z}<extra></extra>",
         "legendgroup": "0.062",
         "line": {
          "color": "#00cc96",
          "dash": "solid"
         },
         "marker": {
          "symbol": "circle"
         },
         "mode": "lines",
         "name": "0.062",
         "scene": "scene",
         "showlegend": true,
         "type": "scatter3d",
         "x": [
          0.1,
          0.2,
          0.3,
          0.4,
          0.5,
          0.6,
          0.7,
          0.8,
          0.9,
          1,
          1.1,
          1.2,
          1.3
         ],
         "y": [
          0.062,
          0.062,
          0.062,
          0.062,
          0.062,
          0.062,
          0.062,
          0.062,
          0.062,
          0.062,
          0.062,
          0.062,
          0.062
         ],
         "z": [
          26.13,
          25.14,
          24.9,
          24.27,
          24.48,
          24.5,
          24.91,
          25.1,
          24.76,
          24.49,
          24.59,
          24.68,
          25.41
         ]
        },
        {
         "hovertemplate": "T2=%{y}<br>T1=%{x}<br>EER=%{z}<extra></extra>",
         "legendgroup": "0.063",
         "line": {
          "color": "#ab63fa",
          "dash": "solid"
         },
         "marker": {
          "symbol": "circle"
         },
         "mode": "lines",
         "name": "0.063",
         "scene": "scene",
         "showlegend": true,
         "type": "scatter3d",
         "x": [
          0.1,
          0.2,
          0.3,
          0.4,
          0.5,
          0.6,
          0.7,
          0.8,
          0.9,
          1,
          1.1,
          1.2,
          1.3
         ],
         "y": [
          0.063,
          0.063,
          0.063,
          0.063,
          0.063,
          0.063,
          0.063,
          0.063,
          0.063,
          0.063,
          0.063,
          0.063,
          0.063
         ],
         "z": [
          26.11,
          25.1,
          25.1,
          24.18,
          24.56,
          24.53,
          25.04,
          25.04,
          24.62,
          24.6,
          24.8,
          24.81,
          25.7
         ]
        },
        {
         "hovertemplate": "T2=%{y}<br>T1=%{x}<br>EER=%{z}<extra></extra>",
         "legendgroup": "0.064",
         "line": {
          "color": "#FFA15A",
          "dash": "solid"
         },
         "marker": {
          "symbol": "circle"
         },
         "mode": "lines",
         "name": "0.064",
         "scene": "scene",
         "showlegend": true,
         "type": "scatter3d",
         "x": [
          0.1,
          0.2,
          0.3,
          0.4,
          0.5,
          0.6,
          0.7,
          0.8,
          0.9,
          1,
          1.1,
          1.2,
          1.3
         ],
         "y": [
          0.064,
          0.064,
          0.064,
          0.064,
          0.064,
          0.064,
          0.064,
          0.064,
          0.064,
          0.064,
          0.064,
          0.064,
          0.064
         ],
         "z": [
          26.16,
          25.14,
          25.1,
          24.1,
          24.41,
          24.39,
          25.09,
          25.2,
          24.79,
          24.72,
          24.8,
          25.16,
          26.09
         ]
        },
        {
         "hovertemplate": "T2=%{y}<br>T1=%{x}<br>EER=%{z}<extra></extra>",
         "legendgroup": "0.065",
         "line": {
          "color": "#19d3f3",
          "dash": "solid"
         },
         "marker": {
          "symbol": "circle"
         },
         "mode": "lines",
         "name": "0.065",
         "scene": "scene",
         "showlegend": true,
         "type": "scatter3d",
         "x": [
          0.1,
          0.2,
          0.3,
          0.4,
          0.5,
          0.6,
          0.7,
          0.8,
          0.9,
          1,
          1.1,
          1.2,
          1.3
         ],
         "y": [
          0.065,
          0.065,
          0.065,
          0.065,
          0.065,
          0.065,
          0.065,
          0.065,
          0.065,
          0.065,
          0.065,
          0.065,
          0.065
         ],
         "z": [
          26.02,
          25.07,
          25.09,
          23.97,
          24.49,
          24.58,
          24.93,
          25.29,
          24.8,
          24.44,
          24.87,
          25.18,
          26.04
         ]
        },
        {
         "hovertemplate": "T2=%{y}<br>T1=%{x}<br>EER=%{z}<extra></extra>",
         "legendgroup": "0.066",
         "line": {
          "color": "#FF6692",
          "dash": "solid"
         },
         "marker": {
          "symbol": "circle"
         },
         "mode": "lines",
         "name": "0.066",
         "scene": "scene",
         "showlegend": true,
         "type": "scatter3d",
         "x": [
          0.1,
          0.2,
          0.3,
          0.4,
          0.5,
          0.6,
          0.7,
          0.8,
          0.9,
          1,
          1.1,
          1.2,
          1.3
         ],
         "y": [
          0.066,
          0.066,
          0.066,
          0.066,
          0.066,
          0.066,
          0.066,
          0.066,
          0.066,
          0.066,
          0.066,
          0.066,
          0.066
         ],
         "z": [
          26.04,
          24.86,
          24.89,
          23.84,
          24.44,
          24.28,
          24.71,
          25.16,
          24.6,
          24.52,
          24.9,
          25.57,
          26.33
         ]
        },
        {
         "hovertemplate": "T2=%{y}<br>T1=%{x}<br>EER=%{z}<extra></extra>",
         "legendgroup": "0.067",
         "line": {
          "color": "#B6E880",
          "dash": "solid"
         },
         "marker": {
          "symbol": "circle"
         },
         "mode": "lines",
         "name": "0.067",
         "scene": "scene",
         "showlegend": true,
         "type": "scatter3d",
         "x": [
          0.1,
          0.2,
          0.3,
          0.4,
          0.5,
          0.6,
          0.7,
          0.8,
          0.9,
          1,
          1.1,
          1.2,
          1.3
         ],
         "y": [
          0.067,
          0.067,
          0.067,
          0.067,
          0.067,
          0.067,
          0.067,
          0.067,
          0.067,
          0.067,
          0.067,
          0.067,
          0.067
         ],
         "z": [
          26.01,
          25.03,
          25.24,
          24.18,
          24.54,
          24.6,
          24.9,
          25.14,
          24.77,
          24.5,
          24.97,
          25.82,
          26.7
         ]
        },
        {
         "hovertemplate": "T2=%{y}<br>T1=%{x}<br>EER=%{z}<extra></extra>",
         "legendgroup": "0.068",
         "line": {
          "color": "#FF97FF",
          "dash": "solid"
         },
         "marker": {
          "symbol": "circle"
         },
         "mode": "lines",
         "name": "0.068",
         "scene": "scene",
         "showlegend": true,
         "type": "scatter3d",
         "x": [
          0.1,
          0.2,
          0.3,
          0.4,
          0.5,
          0.6,
          0.7,
          0.8,
          0.9,
          1,
          1.1,
          1.2,
          1.3
         ],
         "y": [
          0.068,
          0.068,
          0.068,
          0.068,
          0.068,
          0.068,
          0.068,
          0.068,
          0.068,
          0.068,
          0.068,
          0.068,
          0.068
         ],
         "z": [
          26,
          24.86,
          24.83,
          24.08,
          24.3,
          24.57,
          24.79,
          25.1,
          24.68,
          24.29,
          25.24,
          25.92,
          26.8
         ]
        },
        {
         "hovertemplate": "T2=%{y}<br>T1=%{x}<br>EER=%{z}<extra></extra>",
         "legendgroup": "0.069",
         "line": {
          "color": "#FECB52",
          "dash": "solid"
         },
         "marker": {
          "symbol": "circle"
         },
         "mode": "lines",
         "name": "0.069",
         "scene": "scene",
         "showlegend": true,
         "type": "scatter3d",
         "x": [
          0.1,
          0.2,
          0.3,
          0.4,
          0.5,
          0.6,
          0.7,
          0.8,
          0.9,
          1,
          1.1,
          1.2,
          1.3
         ],
         "y": [
          0.069,
          0.069,
          0.069,
          0.069,
          0.069,
          0.069,
          0.069,
          0.069,
          0.069,
          0.069,
          0.069,
          0.069,
          0.069
         ],
         "z": [
          25.96,
          24.79,
          24.88,
          24.04,
          24.17,
          24.84,
          24.84,
          25.26,
          25.01,
          24.49,
          25.43,
          26.19,
          26.86
         ]
        },
        {
         "hovertemplate": "T2=%{y}<br>T1=%{x}<br>EER=%{z}<extra></extra>",
         "legendgroup": "0.07",
         "line": {
          "color": "#636efa",
          "dash": "solid"
         },
         "marker": {
          "symbol": "circle"
         },
         "mode": "lines",
         "name": "0.07",
         "scene": "scene",
         "showlegend": true,
         "type": "scatter3d",
         "x": [
          0.1,
          0.2,
          0.3,
          0.4,
          0.5,
          0.6,
          0.7,
          0.8,
          0.9,
          1,
          1.1,
          1.2,
          1.3
         ],
         "y": [
          0.07,
          0.07,
          0.07,
          0.07,
          0.07,
          0.07,
          0.07,
          0.07,
          0.07,
          0.07,
          0.07,
          0.07,
          0.07
         ],
         "z": [
          25.3,
          24.64,
          24.63,
          23.6,
          23.99,
          24.69,
          24.76,
          24.77,
          24.9,
          24.49,
          25.5,
          25.81,
          26.48
         ]
        },
        {
         "hovertemplate": "T2=%{y}<br>T1=%{x}<br>EER=%{z}<extra></extra>",
         "legendgroup": "0.071",
         "line": {
          "color": "#EF553B",
          "dash": "solid"
         },
         "marker": {
          "symbol": "circle"
         },
         "mode": "lines",
         "name": "0.071",
         "scene": "scene",
         "showlegend": true,
         "type": "scatter3d",
         "x": [
          0.1,
          0.2,
          0.3,
          0.4,
          0.5,
          0.6,
          0.7,
          0.8,
          0.9,
          1,
          1.1,
          1.2,
          1.3
         ],
         "y": [
          0.071,
          0.071,
          0.071,
          0.071,
          0.071,
          0.071,
          0.071,
          0.071,
          0.071,
          0.071,
          0.071,
          0.071,
          0.071
         ],
         "z": [
          25.28,
          24.46,
          24.59,
          23.44,
          23.74,
          24.36,
          24.47,
          24.41,
          24.67,
          24.13,
          24.98,
          25.33,
          25.79
         ]
        },
        {
         "hovertemplate": "T2=%{y}<br>T1=%{x}<br>EER=%{z}<extra></extra>",
         "legendgroup": "0.072",
         "line": {
          "color": "#00cc96",
          "dash": "solid"
         },
         "marker": {
          "symbol": "circle"
         },
         "mode": "lines",
         "name": "0.072",
         "scene": "scene",
         "showlegend": true,
         "type": "scatter3d",
         "x": [
          0.1,
          0.2,
          0.3,
          0.4,
          0.5,
          0.6,
          0.7,
          0.8,
          0.9,
          1,
          1.1,
          1.2,
          1.3
         ],
         "y": [
          0.072,
          0.072,
          0.072,
          0.072,
          0.072,
          0.072,
          0.072,
          0.072,
          0.072,
          0.072,
          0.072,
          0.072,
          0.072
         ],
         "z": [
          25.26,
          24.41,
          24.48,
          23.32,
          23.33,
          24.28,
          24.12,
          24.17,
          24.6,
          24.4,
          25.06,
          24.92,
          25.48
         ]
        },
        {
         "hovertemplate": "T2=%{y}<br>T1=%{x}<br>EER=%{z}<extra></extra>",
         "legendgroup": "0.073",
         "line": {
          "color": "#ab63fa",
          "dash": "solid"
         },
         "marker": {
          "symbol": "circle"
         },
         "mode": "lines",
         "name": "0.073",
         "scene": "scene",
         "showlegend": true,
         "type": "scatter3d",
         "x": [
          0.1,
          0.2,
          0.3,
          0.4,
          0.5,
          0.6,
          0.7,
          0.8,
          0.9,
          1,
          1.1,
          1.2,
          1.3
         ],
         "y": [
          0.073,
          0.073,
          0.073,
          0.073,
          0.073,
          0.073,
          0.073,
          0.073,
          0.073,
          0.073,
          0.073,
          0.073,
          0.073
         ],
         "z": [
          25.18,
          24.32,
          24.63,
          23.03,
          23.4,
          24.17,
          23.98,
          24.38,
          24.48,
          24.54,
          24.56,
          24.29,
          24.79
         ]
        },
        {
         "hovertemplate": "T2=%{y}<br>T1=%{x}<br>EER=%{z}<extra></extra>",
         "legendgroup": "0.074",
         "line": {
          "color": "#FFA15A",
          "dash": "solid"
         },
         "marker": {
          "symbol": "circle"
         },
         "mode": "lines",
         "name": "0.074",
         "scene": "scene",
         "showlegend": true,
         "type": "scatter3d",
         "x": [
          0.1,
          0.2,
          0.3,
          0.4,
          0.5,
          0.6,
          0.7,
          0.8,
          0.9,
          1,
          1.1,
          1.2,
          1.3
         ],
         "y": [
          0.074,
          0.074,
          0.074,
          0.074,
          0.074,
          0.074,
          0.074,
          0.074,
          0.074,
          0.074,
          0.074,
          0.074,
          0.074
         ],
         "z": [
          25.36,
          24.57,
          24.66,
          23.24,
          23.48,
          24.11,
          24.3,
          24.83,
          24.82,
          25.07,
          24.84,
          24.7,
          25.27
         ]
        },
        {
         "hovertemplate": "T2=%{y}<br>T1=%{x}<br>EER=%{z}<extra></extra>",
         "legendgroup": "0.075",
         "line": {
          "color": "#19d3f3",
          "dash": "solid"
         },
         "marker": {
          "symbol": "circle"
         },
         "mode": "lines",
         "name": "0.075",
         "scene": "scene",
         "showlegend": true,
         "type": "scatter3d",
         "x": [
          0.1,
          0.2,
          0.3,
          0.4,
          0.5,
          0.6,
          0.7,
          0.8,
          0.9,
          1,
          1.1,
          1.2,
          1.3
         ],
         "y": [
          0.075,
          0.075,
          0.075,
          0.075,
          0.075,
          0.075,
          0.075,
          0.075,
          0.075,
          0.075,
          0.075,
          0.075,
          0.075
         ],
         "z": [
          25.41,
          24.57,
          24.88,
          23.47,
          23.49,
          23.6,
          24.1,
          24.79,
          24.64,
          24.84,
          24.99,
          25.03,
          25.42
         ]
        },
        {
         "hovertemplate": "T2=%{y}<br>T1=%{x}<br>EER=%{z}<extra></extra>",
         "legendgroup": "0.076",
         "line": {
          "color": "#FF6692",
          "dash": "solid"
         },
         "marker": {
          "symbol": "circle"
         },
         "mode": "lines",
         "name": "0.076",
         "scene": "scene",
         "showlegend": true,
         "type": "scatter3d",
         "x": [
          0.1,
          0.2,
          0.3,
          0.4,
          0.5,
          0.6,
          0.7,
          0.8,
          0.9,
          1,
          1.1,
          1.2,
          1.3
         ],
         "y": [
          0.076,
          0.076,
          0.076,
          0.076,
          0.076,
          0.076,
          0.076,
          0.076,
          0.076,
          0.076,
          0.076,
          0.076,
          0.076
         ],
         "z": [
          25.51,
          24.78,
          24.96,
          23.43,
          23.32,
          23.82,
          24.36,
          24.56,
          24.86,
          25.07,
          24.74,
          25.1,
          25.29
         ]
        },
        {
         "hovertemplate": "T2=%{y}<br>T1=%{x}<br>EER=%{z}<extra></extra>",
         "legendgroup": "0.077",
         "line": {
          "color": "#B6E880",
          "dash": "solid"
         },
         "marker": {
          "symbol": "circle"
         },
         "mode": "lines",
         "name": "0.077",
         "scene": "scene",
         "showlegend": true,
         "type": "scatter3d",
         "x": [
          0.1,
          0.2,
          0.3,
          0.4,
          0.5,
          0.6,
          0.7,
          0.8,
          0.9,
          1,
          1.1,
          1.2,
          1.3
         ],
         "y": [
          0.077,
          0.077,
          0.077,
          0.077,
          0.077,
          0.077,
          0.077,
          0.077,
          0.077,
          0.077,
          0.077,
          0.077,
          0.077
         ],
         "z": [
          25.72,
          25,
          25.04,
          23.47,
          23.7,
          23.48,
          24.27,
          24.49,
          25.02,
          24.8,
          24.98,
          25.44,
          25.77
         ]
        },
        {
         "hovertemplate": "T2=%{y}<br>T1=%{x}<br>EER=%{z}<extra></extra>",
         "legendgroup": "0.078",
         "line": {
          "color": "#FF97FF",
          "dash": "solid"
         },
         "marker": {
          "symbol": "circle"
         },
         "mode": "lines",
         "name": "0.078",
         "scene": "scene",
         "showlegend": true,
         "type": "scatter3d",
         "x": [
          0.1,
          0.2,
          0.3,
          0.4,
          0.5,
          0.6,
          0.7,
          0.8,
          0.9,
          1,
          1.1,
          1.2,
          1.3
         ],
         "y": [
          0.078,
          0.078,
          0.078,
          0.078,
          0.078,
          0.078,
          0.078,
          0.078,
          0.078,
          0.078,
          0.078,
          0.078,
          0.078
         ],
         "z": [
          25.92,
          25.06,
          25.02,
          23.39,
          23.87,
          23.33,
          24.37,
          24.79,
          25.19,
          24.41,
          25.06,
          25.26,
          25.39
         ]
        },
        {
         "hovertemplate": "T2=%{y}<br>T1=%{x}<br>EER=%{z}<extra></extra>",
         "legendgroup": "0.079",
         "line": {
          "color": "#FECB52",
          "dash": "solid"
         },
         "marker": {
          "symbol": "circle"
         },
         "mode": "lines",
         "name": "0.079",
         "scene": "scene",
         "showlegend": true,
         "type": "scatter3d",
         "x": [
          0.1,
          0.2,
          0.3,
          0.4,
          0.5,
          0.6,
          0.7,
          0.8,
          0.9,
          1,
          1.1,
          1.2,
          1.3
         ],
         "y": [
          0.079,
          0.079,
          0.079,
          0.079,
          0.079,
          0.079,
          0.079,
          0.079,
          0.079,
          0.079,
          0.079,
          0.079,
          0.079
         ],
         "z": [
          25.92,
          25.1,
          24.84,
          23.51,
          23.7,
          23.54,
          24.54,
          24.92,
          25.33,
          24.29,
          25.18,
          25.3,
          25.53
         ]
        },
        {
         "hovertemplate": "T2=%{y}<br>T1=%{x}<br>EER=%{z}<extra></extra>",
         "legendgroup": "0.08",
         "line": {
          "color": "#636efa",
          "dash": "solid"
         },
         "marker": {
          "symbol": "circle"
         },
         "mode": "lines",
         "name": "0.08",
         "scene": "scene",
         "showlegend": true,
         "type": "scatter3d",
         "x": [
          0.1,
          0.2,
          0.3,
          0.4,
          0.5,
          0.6,
          0.7,
          0.8,
          0.9,
          1,
          1.1,
          1.2,
          1.3
         ],
         "y": [
          0.08,
          0.08,
          0.08,
          0.08,
          0.08,
          0.08,
          0.08,
          0.08,
          0.08,
          0.08,
          0.08,
          0.08,
          0.08
         ],
         "z": [
          25.81,
          25.16,
          24.46,
          23.31,
          23.78,
          23.72,
          24.57,
          25.1,
          25.21,
          24.48,
          24.96,
          25.62,
          25.73
         ]
        },
        {
         "hovertemplate": "T2=%{y}<br>T1=%{x}<br>EER=%{z}<extra></extra>",
         "legendgroup": "0.081",
         "line": {
          "color": "#EF553B",
          "dash": "solid"
         },
         "marker": {
          "symbol": "circle"
         },
         "mode": "lines",
         "name": "0.081",
         "scene": "scene",
         "showlegend": true,
         "type": "scatter3d",
         "x": [
          0.1,
          0.2,
          0.3,
          0.4,
          0.5,
          0.6,
          0.7,
          0.8,
          0.9,
          1,
          1.1,
          1.2,
          1.3
         ],
         "y": [
          0.081,
          0.081,
          0.081,
          0.081,
          0.081,
          0.081,
          0.081,
          0.081,
          0.081,
          0.081,
          0.081,
          0.081,
          0.081
         ],
         "z": [
          25.73,
          25.16,
          24.63,
          23.32,
          23.68,
          23.83,
          24.36,
          25.02,
          25.13,
          24.01,
          25.09,
          25.81,
          25.79
         ]
        },
        {
         "hovertemplate": "T2=%{y}<br>T1=%{x}<br>EER=%{z}<extra></extra>",
         "legendgroup": "0.082",
         "line": {
          "color": "#00cc96",
          "dash": "solid"
         },
         "marker": {
          "symbol": "circle"
         },
         "mode": "lines",
         "name": "0.082",
         "scene": "scene",
         "showlegend": true,
         "type": "scatter3d",
         "x": [
          0.1,
          0.2,
          0.3,
          0.4,
          0.5,
          0.6,
          0.7,
          0.8,
          0.9,
          1,
          1.1,
          1.2,
          1.3
         ],
         "y": [
          0.082,
          0.082,
          0.082,
          0.082,
          0.082,
          0.082,
          0.082,
          0.082,
          0.082,
          0.082,
          0.082,
          0.082,
          0.082
         ],
         "z": [
          25.47,
          25.14,
          24.78,
          23.3,
          23.52,
          23.89,
          24.43,
          25.22,
          24.81,
          23.97,
          25.12,
          25.71,
          25.88
         ]
        },
        {
         "hovertemplate": "T2=%{y}<br>T1=%{x}<br>EER=%{z}<extra></extra>",
         "legendgroup": "0.083",
         "line": {
          "color": "#ab63fa",
          "dash": "solid"
         },
         "marker": {
          "symbol": "circle"
         },
         "mode": "lines",
         "name": "0.083",
         "scene": "scene",
         "showlegend": true,
         "type": "scatter3d",
         "x": [
          0.1,
          0.2,
          0.3,
          0.4,
          0.5,
          0.6,
          0.7,
          0.8,
          0.9,
          1,
          1.1,
          1.2,
          1.3
         ],
         "y": [
          0.083,
          0.083,
          0.083,
          0.083,
          0.083,
          0.083,
          0.083,
          0.083,
          0.083,
          0.083,
          0.083,
          0.083,
          0.083
         ],
         "z": [
          25.62,
          25.13,
          24.66,
          23.5,
          23.38,
          23.71,
          24.26,
          24.7,
          24.44,
          24.41,
          25.43,
          25.79,
          25.86
         ]
        },
        {
         "hovertemplate": "T2=%{y}<br>T1=%{x}<br>EER=%{z}<extra></extra>",
         "legendgroup": "0.084",
         "line": {
          "color": "#FFA15A",
          "dash": "solid"
         },
         "marker": {
          "symbol": "circle"
         },
         "mode": "lines",
         "name": "0.084",
         "scene": "scene",
         "showlegend": true,
         "type": "scatter3d",
         "x": [
          0.1,
          0.2,
          0.3,
          0.4,
          0.5,
          0.6,
          0.7,
          0.8,
          0.9,
          1,
          1.1,
          1.2,
          1.3
         ],
         "y": [
          0.084,
          0.084,
          0.084,
          0.084,
          0.084,
          0.084,
          0.084,
          0.084,
          0.084,
          0.084,
          0.084,
          0.084,
          0.084
         ],
         "z": [
          25.66,
          25.24,
          24.31,
          23.61,
          23.48,
          23.7,
          24.69,
          24.98,
          24.37,
          24.59,
          25.5,
          25.54,
          25.93
         ]
        },
        {
         "hovertemplate": "T2=%{y}<br>T1=%{x}<br>EER=%{z}<extra></extra>",
         "legendgroup": "0.085",
         "line": {
          "color": "#19d3f3",
          "dash": "solid"
         },
         "marker": {
          "symbol": "circle"
         },
         "mode": "lines",
         "name": "0.085",
         "scene": "scene",
         "showlegend": true,
         "type": "scatter3d",
         "x": [
          0.1,
          0.2,
          0.3,
          0.4,
          0.5,
          0.6,
          0.7,
          0.8,
          0.9,
          1,
          1.1,
          1.2,
          1.3
         ],
         "y": [
          0.085,
          0.085,
          0.085,
          0.085,
          0.085,
          0.085,
          0.085,
          0.085,
          0.085,
          0.085,
          0.085,
          0.085,
          0.085
         ],
         "z": [
          25.44,
          25.28,
          24.44,
          23.67,
          23.78,
          24,
          24.72,
          25.21,
          24.42,
          24.73,
          25.37,
          25.81,
          25.81
         ]
        },
        {
         "hovertemplate": "T2=%{y}<br>T1=%{x}<br>EER=%{z}<extra></extra>",
         "legendgroup": "0.086",
         "line": {
          "color": "#FF6692",
          "dash": "solid"
         },
         "marker": {
          "symbol": "circle"
         },
         "mode": "lines",
         "name": "0.086",
         "scene": "scene",
         "showlegend": true,
         "type": "scatter3d",
         "x": [
          0.1,
          0.2,
          0.3,
          0.4,
          0.5,
          0.6,
          0.7,
          0.8,
          0.9,
          1,
          1.1,
          1.2,
          1.3
         ],
         "y": [
          0.086,
          0.086,
          0.086,
          0.086,
          0.086,
          0.086,
          0.086,
          0.086,
          0.086,
          0.086,
          0.086,
          0.086,
          0.086
         ],
         "z": [
          25.59,
          25.46,
          24.34,
          23.61,
          23.67,
          24.1,
          24.69,
          25.3,
          24.51,
          24.82,
          25.47,
          25.69,
          25.77
         ]
        },
        {
         "hovertemplate": "T2=%{y}<br>T1=%{x}<br>EER=%{z}<extra></extra>",
         "legendgroup": "0.087",
         "line": {
          "color": "#B6E880",
          "dash": "solid"
         },
         "marker": {
          "symbol": "circle"
         },
         "mode": "lines",
         "name": "0.087",
         "scene": "scene",
         "showlegend": true,
         "type": "scatter3d",
         "x": [
          0.1,
          0.2,
          0.3,
          0.4,
          0.5,
          0.6,
          0.7,
          0.8,
          0.9,
          1,
          1.1,
          1.2,
          1.3
         ],
         "y": [
          0.087,
          0.087,
          0.087,
          0.087,
          0.087,
          0.087,
          0.087,
          0.087,
          0.087,
          0.087,
          0.087,
          0.087,
          0.087
         ],
         "z": [
          25.78,
          25.33,
          24.36,
          23.58,
          23.3,
          24.19,
          24.37,
          25.1,
          24.44,
          24.99,
          25.4,
          25.66,
          25.63
         ]
        },
        {
         "hovertemplate": "T2=%{y}<br>T1=%{x}<br>EER=%{z}<extra></extra>",
         "legendgroup": "0.088",
         "line": {
          "color": "#FF97FF",
          "dash": "solid"
         },
         "marker": {
          "symbol": "circle"
         },
         "mode": "lines",
         "name": "0.088",
         "scene": "scene",
         "showlegend": true,
         "type": "scatter3d",
         "x": [
          0.1,
          0.2,
          0.3,
          0.4,
          0.5,
          0.6,
          0.7,
          0.8,
          0.9,
          1,
          1.1,
          1.2,
          1.3
         ],
         "y": [
          0.088,
          0.088,
          0.088,
          0.088,
          0.088,
          0.088,
          0.088,
          0.088,
          0.088,
          0.088,
          0.088,
          0.088,
          0.088
         ],
         "z": [
          25.68,
          25.57,
          24.62,
          24.1,
          23.76,
          24.44,
          24.48,
          25.07,
          24.63,
          25.12,
          25.61,
          25.78,
          25.96
         ]
        },
        {
         "hovertemplate": "T2=%{y}<br>T1=%{x}<br>EER=%{z}<extra></extra>",
         "legendgroup": "0.089",
         "line": {
          "color": "#FECB52",
          "dash": "solid"
         },
         "marker": {
          "symbol": "circle"
         },
         "mode": "lines",
         "name": "0.089",
         "scene": "scene",
         "showlegend": true,
         "type": "scatter3d",
         "x": [
          0.1,
          0.2,
          0.3,
          0.4,
          0.5,
          0.6,
          0.7,
          0.8,
          0.9,
          1,
          1.1,
          1.2,
          1.3
         ],
         "y": [
          0.089,
          0.089,
          0.089,
          0.089,
          0.089,
          0.089,
          0.089,
          0.089,
          0.089,
          0.089,
          0.089,
          0.089,
          0.089
         ],
         "z": [
          25.87,
          25.4,
          24.76,
          24.28,
          24.02,
          24.49,
          24.81,
          25.14,
          24.8,
          25.49,
          25.62,
          25.54,
          25.87
         ]
        },
        {
         "hovertemplate": "T2=%{y}<br>T1=%{x}<br>EER=%{z}<extra></extra>",
         "legendgroup": "0.09",
         "line": {
          "color": "#636efa",
          "dash": "solid"
         },
         "marker": {
          "symbol": "circle"
         },
         "mode": "lines",
         "name": "0.09",
         "scene": "scene",
         "showlegend": true,
         "type": "scatter3d",
         "x": [
          0.1,
          0.2,
          0.3,
          0.4,
          0.5,
          0.6,
          0.7,
          0.8,
          0.9,
          1,
          1.1,
          1.2,
          1.3
         ],
         "y": [
          0.09,
          0.09,
          0.09,
          0.09,
          0.09,
          0.09,
          0.09,
          0.09,
          0.09,
          0.09,
          0.09,
          0.09,
          0.09
         ],
         "z": [
          25.98,
          25.4,
          24.89,
          24.4,
          24.36,
          24.59,
          24.88,
          25.28,
          24.96,
          25.18,
          25.66,
          25.54,
          25.88
         ]
        },
        {
         "hovertemplate": "T2=%{y}<br>T1=%{x}<br>EER=%{z}<extra></extra>",
         "legendgroup": "0.091",
         "line": {
          "color": "#EF553B",
          "dash": "solid"
         },
         "marker": {
          "symbol": "circle"
         },
         "mode": "lines",
         "name": "0.091",
         "scene": "scene",
         "showlegend": true,
         "type": "scatter3d",
         "x": [
          0.1,
          0.2,
          0.3,
          0.4,
          0.5,
          0.6,
          0.7,
          0.8,
          0.9,
          1,
          1.1,
          1.2,
          1.3
         ],
         "y": [
          0.091,
          0.091,
          0.091,
          0.091,
          0.091,
          0.091,
          0.091,
          0.091,
          0.091,
          0.091,
          0.091,
          0.091,
          0.091
         ],
         "z": [
          26.17,
          25.7,
          25.31,
          24.6,
          24.3,
          24.46,
          24.67,
          25.03,
          24.92,
          25.06,
          25.7,
          25.73,
          26.03
         ]
        },
        {
         "hovertemplate": "T2=%{y}<br>T1=%{x}<br>EER=%{z}<extra></extra>",
         "legendgroup": "0.092",
         "line": {
          "color": "#00cc96",
          "dash": "solid"
         },
         "marker": {
          "symbol": "circle"
         },
         "mode": "lines",
         "name": "0.092",
         "scene": "scene",
         "showlegend": true,
         "type": "scatter3d",
         "x": [
          0.1,
          0.2,
          0.3,
          0.4,
          0.5,
          0.6,
          0.7,
          0.8,
          0.9,
          1,
          1.1,
          1.2,
          1.3
         ],
         "y": [
          0.092,
          0.092,
          0.092,
          0.092,
          0.092,
          0.092,
          0.092,
          0.092,
          0.092,
          0.092,
          0.092,
          0.092,
          0.092
         ],
         "z": [
          26.19,
          25.64,
          25.32,
          24.64,
          24.5,
          24.68,
          24.92,
          25.04,
          25.11,
          25.21,
          25.72,
          25.63,
          26.38
         ]
        },
        {
         "hovertemplate": "T2=%{y}<br>T1=%{x}<br>EER=%{z}<extra></extra>",
         "legendgroup": "0.093",
         "line": {
          "color": "#ab63fa",
          "dash": "solid"
         },
         "marker": {
          "symbol": "circle"
         },
         "mode": "lines",
         "name": "0.093",
         "scene": "scene",
         "showlegend": true,
         "type": "scatter3d",
         "x": [
          0.1,
          0.2,
          0.3,
          0.4,
          0.5,
          0.6,
          0.7,
          0.8,
          0.9,
          1,
          1.1,
          1.2,
          1.3
         ],
         "y": [
          0.093,
          0.093,
          0.093,
          0.093,
          0.093,
          0.093,
          0.093,
          0.093,
          0.093,
          0.093,
          0.093,
          0.093,
          0.093
         ],
         "z": [
          26.2,
          25.64,
          25.41,
          24.46,
          24.54,
          24.76,
          25.13,
          25,
          25.29,
          25.53,
          25.98,
          26.06,
          26.47
         ]
        },
        {
         "hovertemplate": "T2=%{y}<br>T1=%{x}<br>EER=%{z}<extra></extra>",
         "legendgroup": "0.094",
         "line": {
          "color": "#FFA15A",
          "dash": "solid"
         },
         "marker": {
          "symbol": "circle"
         },
         "mode": "lines",
         "name": "0.094",
         "scene": "scene",
         "showlegend": true,
         "type": "scatter3d",
         "x": [
          0.1,
          0.2,
          0.3,
          0.4,
          0.5,
          0.6,
          0.7,
          0.8,
          0.9,
          1,
          1.1,
          1.2,
          1.3
         ],
         "y": [
          0.094,
          0.094,
          0.094,
          0.094,
          0.094,
          0.094,
          0.094,
          0.094,
          0.094,
          0.094,
          0.094,
          0.094,
          0.094
         ],
         "z": [
          26.32,
          25.37,
          25.04,
          24.42,
          24.58,
          24.88,
          24.99,
          24.96,
          25.24,
          25.46,
          25.83,
          26.28,
          26.7
         ]
        },
        {
         "hovertemplate": "T2=%{y}<br>T1=%{x}<br>EER=%{z}<extra></extra>",
         "legendgroup": "0.095",
         "line": {
          "color": "#19d3f3",
          "dash": "solid"
         },
         "marker": {
          "symbol": "circle"
         },
         "mode": "lines",
         "name": "0.095",
         "scene": "scene",
         "showlegend": true,
         "type": "scatter3d",
         "x": [
          0.1,
          0.2,
          0.3,
          0.4,
          0.5,
          0.6,
          0.7,
          0.8,
          0.9,
          1,
          1.1,
          1.2,
          1.3
         ],
         "y": [
          0.095,
          0.095,
          0.095,
          0.095,
          0.095,
          0.095,
          0.095,
          0.095,
          0.095,
          0.095,
          0.095,
          0.095,
          0.095
         ],
         "z": [
          26.34,
          25.49,
          24.91,
          24.34,
          24.59,
          24.54,
          24.67,
          24.84,
          25.29,
          25.27,
          25.92,
          26.06,
          26.7
         ]
        },
        {
         "hovertemplate": "T2=%{y}<br>T1=%{x}<br>EER=%{z}<extra></extra>",
         "legendgroup": "0.096",
         "line": {
          "color": "#FF6692",
          "dash": "solid"
         },
         "marker": {
          "symbol": "circle"
         },
         "mode": "lines",
         "name": "0.096",
         "scene": "scene",
         "showlegend": true,
         "type": "scatter3d",
         "x": [
          0.1,
          0.2,
          0.3,
          0.4,
          0.5,
          0.6,
          0.7,
          0.8,
          0.9,
          1,
          1.1,
          1.2,
          1.3
         ],
         "y": [
          0.096,
          0.096,
          0.096,
          0.096,
          0.096,
          0.096,
          0.096,
          0.096,
          0.096,
          0.096,
          0.096,
          0.096,
          0.096
         ],
         "z": [
          26.34,
          25.42,
          25.02,
          24.22,
          24.71,
          24.68,
          24.86,
          24.84,
          25.4,
          25.54,
          25.9,
          26.23,
          26.72
         ]
        },
        {
         "hovertemplate": "T2=%{y}<br>T1=%{x}<br>EER=%{z}<extra></extra>",
         "legendgroup": "0.097",
         "line": {
          "color": "#B6E880",
          "dash": "solid"
         },
         "marker": {
          "symbol": "circle"
         },
         "mode": "lines",
         "name": "0.097",
         "scene": "scene",
         "showlegend": true,
         "type": "scatter3d",
         "x": [
          0.1,
          0.2,
          0.3,
          0.4,
          0.5,
          0.6,
          0.7,
          0.8,
          0.9,
          1,
          1.1,
          1.2,
          1.3
         ],
         "y": [
          0.097,
          0.097,
          0.097,
          0.097,
          0.097,
          0.097,
          0.097,
          0.097,
          0.097,
          0.097,
          0.097,
          0.097,
          0.097
         ],
         "z": [
          26.58,
          25.52,
          25.14,
          23.74,
          24.23,
          24.29,
          24.61,
          24.98,
          25.42,
          25.62,
          25.81,
          26.26,
          26.97
         ]
        },
        {
         "hovertemplate": "T2=%{y}<br>T1=%{x}<br>EER=%{z}<extra></extra>",
         "legendgroup": "0.098",
         "line": {
          "color": "#FF97FF",
          "dash": "solid"
         },
         "marker": {
          "symbol": "circle"
         },
         "mode": "lines",
         "name": "0.098",
         "scene": "scene",
         "showlegend": true,
         "type": "scatter3d",
         "x": [
          0.1,
          0.2,
          0.3,
          0.4,
          0.5,
          0.6,
          0.7,
          0.8,
          0.9,
          1,
          1.1,
          1.2,
          1.3
         ],
         "y": [
          0.098,
          0.098,
          0.098,
          0.098,
          0.098,
          0.098,
          0.098,
          0.098,
          0.098,
          0.098,
          0.098,
          0.098,
          0.098
         ],
         "z": [
          26.83,
          25.44,
          25.33,
          23.99,
          24.38,
          24.56,
          25.03,
          25.48,
          25.52,
          25.78,
          25.71,
          26.09,
          26.6
         ]
        },
        {
         "hovertemplate": "T2=%{y}<br>T1=%{x}<br>EER=%{z}<extra></extra>",
         "legendgroup": "0.099",
         "line": {
          "color": "#FECB52",
          "dash": "solid"
         },
         "marker": {
          "symbol": "circle"
         },
         "mode": "lines",
         "name": "0.099",
         "scene": "scene",
         "showlegend": true,
         "type": "scatter3d",
         "x": [
          0.1,
          0.2,
          0.3,
          0.4,
          0.5,
          0.6,
          0.7,
          0.8,
          0.9,
          1,
          1.1,
          1.2,
          1.3
         ],
         "y": [
          0.099,
          0.099,
          0.099,
          0.099,
          0.099,
          0.099,
          0.099,
          0.099,
          0.099,
          0.099,
          0.099,
          0.099,
          0.099
         ],
         "z": [
          26.74,
          25.26,
          25.34,
          24.21,
          24.16,
          24.38,
          24.96,
          25.33,
          25.06,
          25.32,
          25.49,
          25.98,
          26.58
         ]
        },
        {
         "hovertemplate": "T2=%{y}<br>T1=%{x}<br>EER=%{z}<extra></extra>",
         "legendgroup": "0.1",
         "line": {
          "color": "#636efa",
          "dash": "solid"
         },
         "marker": {
          "symbol": "circle"
         },
         "mode": "lines",
         "name": "0.1",
         "scene": "scene",
         "showlegend": true,
         "type": "scatter3d",
         "x": [
          0.1,
          0.2,
          0.3,
          0.4,
          0.5,
          0.6,
          0.7,
          0.8,
          0.9,
          1,
          1.1,
          1.2,
          1.3
         ],
         "y": [
          0.1,
          0.1,
          0.1,
          0.1,
          0.1,
          0.1,
          0.1,
          0.1,
          0.1,
          0.1,
          0.1,
          0.1,
          0.1
         ],
         "z": [
          26.87,
          25.27,
          25.52,
          24.54,
          24.32,
          24.6,
          25.04,
          25.69,
          24.86,
          25.11,
          25.08,
          25.89,
          26.47
         ]
        },
        {
         "hovertemplate": "T2=%{y}<br>T1=%{x}<br>EER=%{z}<extra></extra>",
         "legendgroup": "0.101",
         "line": {
          "color": "#EF553B",
          "dash": "solid"
         },
         "marker": {
          "symbol": "circle"
         },
         "mode": "lines",
         "name": "0.101",
         "scene": "scene",
         "showlegend": true,
         "type": "scatter3d",
         "x": [
          0.1,
          0.2,
          0.3,
          0.4,
          0.5,
          0.6,
          0.7,
          0.8,
          0.9,
          1,
          1.1,
          1.2,
          1.3
         ],
         "y": [
          0.101,
          0.101,
          0.101,
          0.101,
          0.101,
          0.101,
          0.101,
          0.101,
          0.101,
          0.101,
          0.101,
          0.101,
          0.101
         ],
         "z": [
          27,
          25.3,
          25.59,
          24.4,
          24.54,
          25.06,
          25.02,
          25.6,
          24.71,
          25.13,
          25.43,
          26.12,
          26.66
         ]
        },
        {
         "hovertemplate": "T2=%{y}<br>T1=%{x}<br>EER=%{z}<extra></extra>",
         "legendgroup": "0.102",
         "line": {
          "color": "#00cc96",
          "dash": "solid"
         },
         "marker": {
          "symbol": "circle"
         },
         "mode": "lines",
         "name": "0.102",
         "scene": "scene",
         "showlegend": true,
         "type": "scatter3d",
         "x": [
          0.1,
          0.2,
          0.3,
          0.4,
          0.5,
          0.6,
          0.7,
          0.8,
          0.9,
          1,
          1.1,
          1.2,
          1.3
         ],
         "y": [
          0.102,
          0.102,
          0.102,
          0.102,
          0.102,
          0.102,
          0.102,
          0.102,
          0.102,
          0.102,
          0.102,
          0.102,
          0.102
         ],
         "z": [
          26.9,
          25.49,
          25.56,
          24.28,
          24.98,
          25.18,
          25.16,
          25.42,
          24.76,
          25.32,
          25.5,
          26.16,
          26.68
         ]
        },
        {
         "hovertemplate": "T2=%{y}<br>T1=%{x}<br>EER=%{z}<extra></extra>",
         "legendgroup": "0.103",
         "line": {
          "color": "#ab63fa",
          "dash": "solid"
         },
         "marker": {
          "symbol": "circle"
         },
         "mode": "lines",
         "name": "0.103",
         "scene": "scene",
         "showlegend": true,
         "type": "scatter3d",
         "x": [
          0.1,
          0.2,
          0.3,
          0.4,
          0.5,
          0.6,
          0.7,
          0.8,
          0.9,
          1,
          1.1,
          1.2,
          1.3
         ],
         "y": [
          0.103,
          0.103,
          0.103,
          0.103,
          0.103,
          0.103,
          0.103,
          0.103,
          0.103,
          0.103,
          0.103,
          0.103,
          0.103
         ],
         "z": [
          26.77,
          25.67,
          25.76,
          24.43,
          25.08,
          24.82,
          25.47,
          25.36,
          25.01,
          25.66,
          25.87,
          26.32,
          26.74
         ]
        },
        {
         "hovertemplate": "T2=%{y}<br>T1=%{x}<br>EER=%{z}<extra></extra>",
         "legendgroup": "0.104",
         "line": {
          "color": "#FFA15A",
          "dash": "solid"
         },
         "marker": {
          "symbol": "circle"
         },
         "mode": "lines",
         "name": "0.104",
         "scene": "scene",
         "showlegend": true,
         "type": "scatter3d",
         "x": [
          0.1,
          0.2,
          0.3,
          0.4,
          0.5,
          0.6,
          0.7,
          0.8,
          0.9,
          1,
          1.1,
          1.2,
          1.3
         ],
         "y": [
          0.104,
          0.104,
          0.104,
          0.104,
          0.104,
          0.104,
          0.104,
          0.104,
          0.104,
          0.104,
          0.104,
          0.104,
          0.104
         ],
         "z": [
          27.01,
          25.92,
          25.97,
          24.52,
          25.17,
          25.16,
          25.78,
          25.3,
          24.86,
          25.8,
          25.9,
          26.44,
          26.96
         ]
        },
        {
         "hovertemplate": "T2=%{y}<br>T1=%{x}<br>EER=%{z}<extra></extra>",
         "legendgroup": "0.105",
         "line": {
          "color": "#19d3f3",
          "dash": "solid"
         },
         "marker": {
          "symbol": "circle"
         },
         "mode": "lines",
         "name": "0.105",
         "scene": "scene",
         "showlegend": true,
         "type": "scatter3d",
         "x": [
          0.1,
          0.2,
          0.3,
          0.4,
          0.5,
          0.6,
          0.7,
          0.8,
          0.9,
          1,
          1.1,
          1.2,
          1.3
         ],
         "y": [
          0.105,
          0.105,
          0.105,
          0.105,
          0.105,
          0.105,
          0.105,
          0.105,
          0.105,
          0.105,
          0.105,
          0.105,
          0.105
         ],
         "z": [
          27.27,
          25.64,
          25.88,
          24.49,
          25.1,
          25.23,
          25.68,
          25.7,
          25.14,
          25.9,
          26.02,
          26.42,
          27.13
         ]
        },
        {
         "hovertemplate": "T2=%{y}<br>T1=%{x}<br>EER=%{z}<extra></extra>",
         "legendgroup": "0.106",
         "line": {
          "color": "#FF6692",
          "dash": "solid"
         },
         "marker": {
          "symbol": "circle"
         },
         "mode": "lines",
         "name": "0.106",
         "scene": "scene",
         "showlegend": true,
         "type": "scatter3d",
         "x": [
          0.1,
          0.2,
          0.3,
          0.4,
          0.5,
          0.6,
          0.7,
          0.8,
          0.9,
          1,
          1.1,
          1.2,
          1.3
         ],
         "y": [
          0.106,
          0.106,
          0.106,
          0.106,
          0.106,
          0.106,
          0.106,
          0.106,
          0.106,
          0.106,
          0.106,
          0.106,
          0.106
         ],
         "z": [
          27.03,
          25.82,
          25.72,
          24.91,
          25.01,
          25.07,
          25.38,
          25.54,
          24.79,
          25.72,
          25.89,
          26.38,
          27.11
         ]
        },
        {
         "hovertemplate": "T2=%{y}<br>T1=%{x}<br>EER=%{z}<extra></extra>",
         "legendgroup": "0.107",
         "line": {
          "color": "#B6E880",
          "dash": "solid"
         },
         "marker": {
          "symbol": "circle"
         },
         "mode": "lines",
         "name": "0.107",
         "scene": "scene",
         "showlegend": true,
         "type": "scatter3d",
         "x": [
          0.1,
          0.2,
          0.3,
          0.4,
          0.5,
          0.6,
          0.7,
          0.8,
          0.9,
          1,
          1.1,
          1.2,
          1.3
         ],
         "y": [
          0.107,
          0.107,
          0.107,
          0.107,
          0.107,
          0.107,
          0.107,
          0.107,
          0.107,
          0.107,
          0.107,
          0.107,
          0.107
         ],
         "z": [
          27.17,
          26.08,
          25.66,
          25.13,
          25.23,
          25.13,
          25.42,
          25.82,
          25.13,
          26.02,
          26.11,
          26.6,
          27.29
         ]
        },
        {
         "hovertemplate": "T2=%{y}<br>T1=%{x}<br>EER=%{z}<extra></extra>",
         "legendgroup": "0.108",
         "line": {
          "color": "#FF97FF",
          "dash": "solid"
         },
         "marker": {
          "symbol": "circle"
         },
         "mode": "lines",
         "name": "0.108",
         "scene": "scene",
         "showlegend": true,
         "type": "scatter3d",
         "x": [
          0.1,
          0.2,
          0.3,
          0.4,
          0.5,
          0.6,
          0.7,
          0.8,
          0.9,
          1,
          1.1,
          1.2,
          1.3
         ],
         "y": [
          0.108,
          0.108,
          0.108,
          0.108,
          0.108,
          0.108,
          0.108,
          0.108,
          0.108,
          0.108,
          0.108,
          0.108,
          0.108
         ],
         "z": [
          27.42,
          26.2,
          25.81,
          25.28,
          25.41,
          25.09,
          25.56,
          25.59,
          24.91,
          25.77,
          26.03,
          26.66,
          27.19
         ]
        },
        {
         "hovertemplate": "T2=%{y}<br>T1=%{x}<br>EER=%{z}<extra></extra>",
         "legendgroup": "0.109",
         "line": {
          "color": "#FECB52",
          "dash": "solid"
         },
         "marker": {
          "symbol": "circle"
         },
         "mode": "lines",
         "name": "0.109",
         "scene": "scene",
         "showlegend": true,
         "type": "scatter3d",
         "x": [
          0.1,
          0.2,
          0.3,
          0.4,
          0.5,
          0.6,
          0.7,
          0.8,
          0.9,
          1,
          1.1,
          1.2,
          1.3
         ],
         "y": [
          0.109,
          0.109,
          0.109,
          0.109,
          0.109,
          0.109,
          0.109,
          0.109,
          0.109,
          0.109,
          0.109,
          0.109,
          0.109
         ],
         "z": [
          27.67,
          26.41,
          26.19,
          25.48,
          25.54,
          24.87,
          25.5,
          25.44,
          25.03,
          25.9,
          26.12,
          26.71,
          27
         ]
        },
        {
         "hovertemplate": "T2=%{y}<br>T1=%{x}<br>EER=%{z}<extra></extra>",
         "legendgroup": "0.11",
         "line": {
          "color": "#636efa",
          "dash": "solid"
         },
         "marker": {
          "symbol": "circle"
         },
         "mode": "lines",
         "name": "0.11",
         "scene": "scene",
         "showlegend": true,
         "type": "scatter3d",
         "x": [
          0.1,
          0.2,
          0.3,
          0.4,
          0.5,
          0.6,
          0.7,
          0.8,
          0.9,
          1,
          1.1,
          1.2,
          1.3
         ],
         "y": [
          0.11,
          0.11,
          0.11,
          0.11,
          0.11,
          0.11,
          0.11,
          0.11,
          0.11,
          0.11,
          0.11,
          0.11,
          0.11
         ],
         "z": [
          27.59,
          26.74,
          26.3,
          25.32,
          25.42,
          24.91,
          25.66,
          25.58,
          25.12,
          25.91,
          25.92,
          26.5,
          26.88
         ]
        },
        {
         "hovertemplate": "T2=%{y}<br>T1=%{x}<br>EER=%{z}<extra></extra>",
         "legendgroup": "0.111",
         "line": {
          "color": "#EF553B",
          "dash": "solid"
         },
         "marker": {
          "symbol": "circle"
         },
         "mode": "lines",
         "name": "0.111",
         "scene": "scene",
         "showlegend": true,
         "type": "scatter3d",
         "x": [
          0.1,
          0.2,
          0.3,
          0.4,
          0.5,
          0.6,
          0.7,
          0.8,
          0.9,
          1,
          1.1,
          1.2,
          1.3
         ],
         "y": [
          0.111,
          0.111,
          0.111,
          0.111,
          0.111,
          0.111,
          0.111,
          0.111,
          0.111,
          0.111,
          0.111,
          0.111,
          0.111
         ],
         "z": [
          27.76,
          26.59,
          26.49,
          25.56,
          25.61,
          25.14,
          26.11,
          25.79,
          25.66,
          26.06,
          25.83,
          26.64,
          26.98
         ]
        },
        {
         "hovertemplate": "T2=%{y}<br>T1=%{x}<br>EER=%{z}<extra></extra>",
         "legendgroup": "0.112",
         "line": {
          "color": "#00cc96",
          "dash": "solid"
         },
         "marker": {
          "symbol": "circle"
         },
         "mode": "lines",
         "name": "0.112",
         "scene": "scene",
         "showlegend": true,
         "type": "scatter3d",
         "x": [
          0.1,
          0.2,
          0.3,
          0.4,
          0.5,
          0.6,
          0.7,
          0.8,
          0.9,
          1,
          1.1,
          1.2,
          1.3
         ],
         "y": [
          0.112,
          0.112,
          0.112,
          0.112,
          0.112,
          0.112,
          0.112,
          0.112,
          0.112,
          0.112,
          0.112,
          0.112,
          0.112
         ],
         "z": [
          27.86,
          26.54,
          26.7,
          25.56,
          26.02,
          25.61,
          26.37,
          25.42,
          25.42,
          26.01,
          25.67,
          26.76,
          27.19
         ]
        },
        {
         "hovertemplate": "T2=%{y}<br>T1=%{x}<br>EER=%{z}<extra></extra>",
         "legendgroup": "0.113",
         "line": {
          "color": "#ab63fa",
          "dash": "solid"
         },
         "marker": {
          "symbol": "circle"
         },
         "mode": "lines",
         "name": "0.113",
         "scene": "scene",
         "showlegend": true,
         "type": "scatter3d",
         "x": [
          0.1,
          0.2,
          0.3,
          0.4,
          0.5,
          0.6,
          0.7,
          0.8,
          0.9,
          1,
          1.1,
          1.2,
          1.3
         ],
         "y": [
          0.113,
          0.113,
          0.113,
          0.113,
          0.113,
          0.113,
          0.113,
          0.113,
          0.113,
          0.113,
          0.113,
          0.113,
          0.113
         ],
         "z": [
          27.94,
          26.67,
          27,
          25.74,
          26.17,
          25.78,
          26.28,
          25.59,
          25.89,
          26.41,
          26.03,
          26.74,
          27.19
         ]
        },
        {
         "hovertemplate": "T2=%{y}<br>T1=%{x}<br>EER=%{z}<extra></extra>",
         "legendgroup": "0.114",
         "line": {
          "color": "#FFA15A",
          "dash": "solid"
         },
         "marker": {
          "symbol": "circle"
         },
         "mode": "lines",
         "name": "0.114",
         "scene": "scene",
         "showlegend": true,
         "type": "scatter3d",
         "x": [
          0.1,
          0.2,
          0.3,
          0.4,
          0.5,
          0.6,
          0.7,
          0.8,
          0.9,
          1,
          1.1,
          1.2,
          1.3
         ],
         "y": [
          0.114,
          0.114,
          0.114,
          0.114,
          0.114,
          0.114,
          0.114,
          0.114,
          0.114,
          0.114,
          0.114,
          0.114,
          0.114
         ],
         "z": [
          27.77,
          26.74,
          26.94,
          25.57,
          25.88,
          25.66,
          26.51,
          25.9,
          26.16,
          26.58,
          26.38,
          27.13,
          27.29
         ]
        },
        {
         "hovertemplate": "T2=%{y}<br>T1=%{x}<br>EER=%{z}<extra></extra>",
         "legendgroup": "0.115",
         "line": {
          "color": "#19d3f3",
          "dash": "solid"
         },
         "marker": {
          "symbol": "circle"
         },
         "mode": "lines",
         "name": "0.115",
         "scene": "scene",
         "showlegend": true,
         "type": "scatter3d",
         "x": [
          0.1,
          0.2,
          0.3,
          0.4,
          0.5,
          0.6,
          0.7,
          0.8,
          0.9,
          1,
          1.1,
          1.2,
          1.3
         ],
         "y": [
          0.115,
          0.115,
          0.115,
          0.115,
          0.115,
          0.115,
          0.115,
          0.115,
          0.115,
          0.115,
          0.115,
          0.115,
          0.115
         ],
         "z": [
          27.5,
          26.69,
          26.96,
          25.64,
          26.02,
          26,
          26.79,
          26.4,
          26.57,
          26.8,
          26.66,
          27.17,
          27.28
         ]
        },
        {
         "hovertemplate": "T2=%{y}<br>T1=%{x}<br>EER=%{z}<extra></extra>",
         "legendgroup": "0.116",
         "line": {
          "color": "#FF6692",
          "dash": "solid"
         },
         "marker": {
          "symbol": "circle"
         },
         "mode": "lines",
         "name": "0.116",
         "scene": "scene",
         "showlegend": true,
         "type": "scatter3d",
         "x": [
          0.1,
          0.2,
          0.3,
          0.4,
          0.5,
          0.6,
          0.7,
          0.8,
          0.9,
          1,
          1.1,
          1.2,
          1.3
         ],
         "y": [
          0.116,
          0.116,
          0.116,
          0.116,
          0.116,
          0.116,
          0.116,
          0.116,
          0.116,
          0.116,
          0.116,
          0.116,
          0.116
         ],
         "z": [
          27.78,
          26.57,
          26.8,
          25.6,
          26.23,
          26.01,
          26.63,
          26.33,
          26.38,
          26.64,
          26.69,
          27.19,
          27.24
         ]
        },
        {
         "hovertemplate": "T2=%{y}<br>T1=%{x}<br>EER=%{z}<extra></extra>",
         "legendgroup": "0.117",
         "line": {
          "color": "#B6E880",
          "dash": "solid"
         },
         "marker": {
          "symbol": "circle"
         },
         "mode": "lines",
         "name": "0.117",
         "scene": "scene",
         "showlegend": true,
         "type": "scatter3d",
         "x": [
          0.1,
          0.2,
          0.3,
          0.4,
          0.5,
          0.6,
          0.7,
          0.8,
          0.9,
          1,
          1.1,
          1.2,
          1.3
         ],
         "y": [
          0.117,
          0.117,
          0.117,
          0.117,
          0.117,
          0.117,
          0.117,
          0.117,
          0.117,
          0.117,
          0.117,
          0.117,
          0.117
         ],
         "z": [
          27.48,
          26.37,
          26.22,
          25.64,
          26.24,
          26.12,
          27,
          26.69,
          26.33,
          26.61,
          26.79,
          27.1,
          27.42
         ]
        },
        {
         "hovertemplate": "T2=%{y}<br>T1=%{x}<br>EER=%{z}<extra></extra>",
         "legendgroup": "0.118",
         "line": {
          "color": "#FF97FF",
          "dash": "solid"
         },
         "marker": {
          "symbol": "circle"
         },
         "mode": "lines",
         "name": "0.118",
         "scene": "scene",
         "showlegend": true,
         "type": "scatter3d",
         "x": [
          0.1,
          0.2,
          0.3,
          0.4,
          0.5,
          0.6,
          0.7,
          0.8,
          0.9,
          1,
          1.1,
          1.2,
          1.3
         ],
         "y": [
          0.118,
          0.118,
          0.118,
          0.118,
          0.118,
          0.118,
          0.118,
          0.118,
          0.118,
          0.118,
          0.118,
          0.118,
          0.118
         ],
         "z": [
          27.58,
          26.82,
          26.21,
          25.77,
          25.83,
          26.26,
          26.7,
          26.33,
          26.74,
          26.37,
          26.59,
          27.23,
          27.4
         ]
        },
        {
         "hovertemplate": "T2=%{y}<br>T1=%{x}<br>EER=%{z}<extra></extra>",
         "legendgroup": "0.119",
         "line": {
          "color": "#FECB52",
          "dash": "solid"
         },
         "marker": {
          "symbol": "circle"
         },
         "mode": "lines",
         "name": "0.119",
         "scene": "scene",
         "showlegend": true,
         "type": "scatter3d",
         "x": [
          0.1,
          0.2,
          0.3,
          0.4,
          0.5,
          0.6,
          0.7,
          0.8,
          0.9,
          1,
          1.1,
          1.2,
          1.3
         ],
         "y": [
          0.119,
          0.119,
          0.119,
          0.119,
          0.119,
          0.119,
          0.119,
          0.119,
          0.119,
          0.119,
          0.119,
          0.119,
          0.119
         ],
         "z": [
          27.8,
          26.82,
          26.46,
          26.03,
          26.12,
          26.21,
          26.12,
          26.51,
          26.5,
          26.08,
          26.66,
          27.63,
          27.53
         ]
        }
       ],
       "layout": {
        "legend": {
         "title": {
          "text": "T2"
         },
         "tracegroupgap": 0
        },
        "margin": {
         "t": 60
        },
        "scene": {
         "domain": {
          "x": [
           0,
           1
          ],
          "y": [
           0,
           1
          ]
         },
         "xaxis": {
          "title": {
           "text": "T1"
          }
         },
         "yaxis": {
          "categoryarray": [
           0.02,
           0.021,
           0.022,
           0.023,
           0.024,
           0.025,
           0.026,
           0.027,
           0.028,
           0.029,
           0.03,
           0.031,
           0.032,
           0.033,
           0.034,
           0.035,
           0.036,
           0.037,
           0.038,
           0.039,
           0.04,
           0.041,
           0.042,
           0.043,
           0.044,
           0.045,
           0.046,
           0.047,
           0.048,
           0.049,
           0.05,
           0.051,
           0.052,
           0.053,
           0.054,
           0.055,
           0.056,
           0.057,
           0.058,
           0.059,
           0.06,
           0.061,
           0.062,
           0.063,
           0.064,
           0.065,
           0.066,
           0.067,
           0.068,
           0.069,
           0.07,
           0.071,
           0.072,
           0.073,
           0.074,
           0.075,
           0.076,
           0.077,
           0.078,
           0.079,
           0.08,
           0.081,
           0.082,
           0.083,
           0.084,
           0.085,
           0.086,
           0.087,
           0.088,
           0.089,
           0.09,
           0.091,
           0.092,
           0.093,
           0.094,
           0.095,
           0.096,
           0.097,
           0.098,
           0.099,
           0.1,
           0.101,
           0.102,
           0.103,
           0.104,
           0.105,
           0.106,
           0.107,
           0.108,
           0.109,
           0.11,
           0.111,
           0.112,
           0.113,
           0.114,
           0.115,
           0.116,
           0.117,
           0.118,
           0.119
          ],
          "categoryorder": "array",
          "title": {
           "text": "T2"
          }
         },
         "zaxis": {
          "title": {
           "text": "EER"
          }
         }
        },
        "template": {
         "data": {
          "bar": [
           {
            "error_x": {
             "color": "#2a3f5f"
            },
            "error_y": {
             "color": "#2a3f5f"
            },
            "marker": {
             "line": {
              "color": "#E5ECF6",
              "width": 0.5
             },
             "pattern": {
              "fillmode": "overlay",
              "size": 10,
              "solidity": 0.2
             }
            },
            "type": "bar"
           }
          ],
          "barpolar": [
           {
            "marker": {
             "line": {
              "color": "#E5ECF6",
              "width": 0.5
             },
             "pattern": {
              "fillmode": "overlay",
              "size": 10,
              "solidity": 0.2
             }
            },
            "type": "barpolar"
           }
          ],
          "carpet": [
           {
            "aaxis": {
             "endlinecolor": "#2a3f5f",
             "gridcolor": "white",
             "linecolor": "white",
             "minorgridcolor": "white",
             "startlinecolor": "#2a3f5f"
            },
            "baxis": {
             "endlinecolor": "#2a3f5f",
             "gridcolor": "white",
             "linecolor": "white",
             "minorgridcolor": "white",
             "startlinecolor": "#2a3f5f"
            },
            "type": "carpet"
           }
          ],
          "choropleth": [
           {
            "colorbar": {
             "outlinewidth": 0,
             "ticks": ""
            },
            "type": "choropleth"
           }
          ],
          "contour": [
           {
            "colorbar": {
             "outlinewidth": 0,
             "ticks": ""
            },
            "colorscale": [
             [
              0,
              "#0d0887"
             ],
             [
              0.1111111111111111,
              "#46039f"
             ],
             [
              0.2222222222222222,
              "#7201a8"
             ],
             [
              0.3333333333333333,
              "#9c179e"
             ],
             [
              0.4444444444444444,
              "#bd3786"
             ],
             [
              0.5555555555555556,
              "#d8576b"
             ],
             [
              0.6666666666666666,
              "#ed7953"
             ],
             [
              0.7777777777777778,
              "#fb9f3a"
             ],
             [
              0.8888888888888888,
              "#fdca26"
             ],
             [
              1,
              "#f0f921"
             ]
            ],
            "type": "contour"
           }
          ],
          "contourcarpet": [
           {
            "colorbar": {
             "outlinewidth": 0,
             "ticks": ""
            },
            "type": "contourcarpet"
           }
          ],
          "heatmap": [
           {
            "colorbar": {
             "outlinewidth": 0,
             "ticks": ""
            },
            "colorscale": [
             [
              0,
              "#0d0887"
             ],
             [
              0.1111111111111111,
              "#46039f"
             ],
             [
              0.2222222222222222,
              "#7201a8"
             ],
             [
              0.3333333333333333,
              "#9c179e"
             ],
             [
              0.4444444444444444,
              "#bd3786"
             ],
             [
              0.5555555555555556,
              "#d8576b"
             ],
             [
              0.6666666666666666,
              "#ed7953"
             ],
             [
              0.7777777777777778,
              "#fb9f3a"
             ],
             [
              0.8888888888888888,
              "#fdca26"
             ],
             [
              1,
              "#f0f921"
             ]
            ],
            "type": "heatmap"
           }
          ],
          "heatmapgl": [
           {
            "colorbar": {
             "outlinewidth": 0,
             "ticks": ""
            },
            "colorscale": [
             [
              0,
              "#0d0887"
             ],
             [
              0.1111111111111111,
              "#46039f"
             ],
             [
              0.2222222222222222,
              "#7201a8"
             ],
             [
              0.3333333333333333,
              "#9c179e"
             ],
             [
              0.4444444444444444,
              "#bd3786"
             ],
             [
              0.5555555555555556,
              "#d8576b"
             ],
             [
              0.6666666666666666,
              "#ed7953"
             ],
             [
              0.7777777777777778,
              "#fb9f3a"
             ],
             [
              0.8888888888888888,
              "#fdca26"
             ],
             [
              1,
              "#f0f921"
             ]
            ],
            "type": "heatmapgl"
           }
          ],
          "histogram": [
           {
            "marker": {
             "pattern": {
              "fillmode": "overlay",
              "size": 10,
              "solidity": 0.2
             }
            },
            "type": "histogram"
           }
          ],
          "histogram2d": [
           {
            "colorbar": {
             "outlinewidth": 0,
             "ticks": ""
            },
            "colorscale": [
             [
              0,
              "#0d0887"
             ],
             [
              0.1111111111111111,
              "#46039f"
             ],
             [
              0.2222222222222222,
              "#7201a8"
             ],
             [
              0.3333333333333333,
              "#9c179e"
             ],
             [
              0.4444444444444444,
              "#bd3786"
             ],
             [
              0.5555555555555556,
              "#d8576b"
             ],
             [
              0.6666666666666666,
              "#ed7953"
             ],
             [
              0.7777777777777778,
              "#fb9f3a"
             ],
             [
              0.8888888888888888,
              "#fdca26"
             ],
             [
              1,
              "#f0f921"
             ]
            ],
            "type": "histogram2d"
           }
          ],
          "histogram2dcontour": [
           {
            "colorbar": {
             "outlinewidth": 0,
             "ticks": ""
            },
            "colorscale": [
             [
              0,
              "#0d0887"
             ],
             [
              0.1111111111111111,
              "#46039f"
             ],
             [
              0.2222222222222222,
              "#7201a8"
             ],
             [
              0.3333333333333333,
              "#9c179e"
             ],
             [
              0.4444444444444444,
              "#bd3786"
             ],
             [
              0.5555555555555556,
              "#d8576b"
             ],
             [
              0.6666666666666666,
              "#ed7953"
             ],
             [
              0.7777777777777778,
              "#fb9f3a"
             ],
             [
              0.8888888888888888,
              "#fdca26"
             ],
             [
              1,
              "#f0f921"
             ]
            ],
            "type": "histogram2dcontour"
           }
          ],
          "mesh3d": [
           {
            "colorbar": {
             "outlinewidth": 0,
             "ticks": ""
            },
            "type": "mesh3d"
           }
          ],
          "parcoords": [
           {
            "line": {
             "colorbar": {
              "outlinewidth": 0,
              "ticks": ""
             }
            },
            "type": "parcoords"
           }
          ],
          "pie": [
           {
            "automargin": true,
            "type": "pie"
           }
          ],
          "scatter": [
           {
            "fillpattern": {
             "fillmode": "overlay",
             "size": 10,
             "solidity": 0.2
            },
            "type": "scatter"
           }
          ],
          "scatter3d": [
           {
            "line": {
             "colorbar": {
              "outlinewidth": 0,
              "ticks": ""
             }
            },
            "marker": {
             "colorbar": {
              "outlinewidth": 0,
              "ticks": ""
             }
            },
            "type": "scatter3d"
           }
          ],
          "scattercarpet": [
           {
            "marker": {
             "colorbar": {
              "outlinewidth": 0,
              "ticks": ""
             }
            },
            "type": "scattercarpet"
           }
          ],
          "scattergeo": [
           {
            "marker": {
             "colorbar": {
              "outlinewidth": 0,
              "ticks": ""
             }
            },
            "type": "scattergeo"
           }
          ],
          "scattergl": [
           {
            "marker": {
             "colorbar": {
              "outlinewidth": 0,
              "ticks": ""
             }
            },
            "type": "scattergl"
           }
          ],
          "scattermapbox": [
           {
            "marker": {
             "colorbar": {
              "outlinewidth": 0,
              "ticks": ""
             }
            },
            "type": "scattermapbox"
           }
          ],
          "scatterpolar": [
           {
            "marker": {
             "colorbar": {
              "outlinewidth": 0,
              "ticks": ""
             }
            },
            "type": "scatterpolar"
           }
          ],
          "scatterpolargl": [
           {
            "marker": {
             "colorbar": {
              "outlinewidth": 0,
              "ticks": ""
             }
            },
            "type": "scatterpolargl"
           }
          ],
          "scatterternary": [
           {
            "marker": {
             "colorbar": {
              "outlinewidth": 0,
              "ticks": ""
             }
            },
            "type": "scatterternary"
           }
          ],
          "surface": [
           {
            "colorbar": {
             "outlinewidth": 0,
             "ticks": ""
            },
            "colorscale": [
             [
              0,
              "#0d0887"
             ],
             [
              0.1111111111111111,
              "#46039f"
             ],
             [
              0.2222222222222222,
              "#7201a8"
             ],
             [
              0.3333333333333333,
              "#9c179e"
             ],
             [
              0.4444444444444444,
              "#bd3786"
             ],
             [
              0.5555555555555556,
              "#d8576b"
             ],
             [
              0.6666666666666666,
              "#ed7953"
             ],
             [
              0.7777777777777778,
              "#fb9f3a"
             ],
             [
              0.8888888888888888,
              "#fdca26"
             ],
             [
              1,
              "#f0f921"
             ]
            ],
            "type": "surface"
           }
          ],
          "table": [
           {
            "cells": {
             "fill": {
              "color": "#EBF0F8"
             },
             "line": {
              "color": "white"
             }
            },
            "header": {
             "fill": {
              "color": "#C8D4E3"
             },
             "line": {
              "color": "white"
             }
            },
            "type": "table"
           }
          ]
         },
         "layout": {
          "annotationdefaults": {
           "arrowcolor": "#2a3f5f",
           "arrowhead": 0,
           "arrowwidth": 1
          },
          "autotypenumbers": "strict",
          "coloraxis": {
           "colorbar": {
            "outlinewidth": 0,
            "ticks": ""
           }
          },
          "colorscale": {
           "diverging": [
            [
             0,
             "#8e0152"
            ],
            [
             0.1,
             "#c51b7d"
            ],
            [
             0.2,
             "#de77ae"
            ],
            [
             0.3,
             "#f1b6da"
            ],
            [
             0.4,
             "#fde0ef"
            ],
            [
             0.5,
             "#f7f7f7"
            ],
            [
             0.6,
             "#e6f5d0"
            ],
            [
             0.7,
             "#b8e186"
            ],
            [
             0.8,
             "#7fbc41"
            ],
            [
             0.9,
             "#4d9221"
            ],
            [
             1,
             "#276419"
            ]
           ],
           "sequential": [
            [
             0,
             "#0d0887"
            ],
            [
             0.1111111111111111,
             "#46039f"
            ],
            [
             0.2222222222222222,
             "#7201a8"
            ],
            [
             0.3333333333333333,
             "#9c179e"
            ],
            [
             0.4444444444444444,
             "#bd3786"
            ],
            [
             0.5555555555555556,
             "#d8576b"
            ],
            [
             0.6666666666666666,
             "#ed7953"
            ],
            [
             0.7777777777777778,
             "#fb9f3a"
            ],
            [
             0.8888888888888888,
             "#fdca26"
            ],
            [
             1,
             "#f0f921"
            ]
           ],
           "sequentialminus": [
            [
             0,
             "#0d0887"
            ],
            [
             0.1111111111111111,
             "#46039f"
            ],
            [
             0.2222222222222222,
             "#7201a8"
            ],
            [
             0.3333333333333333,
             "#9c179e"
            ],
            [
             0.4444444444444444,
             "#bd3786"
            ],
            [
             0.5555555555555556,
             "#d8576b"
            ],
            [
             0.6666666666666666,
             "#ed7953"
            ],
            [
             0.7777777777777778,
             "#fb9f3a"
            ],
            [
             0.8888888888888888,
             "#fdca26"
            ],
            [
             1,
             "#f0f921"
            ]
           ]
          },
          "colorway": [
           "#636efa",
           "#EF553B",
           "#00cc96",
           "#ab63fa",
           "#FFA15A",
           "#19d3f3",
           "#FF6692",
           "#B6E880",
           "#FF97FF",
           "#FECB52"
          ],
          "font": {
           "color": "#2a3f5f"
          },
          "geo": {
           "bgcolor": "white",
           "lakecolor": "white",
           "landcolor": "#E5ECF6",
           "showlakes": true,
           "showland": true,
           "subunitcolor": "white"
          },
          "hoverlabel": {
           "align": "left"
          },
          "hovermode": "closest",
          "mapbox": {
           "style": "light"
          },
          "paper_bgcolor": "white",
          "plot_bgcolor": "#E5ECF6",
          "polar": {
           "angularaxis": {
            "gridcolor": "white",
            "linecolor": "white",
            "ticks": ""
           },
           "bgcolor": "#E5ECF6",
           "radialaxis": {
            "gridcolor": "white",
            "linecolor": "white",
            "ticks": ""
           }
          },
          "scene": {
           "xaxis": {
            "backgroundcolor": "#E5ECF6",
            "gridcolor": "white",
            "gridwidth": 2,
            "linecolor": "white",
            "showbackground": true,
            "ticks": "",
            "zerolinecolor": "white"
           },
           "yaxis": {
            "backgroundcolor": "#E5ECF6",
            "gridcolor": "white",
            "gridwidth": 2,
            "linecolor": "white",
            "showbackground": true,
            "ticks": "",
            "zerolinecolor": "white"
           },
           "zaxis": {
            "backgroundcolor": "#E5ECF6",
            "gridcolor": "white",
            "gridwidth": 2,
            "linecolor": "white",
            "showbackground": true,
            "ticks": "",
            "zerolinecolor": "white"
           }
          },
          "shapedefaults": {
           "line": {
            "color": "#2a3f5f"
           }
          },
          "ternary": {
           "aaxis": {
            "gridcolor": "white",
            "linecolor": "white",
            "ticks": ""
           },
           "baxis": {
            "gridcolor": "white",
            "linecolor": "white",
            "ticks": ""
           },
           "bgcolor": "#E5ECF6",
           "caxis": {
            "gridcolor": "white",
            "linecolor": "white",
            "ticks": ""
           }
          },
          "title": {
           "x": 0.05
          },
          "xaxis": {
           "automargin": true,
           "gridcolor": "white",
           "linecolor": "white",
           "ticks": "",
           "title": {
            "standoff": 15
           },
           "zerolinecolor": "white",
           "zerolinewidth": 2
          },
          "yaxis": {
           "automargin": true,
           "gridcolor": "white",
           "linecolor": "white",
           "ticks": "",
           "title": {
            "standoff": 15
           },
           "zerolinecolor": "white",
           "zerolinewidth": 2
          }
         }
        }
       }
      }
     },
     "metadata": {},
     "output_type": "display_data"
    }
   ],
   "source": [
    "\n",
    "path = Path(r\"output_eer_T1[0.100,1.400,0.100]_T2[0.020,0.120,0.001].csv\")\n",
    "eer = plot_df(path)"
   ]
  }
 ],
 "metadata": {
  "kernelspec": {
   "display_name": "cipr",
   "language": "python",
   "name": "python3"
  },
  "language_info": {
   "codemirror_mode": {
    "name": "ipython",
    "version": 3
   },
   "file_extension": ".py",
   "mimetype": "text/x-python",
   "name": "python",
   "nbconvert_exporter": "python",
   "pygments_lexer": "ipython3",
   "version": "3.11.5"
  }
 },
 "nbformat": 4,
 "nbformat_minor": 2
}
