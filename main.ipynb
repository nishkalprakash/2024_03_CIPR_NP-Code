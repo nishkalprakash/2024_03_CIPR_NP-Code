{
 "cells": [
  {
   "cell_type": "markdown",
   "metadata": {},
   "source": [
    "# Execute the entire pipeline\n",
    "\n",
    "step 1: load database\n",
    "\n",
    "step 2: generate indirect features\n",
    "\n",
    "step 3: match with 2 thresholds\n",
    "\n",
    "step 4: iterate with possible values of 3rd threshold and store results\n",
    "\n",
    "step 5: repeat step 3 and 4 until best triplet of threshold is achieved"
   ]
  },
  {
   "cell_type": "markdown",
   "metadata": {},
   "source": [
    "### Import libraries"
   ]
  },
  {
   "cell_type": "code",
   "execution_count": 1,
   "metadata": {},
   "outputs": [],
   "source": [
    "import json\n",
    "import pandas as pd\n",
    "import generatefeatures as gf\n",
    "import matcher as mc\n",
    "import thresholdtester as tt\n",
    "import numpy as np\n"
   ]
  },
  {
   "cell_type": "markdown",
   "metadata": {},
   "source": [
    "## Step 1: load database"
   ]
  },
  {
   "cell_type": "code",
   "execution_count": 2,
   "metadata": {},
   "outputs": [],
   "source": [
    "json_files = ['Datasets/FVC2002_DB1_A_fingernet.json']\n",
    "df = pd.read_json(json_files[0],orient='records')"
   ]
  },
  {
   "cell_type": "markdown",
   "metadata": {},
   "source": [
    "## Step 2: Generate Indirect feature"
   ]
  },
  {
   "cell_type": "code",
   "execution_count": 3,
   "metadata": {},
   "outputs": [],
   "source": [
    "fea = gf.generatefeatures(df)"
   ]
  },
  {
   "cell_type": "markdown",
   "metadata": {},
   "source": [
    "## Exhaustive matching with 2 thresholds for log ratio and angle relation and finding best threshold triplet"
   ]
  },
  {
   "cell_type": "code",
   "execution_count": 4,
   "metadata": {},
   "outputs": [],
   "source": [
    "# set threshold values\n",
    "threshold = []\n",
    "for i in range(100):\n",
    "    for j in range(100):\n",
    "        threshold.append([i/100, j/100])"
   ]
  },
  {
   "cell_type": "code",
   "execution_count": 5,
   "metadata": {},
   "outputs": [],
   "source": [
    "# np.array(threshold)[:10]"
   ]
  },
  {
   "cell_type": "code",
   "execution_count": null,
   "metadata": {},
   "outputs": [],
   "source": [
    "# define arrays to store f1_score and mcc_score\n",
    "f1_score = []\n",
    "mcc_score = []\n",
    "\n",
    "# loop over all threshold values\n",
    "# also print threshold values and iteration number in a table format\n",
    "print(\"Threshold 1 \\t Threshold 2 \\t Iteration\")\n",
    "for i in range(100):\n",
    "    for j in range(100):\n",
    "        a = threshold[100 * i + j][0]\n",
    "        b = threshold[100 * i + j][1]\n",
    "        similarity_matrix = mc.match(fea, a, b)\n",
    "        f1_sc = tt.calculate_f1_score(similarity_matrix, a, b)\n",
    "        mcc_sc = tt.calculate_MCC_score(similarity_matrix, a, b)\n",
    "        f1_score.append(f1_sc)\n",
    "        mcc_score.append(mcc_sc)\n",
    "        # print threshold values and iteration number in a table format\n",
    "        print(\"{0:.2f}\".format(a), \"\\t\\t\", \"{0:.2f}\".format(b), \"\\t\\t\", 100 * i + j)\n",
    "        "
   ]
  }
 ],
 "metadata": {
  "kernelspec": {
   "display_name": "Python 3",
   "language": "python",
   "name": "python3"
  },
  "language_info": {
   "codemirror_mode": {
    "name": "ipython",
    "version": 3
   },
   "file_extension": ".py",
   "mimetype": "text/x-python",
   "name": "python",
   "nbconvert_exporter": "python",
   "pygments_lexer": "ipython3",
   "version": "3.10.13"
  }
 },
 "nbformat": 4,
 "nbformat_minor": 2
}
