{
 "cells": [
  {
   "cell_type": "markdown",
   "metadata": {},
   "source": [
    "# Execute the entire pipeline\n",
    "\n",
    "step 1: load database\n",
    "\n",
    "step 2: generate indirect features\n",
    "\n",
    "step 3: match with 2 thresholds\n",
    "\n",
    "step 4: iterate with possible values of 3rd threshold and store results\n",
    "\n",
    "step 5: repeat step 3 and 4 until best triplet of threshold is achieved"
   ]
  },
  {
   "cell_type": "markdown",
   "metadata": {},
   "source": [
    "### Import libraries"
   ]
  },
  {
   "cell_type": "code",
   "execution_count": 1,
   "metadata": {},
   "outputs": [],
   "source": [
    "# import json\n",
    "import pandas as pd\n",
    "import generatefeatures as gf\n",
    "import matcher as mc\n",
    "import thresholdtester as tt\n",
    "import numpy as np\n"
   ]
  },
  {
   "cell_type": "markdown",
   "metadata": {},
   "source": [
    "## Step 1: load database"
   ]
  },
  {
   "cell_type": "code",
   "execution_count": 2,
   "metadata": {},
   "outputs": [],
   "source": [
    "json_files = [r'Datasets\\anguli_10_100_fingernet.json']\n",
    "df = pd.read_json(json_files[0],orient='records')"
   ]
  },
  {
   "cell_type": "code",
   "execution_count": 3,
   "metadata": {},
   "outputs": [
    {
     "ename": "KeyboardInterrupt",
     "evalue": "",
     "output_type": "error",
     "traceback": [
      "\u001b[1;31m---------------------------------------------------------------------------\u001b[0m",
      "\u001b[1;31mKeyboardInterrupt\u001b[0m                         Traceback (most recent call last)",
      "\u001b[1;32md:\\Acads\\BTP\\Code\\final\\main.ipynb Cell 6\u001b[0m line \u001b[0;36m1\n\u001b[1;32m----> <a href='vscode-notebook-cell:/d%3A/Acads/BTP/Code/final/main.ipynb#X16sZmlsZQ%3D%3D?line=0'>1</a>\u001b[0m new_df \u001b[39m=\u001b[39m gf\u001b[39m.\u001b[39;49mpair_selector(df, \u001b[39m3\u001b[39;49m)\n",
      "File \u001b[1;32md:\\Acads\\BTP\\Code\\final\\generatefeatures.py:98\u001b[0m, in \u001b[0;36mpair_selector\u001b[1;34m(db, seed_count)\u001b[0m\n\u001b[0;32m     95\u001b[0m \u001b[39melse\u001b[39;00m:\n\u001b[0;32m     96\u001b[0m     \u001b[39mwhile\u001b[39;00m \u001b[39mTrue\u001b[39;00m:\n\u001b[0;32m     97\u001b[0m         \u001b[39m# generate a random interger\u001b[39;00m\n\u001b[1;32m---> 98\u001b[0m         i \u001b[39m=\u001b[39m rn\u001b[39m.\u001b[39;49mrandint(\u001b[39m0\u001b[39;49m, impression_count \u001b[39m-\u001b[39;49m \u001b[39m1\u001b[39;49m)\n\u001b[0;32m     99\u001b[0m         \u001b[39m# check if i already lies in index_tuple array\u001b[39;00m\n\u001b[0;32m    100\u001b[0m         \u001b[39mfor\u001b[39;00m j \u001b[39min\u001b[39;00m index_tuple:\n",
      "File \u001b[1;32mC:\\Program Files\\WindowsApps\\PythonSoftwareFoundation.Python.3.11_3.11.1776.0_x64__qbz5n2kfra8p0\\Lib\\random.py:358\u001b[0m, in \u001b[0;36mRandom.randint\u001b[1;34m(self, a, b)\u001b[0m\n\u001b[0;32m    355\u001b[0m         \u001b[39mraise\u001b[39;00m \u001b[39mValueError\u001b[39;00m(\u001b[39m\"\u001b[39m\u001b[39mempty range for randrange()\u001b[39m\u001b[39m\"\u001b[39m)\n\u001b[0;32m    356\u001b[0m     \u001b[39mreturn\u001b[39;00m istart \u001b[39m+\u001b[39m istep \u001b[39m*\u001b[39m \u001b[39mself\u001b[39m\u001b[39m.\u001b[39m_randbelow(n)\n\u001b[1;32m--> 358\u001b[0m \u001b[39mdef\u001b[39;00m \u001b[39mrandint\u001b[39m(\u001b[39mself\u001b[39m, a, b):\n\u001b[0;32m    359\u001b[0m \u001b[39m    \u001b[39m\u001b[39m\"\"\"Return random integer in range [a, b], including both end points.\u001b[39;00m\n\u001b[0;32m    360\u001b[0m \u001b[39m    \"\"\"\u001b[39;00m\n\u001b[0;32m    362\u001b[0m     \u001b[39mreturn\u001b[39;00m \u001b[39mself\u001b[39m\u001b[39m.\u001b[39mrandrange(a, b\u001b[39m+\u001b[39m\u001b[39m1\u001b[39m)\n",
      "\u001b[1;31mKeyboardInterrupt\u001b[0m: "
     ]
    }
   ],
   "source": []
  },
  {
   "cell_type": "markdown",
   "metadata": {},
   "source": [
    "## Step 2: Generate Indirect feature"
   ]
  },
  {
   "cell_type": "code",
   "execution_count": 3,
   "metadata": {},
   "outputs": [],
   "source": [
    "fea = gf.generatefeatures(df)"
   ]
  },
  {
   "cell_type": "markdown",
   "metadata": {},
   "source": [
    "## Exhaustive matching with 2 thresholds for log ratio and angle relation and finding best threshold triplet"
   ]
  },
  {
   "cell_type": "code",
   "execution_count": 4,
   "metadata": {},
   "outputs": [],
   "source": [
    "# set threshold values\n",
    "threshold = []\n",
    "for i in range(100):\n",
    "    for j in range(100):\n",
    "        threshold.append([i/100, j/100])"
   ]
  },
  {
   "cell_type": "code",
   "execution_count": null,
   "metadata": {},
   "outputs": [],
   "source": [
    "# define arrays to store f1_score and mcc_score\n",
    "f1_score = []\n",
    "mcc_score = []\n",
    "\n",
    "# loop over all threshold values\n",
    "# also print threshold values and iteration number in a table format\n",
    "print(\"Threshold 1 \\t Threshold 2 \\t Iteration\")\n",
    "for i in range(100):\n",
    "    for j in range(100):\n",
    "        a = threshold[100 * i + j][0]\n",
    "        b = threshold[100 * i + j][1]\n",
    "        similarity_matrix = mc.match(fea, a, b)\n",
    "        f1_sc = tt.calculate_f1_score(similarity_matrix, a, b)\n",
    "        mcc_sc = tt.calculate_MCC_score(similarity_matrix, a, b)\n",
    "        f1_score.append(f1_sc)\n",
    "        mcc_score.append(mcc_sc)\n",
    "        # print threshold values and iteration number in a table format\n",
    "        print(\"{0:.2f}\".format(a), \"\\t\\t\", \"{0:.2f}\".format(b), \"\\t\\t\", 100 * i + j)\n",
    "        "
   ]
  },
  {
   "cell_type": "code",
   "execution_count": null,
   "metadata": {},
   "outputs": [],
   "source": [
    "\n",
    "# define arrays to store f1_score and mcc_score\n",
    "f1_score = []\n",
    "mcc_score = []\n",
    "\n",
    "# loop over all threshold values\n",
    "# also print threshold values and iteration number in a table format\n",
    "print(\"Threshold 1 \\t Threshold 2 \\t Iteration\")\n",
    "for i in range(100):\n",
    "    for j in range(100):\n",
    "        a = threshold[100 * i + j][0]\n",
    "        b = threshold[100 * i + j][1]\n",
    "        similarity_matrix = mc.match(fea, a, b)\n",
    "        f1_sc = tt.calculate_f1_score(similarity_matrix, a, b)\n",
    "        mcc_sc = tt.calculate_MCC_score(similarity_matrix, a, b)\n",
    "        f1_score.append(f1_sc)\n",
    "        mcc_score.append(mcc_sc)\n",
    "        # print threshold values and iteration number in a table format\n",
    "        print(\"{0:.2f}\".format(a), \"\\t\\t\", \"{0:.2f}\".format(b), \"\\t\\t\", 100 * i + j)"
   ]
  },
  {
   "cell_type": "code",
   "execution_count": 7,
   "metadata": {},
   "outputs": [
    {
     "name": "stdout",
     "output_type": "stream",
     "text": [
      "Note: you may need to restart the kernel to use updated packages.\n"
     ]
    },
    {
     "name": "stderr",
     "output_type": "stream",
     "text": [
      "ERROR: Could not find a version that satisfies the requirement os (from versions: none)\n",
      "ERROR: No matching distribution found for os\n"
     ]
    }
   ],
   "source": [
    "%pip install os"
   ]
  },
  {
   "cell_type": "code",
   "execution_count": null,
   "metadata": {},
   "outputs": [],
   "source": []
  }
 ],
 "metadata": {
  "kernelspec": {
   "display_name": "Python 3",
   "language": "python",
   "name": "python3"
  },
  "language_info": {
   "codemirror_mode": {
    "name": "ipython",
    "version": 3
   },
   "file_extension": ".py",
   "mimetype": "text/x-python",
   "name": "python",
   "nbconvert_exporter": "python",
   "pygments_lexer": "ipython3",
   "version": "3.11.6"
  }
 },
 "nbformat": 4,
 "nbformat_minor": 2
}
